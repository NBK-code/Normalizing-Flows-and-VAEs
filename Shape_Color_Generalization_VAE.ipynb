{
  "nbformat": 4,
  "nbformat_minor": 0,
  "metadata": {
    "colab": {
      "provenance": [],
      "authorship_tag": "ABX9TyPetF4wUExnxQvqkuK2dNcn",
      "include_colab_link": true
    },
    "kernelspec": {
      "name": "python3",
      "display_name": "Python 3"
    },
    "language_info": {
      "name": "python"
    },
    "gpuClass": "standard",
    "accelerator": "GPU"
  },
  "cells": [
    {
      "cell_type": "markdown",
      "metadata": {
        "id": "view-in-github",
        "colab_type": "text"
      },
      "source": [
        "<a href=\"https://colab.research.google.com/github/NBK-code/Normalizing-Flows-and-VAEs/blob/main/Shape_Color_Generalization_VAE.ipynb\" target=\"_parent\"><img src=\"https://colab.research.google.com/assets/colab-badge.svg\" alt=\"Open In Colab\"/></a>"
      ]
    },
    {
      "cell_type": "code",
      "execution_count": 1,
      "metadata": {
        "id": "IT8KNdqNba4B"
      },
      "outputs": [],
      "source": [
        "import tensorflow as tf\n",
        "import tensorflow_probability as tfp\n",
        "tfd = tfp.distributions\n",
        "tfpl = tfp.layers\n",
        "\n",
        "import random\n",
        "from sklearn.model_selection import train_test_split\n",
        "\n",
        "from tensorflow.keras import Sequential, Model\n",
        "from tensorflow.keras.layers import Dense, Flatten, Reshape, Concatenate\n",
        "from tensorflow.keras.layers import Conv2D, UpSampling2D, BatchNormalization"
      ]
    },
    {
      "cell_type": "code",
      "source": [
        "import pathlib\n",
        "import cv2\n",
        "import numpy as np\n",
        "import matplotlib.pyplot as plt\n",
        "%matplotlib inline"
      ],
      "metadata": {
        "id": "wE43AlahdHqR"
      },
      "execution_count": 2,
      "outputs": []
    },
    {
      "cell_type": "code",
      "source": [
        "from zipfile import ZipFile\n",
        "file_name = 'shape_color.zip'\n",
        "\n",
        "with ZipFile(file_name,'r') as zip:\n",
        "  zip.extractall()\n",
        "  print('Done!')"
      ],
      "metadata": {
        "colab": {
          "base_uri": "https://localhost:8080/"
        },
        "id": "QeTnB9QqdWG0",
        "outputId": "0c4188f9-30ed-4b5b-af5a-6e0afa9f6603"
      },
      "execution_count": 3,
      "outputs": [
        {
          "output_type": "stream",
          "name": "stdout",
          "text": [
            "Done!\n"
          ]
        }
      ]
    },
    {
      "cell_type": "code",
      "source": [
        "data_dir_red_dots = pathlib.Path('/content/red_dots')\n",
        "data_dir_blue_dots = pathlib.Path('/content/blue_dots')\n",
        "data_dir_blue_triangles = pathlib.Path('/content/blue_triangles')"
      ],
      "metadata": {
        "id": "z8o2dX5vgAmj"
      },
      "execution_count": 4,
      "outputs": []
    },
    {
      "cell_type": "code",
      "source": [
        "print('The number of red dot images:', len(list(data_dir_red_dots.glob('*.png'))))\n",
        "print('The number of blue dot images:', len(list(data_dir_blue_dots.glob('*.png'))))\n",
        "print('The number of blue triangle images:', len(list(data_dir_blue_triangles.glob('*.png'))))"
      ],
      "metadata": {
        "colab": {
          "base_uri": "https://localhost:8080/"
        },
        "id": "o3GMY068hFjC",
        "outputId": "57bcf8e0-0df6-42bb-8bb1-36dbf9dedb6d"
      },
      "execution_count": 5,
      "outputs": [
        {
          "output_type": "stream",
          "name": "stdout",
          "text": [
            "The number of red dot images: 3000\n",
            "The number of blue dot images: 3000\n",
            "The number of blue triangle images: 3000\n"
          ]
        }
      ]
    },
    {
      "cell_type": "code",
      "source": [
        "images_dict = {\n",
        "    'red_dot_images': list(data_dir_red_dots.glob('*')),\n",
        "    'blue_dot_images': list(data_dir_blue_dots.glob('*')),\n",
        "    'blue_triangle_images': list(data_dir_blue_triangles.glob('*'))\n",
        "}"
      ],
      "metadata": {
        "id": "wgta2mX8hc_I"
      },
      "execution_count": 6,
      "outputs": []
    },
    {
      "cell_type": "code",
      "source": [
        "shape_color_images = []\n",
        "\n",
        "for category, images in images_dict.items():\n",
        "    for image in images:\n",
        "        img = cv2.imread(str(image))\n",
        "        resized_img = cv2.resize(img,(72,72))\n",
        "        shape_color_images.append(resized_img)"
      ],
      "metadata": {
        "id": "FzPmvMe_h96E"
      },
      "execution_count": 7,
      "outputs": []
    },
    {
      "cell_type": "code",
      "source": [
        "len(shape_color_images)"
      ],
      "metadata": {
        "colab": {
          "base_uri": "https://localhost:8080/"
        },
        "id": "1hXzD7GqigTJ",
        "outputId": "5f65bff8-5c7d-4092-845b-d5983dd527b4"
      },
      "execution_count": 8,
      "outputs": [
        {
          "output_type": "execute_result",
          "data": {
            "text/plain": [
              "9000"
            ]
          },
          "metadata": {},
          "execution_count": 8
        }
      ]
    },
    {
      "cell_type": "code",
      "source": [
        "plt.imshow(shape_color_images[101])"
      ],
      "metadata": {
        "colab": {
          "base_uri": "https://localhost:8080/",
          "height": 285
        },
        "id": "DflZ-0-7itCo",
        "outputId": "93716201-6927-4146-be3c-89982caad556"
      },
      "execution_count": 9,
      "outputs": [
        {
          "output_type": "execute_result",
          "data": {
            "text/plain": [
              "<matplotlib.image.AxesImage at 0x7fbe10a3bb20>"
            ]
          },
          "metadata": {},
          "execution_count": 9
        },
        {
          "output_type": "display_data",
          "data": {
            "text/plain": [
              "<Figure size 432x288 with 1 Axes>"
            ],
            "image/png": "[encoded data removed]"
          },
          "metadata": {
            "needs_background": "light"
          }
        }
      ]
    },
    {
      "cell_type": "code",
      "source": [
        "plt.imshow(shape_color_images[4011])"
      ],
      "metadata": {
        "colab": {
          "base_uri": "https://localhost:8080/",
          "height": 285
        },
        "id": "rByoBvYKixe9",
        "outputId": "a2981988-67a8-452a-eb2c-ec821690696e"
      },
      "execution_count": 10,
      "outputs": [
        {
          "output_type": "execute_result",
          "data": {
            "text/plain": [
              "<matplotlib.image.AxesImage at 0x7fbe109dc2b0>"
            ]
          },
          "metadata": {},
          "execution_count": 10
        },
        {
          "output_type": "display_data",
          "data": {
            "text/plain": [
              "<Figure size 432x288 with 1 Axes>"
            ],
            "image/png": "[encoded data removed]"
          },
          "metadata": {
            "needs_background": "light"
          }
        }
      ]
    },
    {
      "cell_type": "code",
      "source": [
        "plt.imshow(shape_color_images[6011])"
      ],
      "metadata": {
        "colab": {
          "base_uri": "https://localhost:8080/",
          "height": 285
        },
        "id": "3Kl5cqeUi3B3",
        "outputId": "7dc21222-f8cb-459b-c79a-755a7ff6af2c"
      },
      "execution_count": 11,
      "outputs": [
        {
          "output_type": "execute_result",
          "data": {
            "text/plain": [
              "<matplotlib.image.AxesImage at 0x7fbe104e5970>"
            ]
          },
          "metadata": {},
          "execution_count": 11
        },
        {
          "output_type": "display_data",
          "data": {
            "text/plain": [
              "<Figure size 432x288 with 1 Axes>"
            ],
            "image/png": "[encoded data removed]"
          },
          "metadata": {
            "needs_background": "light"
          }
        }
      ]
    },
    {
      "cell_type": "code",
      "source": [
        "image_data = np.array(shape_color_images)"
      ],
      "metadata": {
        "id": "796wrx1pi8Hl"
      },
      "execution_count": 12,
      "outputs": []
    },
    {
      "cell_type": "code",
      "source": [
        "image_data.shape"
      ],
      "metadata": {
        "colab": {
          "base_uri": "https://localhost:8080/"
        },
        "id": "Gg9MgV64kK8M",
        "outputId": "637a4382-f0e2-4e94-a302-ae583b54aeaa"
      },
      "execution_count": 13,
      "outputs": [
        {
          "output_type": "execute_result",
          "data": {
            "text/plain": [
              "(9000, 72, 72, 3)"
            ]
          },
          "metadata": {},
          "execution_count": 13
        }
      ]
    },
    {
      "cell_type": "code",
      "source": [
        "np.random.shuffle(image_data)"
      ],
      "metadata": {
        "id": "gFR0OcnRlPsw"
      },
      "execution_count": 14,
      "outputs": []
    },
    {
      "cell_type": "code",
      "source": [
        "train_images, val_images = train_test_split(image_data, test_size = 0.05)"
      ],
      "metadata": {
        "id": "rDHESrBWl6Zs"
      },
      "execution_count": 15,
      "outputs": []
    },
    {
      "cell_type": "code",
      "source": [
        "print(train_images.shape)\n",
        "print(val_images.shape)"
      ],
      "metadata": {
        "colab": {
          "base_uri": "https://localhost:8080/"
        },
        "id": "dvNgqvuzmYvb",
        "outputId": "cb3d20ec-c8a9-4ea9-9b79-2afeb7f43cf9"
      },
      "execution_count": 16,
      "outputs": [
        {
          "output_type": "stream",
          "name": "stdout",
          "text": [
            "(8550, 72, 72, 3)\n",
            "(450, 72, 72, 3)\n"
          ]
        }
      ]
    },
    {
      "cell_type": "code",
      "source": [
        "# Create train and validation datasets\n",
        "\n",
        "train_dataset = tf.data.Dataset.from_tensor_slices(train_images)\n",
        "val_dataset = tf.data.Dataset.from_tensor_slices(val_images)"
      ],
      "metadata": {
        "id": "Po7kyAG_mg-Q"
      },
      "execution_count": 17,
      "outputs": []
    },
    {
      "cell_type": "code",
      "source": [
        "# Function to scale images\n",
        "\n",
        "def scale_images(image):\n",
        "  return tf.cast(image, tf.float32)/255.0"
      ],
      "metadata": {
        "id": "In8UYM8zmlsK"
      },
      "execution_count": 18,
      "outputs": []
    },
    {
      "cell_type": "code",
      "source": [
        "# Apply scale function to the datasets\n",
        "\n",
        "train_dataset = train_dataset.map(scale_images)\n",
        "val_dataset = val_dataset.map(scale_images)"
      ],
      "metadata": {
        "id": "yBD-6GNdmqcV"
      },
      "execution_count": 19,
      "outputs": []
    },
    {
      "cell_type": "code",
      "source": [
        "# Function to return a tuple\n",
        "\n",
        "def return_tuple(image):\n",
        "  return image, image"
      ],
      "metadata": {
        "id": "zz2xpKbgmvso"
      },
      "execution_count": 20,
      "outputs": []
    },
    {
      "cell_type": "code",
      "source": [
        "# Apply tuple function to the datasets\n",
        "\n",
        "train_dataset = train_dataset.map(return_tuple)\n",
        "val_dataset = val_dataset.map(return_tuple)"
      ],
      "metadata": {
        "id": "m8B-xR_zm2Es"
      },
      "execution_count": 21,
      "outputs": []
    },
    {
      "cell_type": "code",
      "source": [
        "# Shuffle the datasets\n",
        "\n",
        "train_dataset = train_dataset.shuffle(1000)"
      ],
      "metadata": {
        "id": "OiQntfXcm6fo"
      },
      "execution_count": 22,
      "outputs": []
    },
    {
      "cell_type": "code",
      "source": [
        "# Batch the datasets\n",
        "\n",
        "train_dataset = train_dataset.batch(60, drop_remainder=True)\n",
        "val_dataset = val_dataset.batch(60, drop_remainder=True)"
      ],
      "metadata": {
        "id": "HM5i4nd2m-9z"
      },
      "execution_count": 23,
      "outputs": []
    },
    {
      "cell_type": "code",
      "source": [
        "print(train_dataset.element_spec)\n",
        "print(val_dataset.element_spec)"
      ],
      "metadata": {
        "colab": {
          "base_uri": "https://localhost:8080/"
        },
        "id": "loGOFf3YnIrf",
        "outputId": "31acc5b7-27ec-4a5d-e4b6-9824982bc422"
      },
      "execution_count": 24,
      "outputs": [
        {
          "output_type": "stream",
          "name": "stdout",
          "text": [
            "(TensorSpec(shape=(60, 72, 72, 3), dtype=tf.float32, name=None), TensorSpec(shape=(60, 72, 72, 3), dtype=tf.float32, name=None))\n",
            "(TensorSpec(shape=(60, 72, 72, 3), dtype=tf.float32, name=None), TensorSpec(shape=(60, 72, 72, 3), dtype=tf.float32, name=None))\n"
          ]
        }
      ]
    },
    {
      "cell_type": "code",
      "source": [
        "# Function to get prior\n",
        "\n",
        "def get_prior(latent_dim):\n",
        "\n",
        "  loc = tf.zeros(shape = (latent_dim,))\n",
        "  prior = tfd.MultivariateNormalDiag(loc = loc)\n",
        "\n",
        "  return prior"
      ],
      "metadata": {
        "id": "FeBJPGennN_T"
      },
      "execution_count": 25,
      "outputs": []
    },
    {
      "cell_type": "code",
      "source": [
        "def get_encoder(latent_dim, prior_dist):\n",
        "    \n",
        "    encoder = Sequential([\n",
        "        Conv2D(4, (4,4), activation = 'relu', strides = (2,2), padding = 'SAME', \n",
        "               input_shape = (72, 72, 3)),\n",
        "        BatchNormalization(),\n",
        "        Conv2D(8, (4,4), activation = 'relu', strides = (2,2), padding = 'SAME'),\n",
        "        BatchNormalization(),\n",
        "        Conv2D(16, (4,4), activation = 'relu', strides = (2,2), padding = 'SAME'),\n",
        "        BatchNormalization(),\n",
        "        Conv2D(32, (4,4), activation = 'relu', strides = (2,2), padding = 'SAME'),\n",
        "        BatchNormalization(),\n",
        "        Conv2D(32, (4,4), activation = 'relu', strides = (2,2), padding = 'SAME'),\n",
        "        BatchNormalization(),\n",
        "        Conv2D(64, (4,4), activation = 'relu', strides = (2,2), padding = 'SAME'),\n",
        "        BatchNormalization(),\n",
        "        Conv2D(256, (4,4), activation = 'relu', strides = (2,2), padding = 'SAME'),\n",
        "        BatchNormalization(),\n",
        "        Flatten(),\n",
        "        Dense(256, activation = 'relu'),\n",
        "        Dense(256, activation = 'relu'),\n",
        "        Dense(128, activation = 'relu'),\n",
        "        Dense(128, activation = 'relu'),\n",
        "        Dense(64, activation = 'relu'),\n",
        "        Dense(64, activation = 'relu'),\n",
        "        Dense(32, activation = 'relu'),\n",
        "        Dense(32, activation = 'relu'),\n",
        "        Dense(tfpl.MultivariateNormalTriL.params_size(latent_dim)),\n",
        "        tfpl.MultivariateNormalTriL(latent_dim,\n",
        "                                    activity_regularizer = tfpl.KLDivergenceRegularizer(prior_dist, \n",
        "                                                  weight = 1.0,\n",
        "                                                  use_exact_kl = False, \n",
        "                                                  test_points_fn = lambda q: q.sample(3), \n",
        "                                                  test_points_reduce_axis = None))        \n",
        "    ])\n",
        "    \n",
        "    return encoder"
      ],
      "metadata": {
        "id": "tmK6lvfsnVkE"
      },
      "execution_count": 26,
      "outputs": []
    },
    {
      "cell_type": "code",
      "source": [
        "# Function to get decoder\n",
        "\n",
        "def get_decoder(latent_dim):\n",
        "    \n",
        "    decoder = Sequential([\n",
        "        Dense(2304, activation = 'relu', input_shape = (latent_dim,)),\n",
        "        Reshape((3,3,256)),\n",
        "        UpSampling2D((2,2)),\n",
        "        Conv2D(64, (3,3), activation = 'relu', padding = 'SAME'),\n",
        "        UpSampling2D((2,2)),\n",
        "        Conv2D(64, (3,3), activation = 'relu', padding = 'SAME'),\n",
        "        UpSampling2D((2,2)),\n",
        "        Conv2D(32, (3,3), activation = 'relu', padding = 'SAME'),\n",
        "        UpSampling2D((2,2)),\n",
        "        Conv2D(32, (3,3), activation = 'relu', padding = 'SAME'),\n",
        "        UpSampling2D((2,2)),\n",
        "        Conv2D(3, (3,3), padding = 'SAME'),\n",
        "        Flatten(),\n",
        "        Dense(tfpl.IndependentBernoulli.params_size(event_shape = (72, 72, 3))),\n",
        "        tfpl.IndependentBernoulli(event_shape = (72, 72, 3))\n",
        "    ])\n",
        "    \n",
        "    return decoder"
      ],
      "metadata": {
        "id": "hEwgre-ToVZx"
      },
      "execution_count": 27,
      "outputs": []
    },
    {
      "cell_type": "code",
      "source": [
        "# Latent Dimension\n",
        "\n",
        "latent_dim = 2"
      ],
      "metadata": {
        "id": "sh6f9xzQqHKB"
      },
      "execution_count": 28,
      "outputs": []
    },
    {
      "cell_type": "code",
      "source": [
        "# Encoder summary\n",
        "\n",
        "prior_dist = get_prior(latent_dim)\n",
        "\n",
        "encoder = get_encoder(latent_dim, prior_dist)\n",
        "\n",
        "encoder.summary()"
      ],
      "metadata": {
        "colab": {
          "base_uri": "https://localhost:8080/"
        },
        "id": "nCgjbijFqNZn",
        "outputId": "7f7b738f-3682-46e3-fe90-076f231693e6"
      },
      "execution_count": 29,
      "outputs": [
        {
          "output_type": "stream",
          "name": "stdout",
          "text": [
            "Model: \"sequential\"\n",
            "_________________________________________________________________\n",
            " Layer (type)                Output Shape              Param #   \n",
            "=================================================================\n",
            " conv2d (Conv2D)             (None, 36, 36, 4)         196       \n",
            "                                                                 \n",
            " batch_normalization (BatchN  (None, 36, 36, 4)        16        \n",
            " ormalization)                                                   \n",
            "                                                                 \n",
            " conv2d_1 (Conv2D)           (None, 18, 18, 8)         520       \n",
            "                                                                 \n",
            " batch_normalization_1 (Batc  (None, 18, 18, 8)        32        \n",
            " hNormalization)                                                 \n",
            "                                                                 \n",
            " conv2d_2 (Conv2D)           (None, 9, 9, 16)          2064      \n",
            "                                                                 \n",
            " batch_normalization_2 (Batc  (None, 9, 9, 16)         64        \n",
            " hNormalization)                                                 \n",
            "                                                                 \n",
            " conv2d_3 (Conv2D)           (None, 5, 5, 32)          8224      \n",
            "                                                                 \n",
            " batch_normalization_3 (Batc  (None, 5, 5, 32)         128       \n",
            " hNormalization)                                                 \n",
            "                                                                 \n",
            " conv2d_4 (Conv2D)           (None, 3, 3, 32)          16416     \n",
            "                                                                 \n",
            " batch_normalization_4 (Batc  (None, 3, 3, 32)         128       \n",
            " hNormalization)                                                 \n",
            "                                                                 \n",
            " conv2d_5 (Conv2D)           (None, 2, 2, 64)          32832     \n",
            "                                                                 \n",
            " batch_normalization_5 (Batc  (None, 2, 2, 64)         256       \n",
            " hNormalization)                                                 \n",
            "                                                                 \n",
            " conv2d_6 (Conv2D)           (None, 1, 1, 256)         262400    \n",
            "                                                                 \n",
            " batch_normalization_6 (Batc  (None, 1, 1, 256)        1024      \n",
            " hNormalization)                                                 \n",
            "                                                                 \n",
            " flatten (Flatten)           (None, 256)               0         \n",
            "                                                                 \n",
            " dense (Dense)               (None, 256)               65792     \n",
            "                                                                 \n",
            " dense_1 (Dense)             (None, 256)               65792     \n",
            "                                                                 \n",
            " dense_2 (Dense)             (None, 128)               32896     \n",
            "                                                                 \n",
            " dense_3 (Dense)             (None, 128)               16512     \n",
            "                                                                 \n",
            " dense_4 (Dense)             (None, 64)                8256      \n",
            "                                                                 \n",
            " dense_5 (Dense)             (None, 64)                4160      \n",
            "                                                                 \n",
            " dense_6 (Dense)             (None, 32)                2080      \n",
            "                                                                 \n",
            " dense_7 (Dense)             (None, 32)                1056      \n",
            "                                                                 \n",
            " dense_8 (Dense)             (None, 5)                 165       \n",
            "                                                                 \n",
            " multivariate_normal_tri_l (  ((None, 2),              0         \n",
            " MultivariateNormalTriL)      (None, 2))                         \n",
            "                                                                 \n",
            "=================================================================\n",
            "Total params: 521,009\n",
            "Trainable params: 520,185\n",
            "Non-trainable params: 824\n",
            "_________________________________________________________________\n"
          ]
        }
      ]
    },
    {
      "cell_type": "code",
      "source": [
        "# Decoder summary\n",
        "\n",
        "decoder = get_decoder(latent_dim)\n",
        "\n",
        "decoder.summary()"
      ],
      "metadata": {
        "colab": {
          "base_uri": "https://localhost:8080/"
        },
        "id": "pxv9pbPGqReV",
        "outputId": "a641c989-a38f-4352-fa87-cba1d58922d1"
      },
      "execution_count": 30,
      "outputs": [
        {
          "output_type": "stream",
          "name": "stdout",
          "text": [
            "Model: \"sequential_1\"\n",
            "_________________________________________________________________\n",
            " Layer (type)                Output Shape              Param #   \n",
            "=================================================================\n",
            " dense_9 (Dense)             (None, 2304)              6912      \n",
            "                                                                 \n",
            " reshape (Reshape)           (None, 3, 3, 256)         0         \n",
            "                                                                 \n",
            " up_sampling2d (UpSampling2D  (None, 6, 6, 256)        0         \n",
            " )                                                               \n",
            "                                                                 \n",
            " conv2d_7 (Conv2D)           (None, 6, 6, 64)          147520    \n",
            "                                                                 \n",
            " up_sampling2d_1 (UpSampling  (None, 12, 12, 64)       0         \n",
            " 2D)                                                             \n",
            "                                                                 \n",
            " conv2d_8 (Conv2D)           (None, 12, 12, 64)        36928     \n",
            "                                                                 \n",
            " up_sampling2d_2 (UpSampling  (None, 24, 24, 64)       0         \n",
            " 2D)                                                             \n",
            "                                                                 \n",
            " conv2d_9 (Conv2D)           (None, 24, 24, 32)        18464     \n",
            "                                                                 \n",
            " up_sampling2d_3 (UpSampling  (None, 48, 48, 32)       0         \n",
            " 2D)                                                             \n",
            "                                                                 \n",
            " conv2d_10 (Conv2D)          (None, 48, 48, 32)        9248      \n",
            "                                                                 \n",
            " up_sampling2d_4 (UpSampling  (None, 96, 96, 32)       0         \n",
            " 2D)                                                             \n",
            "                                                                 \n",
            " conv2d_11 (Conv2D)          (None, 96, 96, 3)         867       \n",
            "                                                                 \n",
            " flatten_1 (Flatten)         (None, 27648)             0         \n",
            "                                                                 \n",
            " dense_10 (Dense)            (None, 15552)             429997248 \n",
            "                                                                 \n",
            " independent_bernoulli (Inde  ((None, 72, 72, 3),      0         \n",
            " pendentBernoulli)            (None, 72, 72, 3))                 \n",
            "                                                                 \n",
            "=================================================================\n",
            "Total params: 430,217,187\n",
            "Trainable params: 430,217,187\n",
            "Non-trainable params: 0\n",
            "_________________________________________________________________\n"
          ]
        }
      ]
    },
    {
      "cell_type": "code",
      "source": [
        "# Create VAE model\n",
        "\n",
        "VAE = Model(inputs=encoder.inputs, outputs=decoder(encoder.outputs))"
      ],
      "metadata": {
        "id": "4cboPBzRqfOC"
      },
      "execution_count": 31,
      "outputs": []
    },
    {
      "cell_type": "code",
      "source": [
        "# VAE summary\n",
        "\n",
        "VAE.summary()"
      ],
      "metadata": {
        "colab": {
          "base_uri": "https://localhost:8080/"
        },
        "id": "YJOywb12rBJL",
        "outputId": "cdb8cfdb-e57d-4a0d-c436-6e299b1a6665"
      },
      "execution_count": 32,
      "outputs": [
        {
          "output_type": "stream",
          "name": "stdout",
          "text": [
            "Model: \"model\"\n",
            "_________________________________________________________________\n",
            " Layer (type)                Output Shape              Param #   \n",
            "=================================================================\n",
            " conv2d_input (InputLayer)   [(None, 72, 72, 3)]       0         \n",
            "                                                                 \n",
            " conv2d (Conv2D)             (None, 36, 36, 4)         196       \n",
            "                                                                 \n",
            " batch_normalization (BatchN  (None, 36, 36, 4)        16        \n",
            " ormalization)                                                   \n",
            "                                                                 \n",
            " conv2d_1 (Conv2D)           (None, 18, 18, 8)         520       \n",
            "                                                                 \n",
            " batch_normalization_1 (Batc  (None, 18, 18, 8)        32        \n",
            " hNormalization)                                                 \n",
            "                                                                 \n",
            " conv2d_2 (Conv2D)           (None, 9, 9, 16)          2064      \n",
            "                                                                 \n",
            " batch_normalization_2 (Batc  (None, 9, 9, 16)         64        \n",
            " hNormalization)                                                 \n",
            "                                                                 \n",
            " conv2d_3 (Conv2D)           (None, 5, 5, 32)          8224      \n",
            "                                                                 \n",
            " batch_normalization_3 (Batc  (None, 5, 5, 32)         128       \n",
            " hNormalization)                                                 \n",
            "                                                                 \n",
            " conv2d_4 (Conv2D)           (None, 3, 3, 32)          16416     \n",
            "                                                                 \n",
            " batch_normalization_4 (Batc  (None, 3, 3, 32)         128       \n",
            " hNormalization)                                                 \n",
            "                                                                 \n",
            " conv2d_5 (Conv2D)           (None, 2, 2, 64)          32832     \n",
            "                                                                 \n",
            " batch_normalization_5 (Batc  (None, 2, 2, 64)         256       \n",
            " hNormalization)                                                 \n",
            "                                                                 \n",
            " conv2d_6 (Conv2D)           (None, 1, 1, 256)         262400    \n",
            "                                                                 \n",
            " batch_normalization_6 (Batc  (None, 1, 1, 256)        1024      \n",
            " hNormalization)                                                 \n",
            "                                                                 \n",
            " flatten (Flatten)           (None, 256)               0         \n",
            "                                                                 \n",
            " dense (Dense)               (None, 256)               65792     \n",
            "                                                                 \n",
            " dense_1 (Dense)             (None, 256)               65792     \n",
            "                                                                 \n",
            " dense_2 (Dense)             (None, 128)               32896     \n",
            "                                                                 \n",
            " dense_3 (Dense)             (None, 128)               16512     \n",
            "                                                                 \n",
            " dense_4 (Dense)             (None, 64)                8256      \n",
            "                                                                 \n",
            " dense_5 (Dense)             (None, 64)                4160      \n",
            "                                                                 \n",
            " dense_6 (Dense)             (None, 32)                2080      \n",
            "                                                                 \n",
            " dense_7 (Dense)             (None, 32)                1056      \n",
            "                                                                 \n",
            " dense_8 (Dense)             (None, 5)                 165       \n",
            "                                                                 \n",
            " multivariate_normal_tri_l (  ((None, 2),              0         \n",
            " MultivariateNormalTriL)      (None, 2))                         \n",
            "                                                                 \n",
            " sequential_1 (Sequential)   (None, 72, 72, 3)         430217187 \n",
            "                                                                 \n",
            "=================================================================\n",
            "Total params: 430,738,196\n",
            "Trainable params: 430,737,372\n",
            "Non-trainable params: 824\n",
            "_________________________________________________________________\n"
          ]
        }
      ]
    },
    {
      "cell_type": "code",
      "source": [
        "# Loss function\n",
        "\n",
        "def reconstruction_loss(batch_of_images, decoding_dist):\n",
        "    \n",
        "    return tf.reduce_mean(-decoding_dist.log_prob(batch_of_images))"
      ],
      "metadata": {
        "id": "lvR1YROYrIAD"
      },
      "execution_count": 33,
      "outputs": []
    },
    {
      "cell_type": "code",
      "source": [
        "# Define optimizer and compile \n",
        "\n",
        "optimizer = tf.keras.optimizers.Adam(learning_rate=0.00001)\n",
        "VAE.compile(optimizer=optimizer, loss=reconstruction_loss)"
      ],
      "metadata": {
        "id": "MvoNc02rrSxq"
      },
      "execution_count": 52,
      "outputs": []
    },
    {
      "cell_type": "code",
      "source": [
        "# Train the VAE model\n",
        "\n",
        "history = VAE.fit(train_dataset, validation_data = val_dataset, epochs=40, verbose = True)"
      ],
      "metadata": {
        "colab": {
          "base_uri": "https://localhost:8080/"
        },
        "id": "PlTtNw63rbDY",
        "outputId": "92cbd5d7-e821-41fb-b38c-07e30d8ccf09"
      },
      "execution_count": 70,
      "outputs": [
        {
          "output_type": "stream",
          "name": "stdout",
          "text": [
            "Epoch 1/40\n",
            "142/142 [==============================] - 23s 162ms/step - loss: 170.6020 - val_loss: 162.8691\n",
            "Epoch 2/40\n",
            "142/142 [==============================] - 23s 158ms/step - loss: 169.3658 - val_loss: 161.8340\n",
            "Epoch 3/40\n",
            "142/142 [==============================] - 22s 154ms/step - loss: 169.9449 - val_loss: 169.8123\n",
            "Epoch 4/40\n",
            "142/142 [==============================] - 23s 158ms/step - loss: 168.6693 - val_loss: 166.7809\n",
            "Epoch 5/40\n",
            "142/142 [==============================] - 23s 162ms/step - loss: 168.5261 - val_loss: 164.1196\n",
            "Epoch 6/40\n",
            "142/142 [==============================] - 22s 154ms/step - loss: 169.0008 - val_loss: 161.2394\n",
            "Epoch 7/40\n",
            "142/142 [==============================] - 23s 162ms/step - loss: 168.0887 - val_loss: 166.7871\n",
            "Epoch 8/40\n",
            "142/142 [==============================] - 22s 155ms/step - loss: 166.9765 - val_loss: 163.6967\n",
            "Epoch 9/40\n",
            "142/142 [==============================] - 23s 160ms/step - loss: 166.6036 - val_loss: 160.1845\n",
            "Epoch 10/40\n",
            "142/142 [==============================] - 22s 157ms/step - loss: 167.4951 - val_loss: 163.5873\n",
            "Epoch 11/40\n",
            "142/142 [==============================] - 22s 158ms/step - loss: 166.5900 - val_loss: 157.7321\n",
            "Epoch 12/40\n",
            "142/142 [==============================] - 23s 159ms/step - loss: 167.4468 - val_loss: 160.5966\n",
            "Epoch 13/40\n",
            "142/142 [==============================] - 22s 155ms/step - loss: 166.8303 - val_loss: 163.0555\n",
            "Epoch 14/40\n",
            "142/142 [==============================] - 22s 156ms/step - loss: 164.7958 - val_loss: 156.8776\n",
            "Epoch 15/40\n",
            "142/142 [==============================] - 23s 158ms/step - loss: 166.9083 - val_loss: 156.3790\n",
            "Epoch 16/40\n",
            "142/142 [==============================] - 23s 161ms/step - loss: 166.1357 - val_loss: 157.2428\n",
            "Epoch 17/40\n",
            "142/142 [==============================] - 22s 155ms/step - loss: 165.9231 - val_loss: 157.3337\n",
            "Epoch 18/40\n",
            "142/142 [==============================] - 23s 163ms/step - loss: 164.5469 - val_loss: 157.6029\n",
            "Epoch 19/40\n",
            "142/142 [==============================] - 22s 158ms/step - loss: 165.0594 - val_loss: 156.7489\n",
            "Epoch 20/40\n",
            "142/142 [==============================] - 22s 156ms/step - loss: 163.1701 - val_loss: 154.4297\n",
            "Epoch 21/40\n",
            "142/142 [==============================] - 23s 162ms/step - loss: 162.6833 - val_loss: 155.8151\n",
            "Epoch 22/40\n",
            "142/142 [==============================] - 22s 157ms/step - loss: 163.0750 - val_loss: 153.2014\n",
            "Epoch 23/40\n",
            "142/142 [==============================] - 22s 156ms/step - loss: 163.8523 - val_loss: 158.5311\n",
            "Epoch 24/40\n",
            "142/142 [==============================] - 23s 163ms/step - loss: 165.0225 - val_loss: 156.0302\n",
            "Epoch 25/40\n",
            "142/142 [==============================] - 22s 156ms/step - loss: 165.0269 - val_loss: 160.7869\n",
            "Epoch 26/40\n",
            "142/142 [==============================] - 23s 161ms/step - loss: 164.7075 - val_loss: 155.6402\n",
            "Epoch 27/40\n",
            "142/142 [==============================] - 23s 158ms/step - loss: 164.5889 - val_loss: 157.7044\n",
            "Epoch 28/40\n",
            "142/142 [==============================] - 22s 156ms/step - loss: 161.6578 - val_loss: 162.5957\n",
            "Epoch 29/40\n",
            "142/142 [==============================] - 22s 158ms/step - loss: 164.0543 - val_loss: 161.5456\n",
            "Epoch 30/40\n",
            "142/142 [==============================] - 23s 159ms/step - loss: 165.1635 - val_loss: 155.5395\n",
            "Epoch 31/40\n",
            "142/142 [==============================] - 22s 157ms/step - loss: 162.0121 - val_loss: 154.8913\n",
            "Epoch 32/40\n",
            "142/142 [==============================] - 23s 159ms/step - loss: 160.7582 - val_loss: 161.8468\n",
            "Epoch 33/40\n",
            "142/142 [==============================] - 23s 158ms/step - loss: 162.0813 - val_loss: 151.8193\n",
            "Epoch 34/40\n",
            "142/142 [==============================] - 22s 157ms/step - loss: 161.8613 - val_loss: 151.7029\n",
            "Epoch 35/40\n",
            "142/142 [==============================] - 23s 160ms/step - loss: 159.4901 - val_loss: 152.4469\n",
            "Epoch 36/40\n",
            "142/142 [==============================] - 22s 157ms/step - loss: 162.7372 - val_loss: 153.4412\n",
            "Epoch 37/40\n",
            "142/142 [==============================] - 23s 159ms/step - loss: 161.3382 - val_loss: 158.4737\n",
            "Epoch 38/40\n",
            "142/142 [==============================] - 23s 159ms/step - loss: 161.0877 - val_loss: 152.5567\n",
            "Epoch 39/40\n",
            "142/142 [==============================] - 22s 155ms/step - loss: 161.7371 - val_loss: 163.2431\n",
            "Epoch 40/40\n",
            "142/142 [==============================] - 23s 162ms/step - loss: 161.3700 - val_loss: 163.3691\n"
          ]
        }
      ]
    },
    {
      "cell_type": "code",
      "source": [
        "# Plot loss vs epochs\n",
        "\n",
        "plt.plot(history.history[\"loss\"])\n",
        "plt.plot(history.history[\"val_loss\"])\n",
        "plt.title(\"Loss Plots\")\n",
        "\n",
        "plt.show()"
      ],
      "metadata": {
        "colab": {
          "base_uri": "https://localhost:8080/",
          "height": 281
        },
        "id": "29CY_wj0tBSP",
        "outputId": "7e362d1b-048a-4086-d288-91bae94c1bf2"
      },
      "execution_count": 71,
      "outputs": [
        {
          "output_type": "display_data",
          "data": {
            "text/plain": [
              "<Figure size 432x288 with 1 Axes>"
            ],
            "image/png": "[encoded data removed]"
          },
          "metadata": {
            "needs_background": "light"
          }
        }
      ]
    },
    {
      "cell_type": "code",
      "source": [
        "# Randomly select 1000 images from our 3000 image dataset\n",
        "\n",
        "seed_2 = random.sample(range(0,8000),4000)"
      ],
      "metadata": {
        "id": "VW5zzyYFtLiQ"
      },
      "execution_count": 72,
      "outputs": []
    },
    {
      "cell_type": "code",
      "source": [
        "# Obtain the embeddings for 1000 images\n",
        "\n",
        "embeddings = encoder(tf.cast(image_data[seed_2] ,tf.float32)/255.0)"
      ],
      "metadata": {
        "id": "l-QAEF2utSjk"
      },
      "execution_count": 73,
      "outputs": []
    },
    {
      "cell_type": "code",
      "source": [
        "# Plot the embeddings\n",
        "\n",
        "x = embeddings[...,0]\n",
        "y = embeddings[...,1]\n",
        "plt.scatter(x,y)\n",
        "plt.xlim(-18,18)\n",
        "plt.ylim(-18,18)\n",
        "plt.show()"
      ],
      "metadata": {
        "colab": {
          "base_uri": "https://localhost:8080/",
          "height": 265
        },
        "id": "PN0f2CSKthEJ",
        "outputId": "b0243e9f-2164-43ce-e2f6-fff4ba7f9d69"
      },
      "execution_count": 74,
      "outputs": [
        {
          "output_type": "display_data",
          "data": {
            "text/plain": [
              "<Figure size 432x288 with 1 Axes>"
            ],
            "image/png": "[encoded data removed]"
          },
          "metadata": {
            "needs_background": "light"
          }
        }
      ]
    },
    {
      "cell_type": "code",
      "source": [
        "plt.imshow(shape_color_images[8999])"
      ],
      "metadata": {
        "colab": {
          "base_uri": "https://localhost:8080/",
          "height": 285
        },
        "id": "zgAm9V5puYii",
        "outputId": "2f6020e2-65a1-464c-b122-86dc13662e74"
      },
      "execution_count": 75,
      "outputs": [
        {
          "output_type": "execute_result",
          "data": {
            "text/plain": [
              "<matplotlib.image.AxesImage at 0x7fbb83e4e250>"
            ]
          },
          "metadata": {},
          "execution_count": 75
        },
        {
          "output_type": "display_data",
          "data": {
            "text/plain": [
              "<Figure size 432x288 with 1 Axes>"
            ],
            "image/png": "[encoded data removed]"
          },
          "metadata": {
            "needs_background": "light"
          }
        }
      ]
    },
    {
      "cell_type": "code",
      "source": [
        "blue_dot_embeddings = encoder(tf.cast(shape_color_images[0:2999] ,tf.float32)/255.0)\n",
        "red_dot_embeddings = encoder(tf.cast(shape_color_images[3000:5999] ,tf.float32)/255.0)\n",
        "red_triangle_embeddings = encoder(tf.cast(shape_color_images[6000:8999] ,tf.float32)/255.0)"
      ],
      "metadata": {
        "id": "QZr8ilfwIpae"
      },
      "execution_count": 76,
      "outputs": []
    },
    {
      "cell_type": "code",
      "source": [
        "# Plot the embeddings\n",
        "\n",
        "x_blue_dot = blue_dot_embeddings[...,0]\n",
        "y_blue_dot = blue_dot_embeddings[...,1]\n",
        "x_red_dot = red_dot_embeddings[...,0]\n",
        "y_red_dot = red_dot_embeddings[...,1]\n",
        "x_red_triangle = red_triangle_embeddings[...,0]\n",
        "y_red_triangle = red_triangle_embeddings[...,1]\n",
        "plt.scatter(x_blue_dot,y_blue_dot, color = 'blue', s = 10)\n",
        "plt.scatter(x_red_dot,y_red_dot, color = 'red', s = 10)\n",
        "plt.scatter(x_red_triangle,y_red_triangle, color = 'black', s = 10, marker = 'v')\n",
        "plt.xlim(-18,18)\n",
        "plt.ylim(-18,18)\n",
        "plt.show()"
      ],
      "metadata": {
        "colab": {
          "base_uri": "https://localhost:8080/",
          "height": 265
        },
        "id": "UUe2BxzsJ4Wi",
        "outputId": "4f9e4030-2cab-446c-bd91-26c8357be91c"
      },
      "execution_count": 77,
      "outputs": [
        {
          "output_type": "display_data",
          "data": {
            "text/plain": [
              "<Figure size 432x288 with 1 Axes>"
            ],
            "image/png": "[encoded data removed]"
          },
          "metadata": {
            "needs_background": "light"
          }
        }
      ]
    },
    {
      "cell_type": "code",
      "source": [
        "# Plot the embeddings\n",
        "\n",
        "x_blue_dot = blue_dot_embeddings[...,0]\n",
        "y_blue_dot = blue_dot_embeddings[...,1]\n",
        "x_red_dot = red_dot_embeddings[...,0]\n",
        "y_red_dot = red_dot_embeddings[...,1]\n",
        "x_red_triangle = red_triangle_embeddings[...,0]\n",
        "y_red_triangle = red_triangle_embeddings[...,1]\n",
        "plt.scatter(x_blue_dot,y_blue_dot, color = 'blue', s = 10)\n",
        "plt.scatter(x_red_dot,y_red_dot, color = 'red', s = 10)\n",
        "plt.scatter(x_red_triangle,y_red_triangle, color = 'black', s = 10, marker = 'v')\n",
        "plt.xlim(-.2,.2)\n",
        "plt.ylim(-.2,.2)\n",
        "plt.show()"
      ],
      "metadata": {
        "colab": {
          "base_uri": "https://localhost:8080/",
          "height": 269
        },
        "id": "bKG8W7ODMo89",
        "outputId": "c21f5494-9bea-4fad-fcbd-f24328dbd35d"
      },
      "execution_count": 78,
      "outputs": [
        {
          "output_type": "display_data",
          "data": {
            "text/plain": [
              "<Figure size 432x288 with 1 Axes>"
            ],
            "image/png": "[encoded data removed]"
          },
          "metadata": {
            "needs_background": "light"
          }
        }
      ]
    },
    {
      "cell_type": "code",
      "source": [
        "blue_dot_embeddings = []\n",
        "red_dot_embeddings = []\n",
        "red_triangle_embeddings = []"
      ],
      "metadata": {
        "id": "Y5AKNUjsU6Eu"
      },
      "execution_count": 79,
      "outputs": []
    },
    {
      "cell_type": "code",
      "source": [
        "# Randomly select 4 images from the dataset\n",
        "\n",
        "seed_3 = random.sample(range(0,8000),4)"
      ],
      "metadata": {
        "id": "gPc_QZeVtrea"
      },
      "execution_count": 80,
      "outputs": []
    },
    {
      "cell_type": "code",
      "source": [
        "# Plot the original image and the reconstructed image\n",
        "\n",
        "plt.figure(figsize=(8,10))\n",
        "for i, v in enumerate(seed_3):\n",
        "  plt.subplot(4,2,2*i+1)\n",
        "  plt.imshow(image_data[v])\n",
        "  plt.title('Original Image')\n",
        "  plt.axis('off')\n",
        "\n",
        "  im = tf.expand_dims(image_data[v],0)\n",
        "  im = tf.cast(im, tf.float32)/255.\n",
        "  r_im = tf.squeeze(VAE(im).mean())\n",
        "  plt.subplot(4,2,2*i+2)\n",
        "  plt.imshow(r_im)\n",
        "  plt.title('Reconstructed Image')\n",
        "  plt.axis('off')"
      ],
      "metadata": {
        "colab": {
          "base_uri": "https://localhost:8080/",
          "height": 591
        },
        "id": "QMIsWk5kt6O0",
        "outputId": "f84869ee-1799-4e9f-e6eb-c524f4fd452b"
      },
      "execution_count": 81,
      "outputs": [
        {
          "output_type": "display_data",
          "data": {
            "text/plain": [
              "<Figure size 576x720 with 8 Axes>"
            ],
            "image/png": "[encoded data removed]"
          },
          "metadata": {
            "needs_background": "light"
          }
        }
      ]
    },
    {
      "cell_type": "code",
      "source": [
        "# Sample embeddings randomly within a box of z_1 ~ (-15,15) and z_2 ~ (-15,15)\n",
        "\n",
        "uniform_embedding = tfd.Uniform(low=-15.0, high=15.0)\n",
        "random_embeddings_1 = tf.expand_dims(uniform_embedding.sample(6), axis = -1)\n",
        "random_embeddings_2 = tf.expand_dims(uniform_embedding.sample(6), axis = -1)\n",
        "random_embeddings = tf.concat([random_embeddings_1, random_embeddings_2], axis = -1)\n",
        "print(random_embeddings.numpy())"
      ],
      "metadata": {
        "colab": {
          "base_uri": "https://localhost:8080/"
        },
        "id": "YppsVa7XuGtv",
        "outputId": "92c9570c-6c69-408b-a2a9-e2b483c9d846"
      },
      "execution_count": 82,
      "outputs": [
        {
          "output_type": "stream",
          "name": "stdout",
          "text": [
            "[[ -8.602424   12.261808 ]\n",
            " [ 14.316305   -5.877922 ]\n",
            " [  9.663975    4.914089 ]\n",
            " [ -3.2972107   2.4084415]\n",
            " [  2.43964    -8.399956 ]\n",
            " [-12.174192   10.58317  ]]\n"
          ]
        }
      ]
    },
    {
      "cell_type": "code",
      "source": [
        "# Plot the embeddings\n",
        "\n",
        "plt.scatter(random_embeddings_1, random_embeddings_2)\n",
        "plt.xlim(-18,18)\n",
        "plt.ylim(-18,18)\n",
        "plt.show()"
      ],
      "metadata": {
        "colab": {
          "base_uri": "https://localhost:8080/",
          "height": 265
        },
        "id": "9eRkXtlouPG5",
        "outputId": "6d98de28-a09c-480f-96b6-5f035fef3705"
      },
      "execution_count": 83,
      "outputs": [
        {
          "output_type": "display_data",
          "data": {
            "text/plain": [
              "<Figure size 432x288 with 1 Axes>"
            ],
            "image/png": "[encoded data removed]"
          },
          "metadata": {
            "needs_background": "light"
          }
        }
      ]
    },
    {
      "cell_type": "code",
      "source": [
        "# Decode the embeddings and get the corresponding contour plots\n",
        "\n",
        "new_images = decoder(random_embeddings).mean()\n",
        "\n",
        "plt.figure(figsize=(12,8))\n",
        "for i in range(6):\n",
        "  plt.subplot(1,6,i+1)\n",
        "  plt.imshow(new_images[i])\n",
        "  plt.axis('off')\n",
        "  plt.title(i+1)"
      ],
      "metadata": {
        "colab": {
          "base_uri": "https://localhost:8080/",
          "height": 143
        },
        "id": "SFDJb3Studtw",
        "outputId": "b32c6292-68d4-4c72-89ef-459d7d314713"
      },
      "execution_count": 84,
      "outputs": [
        {
          "output_type": "display_data",
          "data": {
            "text/plain": [
              "<Figure size 864x576 with 6 Axes>"
            ],
            "image/png": "[encoded data removed]"
          },
          "metadata": {
            "needs_background": "light"
          }
        }
      ]
    },
    {
      "cell_type": "code",
      "source": [
        "# Function to create animation\n",
        "\n",
        "import matplotlib.animation as anim\n",
        "from IPython.display import HTML\n",
        "\n",
        "\n",
        "def get_animation(latent_size, decoder, interpolation_length=500):\n",
        "    assert latent_size >= 2, \"Latent space must be at least 2-dimensional for plotting\"\n",
        "    fig = plt.figure(figsize=(9, 4))  \n",
        "    ax1 = fig.add_subplot(1,2,1)\n",
        "    ax1.set_xlim([-18, 18])\n",
        "    ax1.set_ylim([-18, 18])\n",
        "    ax1.set_title(\"Latent space\")\n",
        "    ax1.axes.get_xaxis().set_visible(True)\n",
        "    ax1.axes.get_yaxis().set_visible(True)\n",
        "    ax2 = fig.add_subplot(1,2,2)\n",
        "    ax2.set_title(\"Data space\")\n",
        "    ax2.axes.get_xaxis().set_visible(False)\n",
        "    ax2.axes.get_yaxis().set_visible(False)\n",
        "\n",
        "    # initializing a line variable \n",
        "    line, = ax1.plot([], [], marker='o')\n",
        "    img2 = ax2.imshow(np.zeros((36, 36, 3)))\n",
        "\n",
        "    freqs = np.random.uniform(low=0.1, high=0.2, size=(latent_size,))\n",
        "    phases = np.random.randn(latent_size)\n",
        "    input_points = np.arange(interpolation_length)\n",
        "    latent_coords = []\n",
        "    for i in range(latent_size):\n",
        "        latent_coords.append(17 * np.sin((freqs[i]*input_points + phases[i])).astype(np.float32))\n",
        "\n",
        "    def animate(i): \n",
        "        z = tf.constant([coord[i] for coord in latent_coords])\n",
        "        img_out = np.squeeze(decoder(z[np.newaxis, ...]).mean().numpy())\n",
        "        line.set_data(z.numpy()[0], z.numpy()[1])\n",
        "        img2.set_data(np.clip(img_out, 0, 1))\n",
        "        return (line, img2)\n",
        "\n",
        "    return anim.FuncAnimation(fig, animate, frames=interpolation_length, \n",
        "                              repeat=False, blit=True, interval=150)"
      ],
      "metadata": {
        "id": "ymKJ6ac2uvo8"
      },
      "execution_count": 85,
      "outputs": []
    },
    {
      "cell_type": "code",
      "source": [
        "# Create the animation\n",
        "latent_size = latent_dim\n",
        "a = get_animation(latent_size, decoder, interpolation_length=200)\n",
        "HTML(a.to_html5_video())"
      ],
      "metadata": {
        "colab": {
          "base_uri": "https://localhost:8080/",
          "height": 573
        },
        "id": "OYKo-r6ru5FW",
        "outputId": "5d92fd2c-cac5-4e75-912d-31fd184169e8"
      },
      "execution_count": 86,
      "outputs": [
        {
          "output_type": "execute_result",
          "data": {
            "text/plain": [
              "<IPython.core.display.HTML object>"
            ],
            "text/html": [
              "<video width=\"648\" height=\"288\" controls autoplay>\n",
              "  <source type=\"video/mp4\" src=\"data:video/mp4;base64,AAAAHGZ0eXBNNFYgAAACAGlzb21pc28yYXZjMQAAAAhmcmVlAAEpnm1kYXQAAAKtBgX//6ncRem9\n",
              "5tlIt5Ys2CDZI+7veDI2NCAtIGNvcmUgMTUyIHIyODU0IGU5YTU5MDMgLSBILjI2NC9NUEVHLTQg\n",
              "QVZDIGNvZGVjIC0gQ29weWxlZnQgMjAwMy0yMDE3IC0gaHR0cDovL3d3dy52aWRlb2xhbi5vcmcv\n",
              "eDI2NC5odG1sIC0gb3B0aW9uczogY2FiYWM9MSByZWY9MyBkZWJsb2NrPTE6MDowIGFuYWx5c2U9\n",
              "MHgzOjB4MTEzIG1lPWhleCBzdWJtZT03IHBzeT0xIHBzeV9yZD0xLjAwOjAuMDAgbWl4ZWRfcmVm\n",
              "PTEgbWVfcmFuZ2U9MTYgY2hyb21hX21lPTEgdHJlbGxpcz0xIDh4OGRjdD0xIGNxbT0wIGRlYWR6\n",
              "b25lPTIxLDExIGZhc3RfcHNraXA9MSBjaHJvbWFfcXBfb2Zmc2V0PS0yIHRocmVhZHM9MyBsb29r\n",
              "YWhlYWRfdGhyZWFkcz0xIHNsaWNlZF90aHJlYWRzPTAgbnI9MCBkZWNpbWF0ZT0xIGludGVybGFj\n",
              "ZWQ9MCBibHVyYXlfY29tcGF0PTAgY29uc3RyYWluZWRfaW50cmE9MCBiZnJhbWVzPTMgYl9weXJh\n",
              "bWlkPTIgYl9hZGFwdD0xIGJfYmlhcz0wIGRpcmVjdD0xIHdlaWdodGI9MSBvcGVuX2dvcD0wIHdl\n",
              "aWdodHA9MiBrZXlpbnQ9MjUwIGtleWludF9taW49NiBzY2VuZWN1dD00MCBpbnRyYV9yZWZyZXNo\n",
              "PTAgcmNfbG9va2FoZWFkPTQwIHJjPWNyZiBtYnRyZWU9MSBjcmY9MjMuMCBxY29tcD0wLjYwIHFw\n",
              "bWluPTAgcXBtYXg9NjkgcXBzdGVwPTQgaXBfcmF0aW89MS40MCBhcT0xOjEuMDAAgAAADhxliIQA\n",
              "Ev/+963fgU3AQO1rulc4tMurlDQ9UfaUpni2SAAAAwAAAwAABxpqjY2jGaWn8R7OnmAbdxkI6wq5\n",
              "xiaHP98te1xRJ/LDwQ9SnRsoWBwabBlMqho7Pe4wE576YsUF1i8wfc7pq1SnD+XGgHaE0eic6zoq\n",
              "EqFMpOv0Hsuhvn67WlgFVK954l5SYLGZjihweTVddlOMP2gMfhcFLQ1AORDCpd9m/pdt2LRsMufa\n",
              "j3xKBwTBF2goY9pj8Rm0b0PElkDIqUlS0zLSfTtmH68nzB4PTR2rIuFF/QA51F7OND/KYyqPi1bo\n",
              "pF3EeJdrUaDpdtNe+i5uaD5AV5DpImpOffYLr+bcGnOnSUfwa/GcvPtiGoCnKeCjBWoBAtFUwp/6\n",
              "8OqqqI8jlunouQ6js/KPrdotN/O7Dm0LNOGcDsMlxWzPKZr/Y9Pg479j8fQGGiI32Yn5j6EFA8qo\n",
              "ZUh2tG75/VO9eNaGJZ/gSHz2KGyLDIRLnqV8OZdHEkbMPZQ8sXGEIFGTAVBGiIAZe9DaS0pguZJ5\n",
              "7aKkKr5xVBlDXyLaRFNiKticV0nmu6dsT3YhXV2+d2PqPH4qv7OZmrZ0A9gilwROjtGCls6zJrD3\n",
              "V/cm0ztsfUqyiGgfjfYd43SW6gNWZnmbFDQaRVgxZb8pd1RuqaMbhjjw5v3AFuzi5eL2skq4Q01O\n",
              "MxqClJu4FXFchBhzVAydcceuWo8GNycdYGOUNlQQx8OMCABACJJviKbMFJTw218K8y12GY3/e1vU\n",
              "h44MEFWDX8ver1IgzzQbt7wRKxdoIzxdYjJVF8w7SmIk0G+UtTHB28ffFUlkgY3IvQmQDne1fNIk\n",
              "LcI/kPa4w8HeVCw+f1HBQlPebhKb+LH0f6g2VWRMHAYdvPSBFnxe+S6vyIpfh3xnVaErDUiXgIcM\n",
              "Y5A8iQdZWmbf4hw5Er8cCZADiT8O1yQ9jdJaLPtTu9NPyr0G1IOmK8ZvDiH6yL9A4mJAQBDjPFmL\n",
              "rt3scAEcI75BTzo7K6HzFAkXzztcn4CuovbBbafznPtRFZAKE7k/Dg8t1x2UFX+l1JzBm4eUjx+J\n",
              "6IDIczfWSCYVenxrZS/cIuaSZiuOP687KnhvW5aC07KeR1bLuVbPZTmsYevGldYci/wM+PIhsJGa\n",
              "dv6kA0b9gq0J46LyBrbHr5m6a/NTrXnXf8Pb3ug8STelvSAGkHIAj4asXywnLVm42fkdz4WSM/Us\n",
              "t6pxiuzfwQDA63pTpcmHnxSEyxl3CWNzxN4LgPl34/o4twFl2qcA8fpDWeUEToa5T9tYcommcFMN\n",
              "nOIYLhtKmwG73vW0e2BUXEL/YrYpnwUTdmSLT3iEk+Vn8f+PzpeIBBnxRJzmYnw74YM//IYUAG1R\n",
              "P/Ut9829BbI2OTwmHCL3k/FkDvrfeYQrg4BeDfx2HNw1x1oB33ECi0lYaQq88gZlyZPEArlEe+KO\n",
              "WT872fUqwGZm1mTjYY2C+gX9U45EeQ9WQz7KvlS3/yZLbu42Fd9/Kg+GH5doQvlhX2/oXN5CHfe6\n",
              "xO7qFO/JNqHyLlyx01miXQ7Bf6r3M1A+8yeG5CrSWq2DYfxKXnaE/rbV3ZJOb5s4KHPEdbyEAgPy\n",
              "sNgxCigqjMa0IChiYboJfN714UXKT0cjVUmYCJkP1PJ43RXskii17NkvlDOG14nEiOjcvbFsADV+\n",
              "Lj6bfoO3IDDj6JSVcGNeRYcw+dT/hDF4oaAnOVi8uVq6zsgGseo8NURf6WjjSpdBO1Fo70RzCiYH\n",
              "NUs8lIz6Niv8fFZFGM1TrTjCYw9/eL/6+j2kXWXaA8SOaiOv6nZ6YeVAFgAWTDvm1ZN9Or8UAClA\n",
              "heZnqEvH6OKCjrIKvaT6nxb9SRGa95UMdHkz7B3+ZAdQ7gVwDeQttii3X3dZ9smn4avuRtFfTP6c\n",
              "Uu4uta4lvxtItThHHSrpNoG8iwC0B1clukEocSqO4aOuYO5I3u+ZQSBHoniPmn7QvzGSX35c+usd\n",
              "4sMMmyOJbezcJzTHL/J+VcCptvfRKvc4mZmU2rr7qoxT+WFEJfPMiAAAAwAtk+1knVEDDhxTNEIr\n",
              "7z08x86BcyQhM0t4mxqeTAeCJ32ofJ6giqIJn7Y9e7CD3dFmA89ALtmxGPLw/sZWcUazlh8AJ7NT\n",
              "pYr+eCtyn70K8H+jnAs9UnUfubbA2LMEvlzGDtsV0TzXqGa9RudygGvMTxojfIfUxNtzG1cIxV62\n",
              "NwemqhKu02lET7RtYFp4tT34rMLzLkUW01RFhv7hz4NdSu0k6zAWshg3I+8K7BUZk+HAPCigrWjP\n",
              "LA19PPk8HjR1Y2TI6LS0ujzpSSP9F7WuMfcnpks0hax2/PQlw2Wx1X80bTE1yaNOnUAM6roVySDh\n",
              "ExyMt45+6xtM9pW/NAz/7/wrln4F5ZYY7wDUO0iURZN60N6z/+D55yWddktHN/W5N1HfAf7vEEAe\n",
              "6B7qS88IussdGp4I0A1REFs31gfPX9WEOdv80EmQR+v7KD4aDqSVLNZ7T0/8uILqsK8s8Gfj+Uth\n",
              "YsNbchCDTgqfiQGE2v0hPm7FiBCYGfTmkQblwpnl01/qJIhi7+FUDvJLREoLnUFGUmcXVibO6d71\n",
              "fkjDdHKyilv/LSCYHLTCz4gvsSo+lU7xaFXm5NTV+usdLmqbY8FXeOe7iy8tZmmGd/4IAbxUroF3\n",
              "ddwgdik7QRh9YG2ggDMfj8ovmLkjPYCCsfN8dIekvAj2j7CaMOpBwACJVwV2WYGJEVGBPIVqV3x7\n",
              "qPA5NoGp5i+np3xRqDWh+2hPxwz0kWwC3zuYG/7y/5qGN+IQZolZZRsAda/dQkOLh6s7MpRglQQt\n",
              "AXx7LNmcvY/66Fsorp55m+TO58pe5HhPP5aDnYd7aMrYkcr8wIRZ2eTg2Eq9HQgFGdDeCPuwz8lI\n",
              "2zIQMf4SSYKGomXWNL4DPZ4wMcNepc4sksoio4nyDEZju5E+v59oVEWj0Z3f6R+I8e+djaKznvmU\n",
              "YHbYsf0NIxn9+4birsDA6zsXcvZCUdQJSTdamI0kEAVsnHEFkixKn+j9R7M1od0TK7NGFqruDPF3\n",
              "hYba+aKdCNCjqfJDk3EUv/cdjOCEYoXarnAD2aIR/Aqpak6NMZbVmCL+uFdNyWg49hOscvQQmNc/\n",
              "9uoMNQNWLoD3PcYZuwbkLgMdPvjP107k7UFD1A3rFk9J7gWvJYyAn47b5PHEuAK/h/88A+OSgAAj\n",
              "LEdCw6VpynAWKF7dAcUeDvFxgZxnMj7Vow8hDIfvYzQyeTsNZQIlbaAzpjUGodzxnGJ0UBz+qJJl\n",
              "FYehOFf48P3QqujdzUgSbHb2gM6flycOGm53kpAJYQC5st1YXbl9kOchYIu20J5amYOEI6AFd6Kr\n",
              "R7ojNtJSmXzwLajMaRbEaIVA/rEESB+7SAXsHiY00kWqwNG3juYkEVpiyhGGiG30q4TvFvScd7oC\n",
              "LLuG0davdEL8Br0D1ScN78qrtX/NMxg6MGKNlQXY1lmhgjmH9NBXFZErkH+GJ0xyGHiJo56xICg1\n",
              "WBAN5EA9pEfxKQHmuYvAxxNbVSpeuRjQzdEubEeWb76WlA8pX95wAyZsC6kEq6zRP/3RO4EVgYOg\n",
              "K5hECs7dh9xSI2OTCSHyS6SfdZMHwuc/rdQcqKfrgYSIUhL52paDNRvYNU2t3uuiL4Us5xMDDhl+\n",
              "hdGspQjN+z3HjQY9FeKiydPWCQggAT0bom/8pJp5Qa7lSguaqooXCxLDMuSgamjDzBpC6gFsPRNC\n",
              "TNPFZ6AYWW5Fc+asx1yB5WdxDzfyB3WYGweCPnclXGOZs6PYPHA03EMfHOoO0ogGzdLLDtciFP65\n",
              "IoAG56k/9bi/9/iBnbG/+w6pXNU+FdGvjJLm6DpyqyJHwDxv+UUyhGUTwAHF93RXUGRo/MgNal/e\n",
              "3fCqPf1rt3IAS0RyqxnMAWQeFy1na5TAEANi9ADU5Up+GURlV0lm2axjPPfSy41hTLZqx6+X4KFN\n",
              "lEjF5jAjA67KmUsoybxQG55pI62MNC7ppUXLb/753iZnew0qlkKaNW04ZSjUlBrizxqKpRFeU/B9\n",
              "sd4eKjqcSp/C48/T0ZU6g+6Zk6RotKYiSlvyIFH24lSAXbCvEGEkM28P9BzlWcPxsApZZuFB1AuT\n",
              "mZkb9rDRf8khIjzpv9Ts1l6QV65hQozcbiT+c40eljRV4oW1CUP5tMLPPKIFgccsmPAesvAJgUid\n",
              "8VhLZ0c6QNGG7yzQYz+qrky0dVN1m6VBTCISRp2ApDQ8/FdFi8SG7scfTEurJ5BwcLgu3r9v3i3f\n",
              "wZC7TPKOXGZ+qkN11LCzuW9taw4YflSdUznsSTWpkEEdiFCzH7kt/l1jtJUmvwIcgAFzzqpyCrmX\n",
              "9J/D23iJnIMANKWIK/wvHwbABOzmPWok1aGVvNBrlFrwEzyl+fW4VmBOBrS8Ds+x1O9KnYzYgP+i\n",
              "O7za+etv1m3pp9DNNCk/vMssj/hk4uGRwq4bEqPLF+uA4+7ApHs347+iuu/X06UAh3eG256Spjjc\n",
              "dBvDNbpYQX+0Y+9bwRf3+iyGSJcO6yro8tsRuUZh5dsZ76Ujgukn7Zdh0Suee4WYNAOCJpRQS0cr\n",
              "T+a9IAhw6vgak5dVXRnXYu36XM4Z/RP/MFxWh88HjP5fPv8rg+XurI9a0y24+ETetq0fol4I1aE2\n",
              "XzYpKXYey0UhFWkl+iWcizEkTT23DH5V5iPjGh613IuJLwbs1F7dvyp14yQwZ/t+P/NF+6JSJs6M\n",
              "teba058RTa6h3eBmSh5DGSy68DV57yFW7lNPxI49A/Hv2uZf2di0XNAQWNie51B+A8TIhInjyuf0\n",
              "Nzq2UZg6lvn1gAAAAwAACKkAAAQqQZokbEEv/rUqgDVws0AbisWR25ACKlvv2trigFsBbp00t2wY\n",
              "Uq9LRkMVfZk9HLzRPrSYbYHb7erL3X1Yt+ympoFWVez/XV4NPq0pm6QCFyNES3+/wDljAHSXgp0M\n",
              "FcISaDTr0pinWlutKykG9vMICVRzebBhEST9RmkHc4iDZ7AKeCfvlj5BF2kPebaojY8WibgvrwXm\n",
              "yElyAdqTssZXaY/ezR8Sv1BOGxGKfwwmUDhn2x2s3dF1ebEdRkr86WJ+N2ZWCiqnikOyafnsCJ5o\n",
              "DZCQEu0a+3AqpypXqYAtCoA2sEFmkAHmA4PVebEzk6DsCYfjpVmjPx6sDCNEYgnu1x65pB+MGjb6\n",
              "CvAMHN4Af/9RvcOsZJW0Q4fY/iuoWClr+0CcZbH0iCKfR8e7htD/aZsm9MlEFuHO5SyFpFuZa8GC\n",
              "2HKWs/Tpxy7jIJgLOryCkwaCiaDQ1peM+KvDgrkqUm4nXMkkpawWpyXj7N8A5E19L2xJb2OyusZM\n",
              "cTQjvFH3jtm0+Ns6e9RfTn8GCarPbrijOOuLViex9JrHb1uwf5cGJZgfC5ihaTTSCJZdHbYRL0xX\n",
              "Sxcc5yeH8DA0Jkwo/yKkLy6ween64Qyc0Oi5MNdWJQ0v5gH1Ks+DZVVlnyUu3qPEzy9PXHqOpSgc\n",
              "yuhc42z+VFRyR/DpxeaUe8SKun5Nc51BOTdahcXRxP1EZa9/k0blIgmpD9WnnGeP2Mh/zo06Riqs\n",
              "nQoHp35nFZ3818slTpttFelS+ptd3bcc5oFaSLT4RAv4f4CBEkY+0+trIXtkfnk9j8Vl8F0MpJ4M\n",
              "QRGT35/Pva7hFfmaRiyvUYNq/f1WvZ3hwcH6zrgW2Us4cYwXl1MeyqdRDhdK0LE9pkl8USCyk/Hg\n",
              "UrPbEhmdZdMfUTmGyXIYqDoA/kAmrULlqLwSUIqMz6Me9hTssopJ3kyAttVj76ftukdB0+ENcoI3\n",
              "XIfEEAFyzxE7IWfmwQPrtzZ1SYbgN4HVWY85rPXhTOTs0okY7KXdhQtXh+83/DM2+h+kNIMJBA8Z\n",
              "39nMd6w9dBiR/2Eaotf4WQw14LTW2qbV2pNb0A/jdKeADuYEzMduR+KgXypMkgmtuKBZlg1SZXLb\n",
              "g2Yb7hZSpaNvGn+q8KXS0WCtGUVtsVZbkrTQwIo8z7Jukj28weZRCwZY1V9d5u+1qExj80nyUnoE\n",
              "jOzKsI78HNLXukmb7OJIT3xnYarW7rorpfetS4j5OZBZwOm/SM7sEha31vuqO/QG/poHO8bwRME3\n",
              "MuvmKkTKow3YUy4h309XY74zvay3gZ1gxZn0d45qPYc4lwVmPQ3tWD9AjKhNZEro4wbH9efo1P0W\n",
              "ZUUj+clCqrLBd5zmfL+VfUIhRJNjqwX3hm64G1WsUqcOv9Ipxe10TnpWajSMPJ4MRPPKwPhL0uFq\n",
              "IIBTwAAAAiNBnkJ4h/8AXvMikGWgA/eiMbS228vezBrA8+wAjleR5N6BWC0/nJa1B+rj5h5FV19D\n",
              "JO6Ls+KVoti6h51QJuqJONZOQuf2Eh8PyptbADDqBXt3PfRv/ggcrGeHpNJuccbfjtTnBiU0VZ09\n",
              "E2LZgHDT00YOod9y/5C/QYxjXOXjzTAoHNOW1OWS2bkR9MWi/4dzGD6yTo9mXQa5C4PHRUitlsAN\n",
              "ZTaHdj9DLkteesGqFHDUhO+FMNsEImhOIlepinJEe55jUvXIjKHLGS3ngTHfnUsBbLl2zmBJMsKY\n",
              "6ajLSm4kxArXY4R0UyFaRaPf46H/slKJOKngcB8tI/rHFUtkDuIBePtd82cMzKHOEJqzH0doCoSq\n",
              "h4X5Rwuw/yiBh+ZN2YZGcjgpL7OvgFjP3BdkRG5pfOmg64PQrqOMI95tGsUt1EMgksxyIFw7023w\n",
              "6c2+Gwse0soPK28sC5msyntQB137y2f5IydYomJnMwnUmkPY6+Sw8KIzroqOoHobtLKnDmE/tNjC\n",
              "Ctyq5G88czREzpErgaq8lutzICgDMEYFd7G6kE+RfZ9itYBYk+ae0yTpRR50AhzOFX3jxUIDrHMT\n",
              "Y7K1B8XTOcxoRAKx2tZBV5E01baJwT2x84CkhOQqRq+ilUpPPONqWrhM0M279YyYKPFaTH5qSb5u\n",
              "ADRppsfhJFA6+QqLWufCyRErScRQLue8aSSy9NWY3mUDKQ6W7eaFxB6RAAABqgGeYXRDvwCEMVtY\n",
              "HDgAhL2pgvmSBBasEb9bWBP+y0COEIQ9LHJe4cgYmAjx+ulhloZ7tTyy6J6HRBan/9el+fKcLNEM\n",
              "kzRYPjl4LHiQYeM5CJaU2EYcpD8b2/UXGG7Ivdq5b5+rfnVat81YR4UGID6/rt9Gk+7hVUu7ygU3\n",
              "0TeGv5adKD8I9Plj+3Nug/cxM4z3saZ18AYOpZctFxbX2fPPcNfPPtwvajbiY2t0ShDODiWKlZ1Q\n",
              "vjiFtXMbLxgY+TRzKtYh1wY90FnCvnS/M3Fw8Py/WpLGOpqzrNRseQP0RHHrnwcFtsuG9bJ+R2go\n",
              "Eh4FGrFtG1WBM7MBggcM0i9m12sxzhM0MytxuZzgN1Rf0wPPCDi83UfD/7m6e5alGuiIYBhpez6R\n",
              "1e35bnhbF5h6Jqa9u50W35qYnJE9a7BfpnnPdky+jrt5NsYdXSyXTH/mrkek+bcYr7QAL+1zfAD4\n",
              "zQKAJJBas1ngvZLModB+igcNZA78UQo7aTmoMZOaYE53B21r3Yii2A1Fyn+0dxIPwdHb7mYh8UQA\n",
              "mNM41uMyvwVEtIUmteKEfAAAAX8BnmNqQ78AfywuOgAbSFZH2vLvW37IDa9T/ETtWdOxkEiawyeT\n",
              "P0dTNtBT+e6o1XtsUGtdJ5BeVA5nkGYf4QAkjuETvDRSQcxmA5Ty4kNpgT8hP3o72I3RojIILVP0\n",
              "CHtH4HNjmLQW36pYhfY8cJopLAmfFmPpkWqJhXHcjo1B83ljBJpL1QxLPZHxesraMO//NLHi0v4U\n",
              "f8AyGVHYPwblFer52EXGkZXnLVvfs9ayXWqZVKFkmPO1Ww203RqDey2PKkhzssB1cOELLfn48Xpm\n",
              "n5/Gf7++ybPrDFscMe/+4dvGaL145Cf9NbI1QDEtUIMQ+RkR30NBjTB9QVxhPQEYu5m9Vh87lwUp\n",
              "CXbUYliPhkLwW0MxCbjTNI6UX4ykqVmJ/VoohyVS5OOSFChNxoXejrQnhSPZGQsj25haLE0aZZUc\n",
              "eYqP600mLJVIldSsnBvRxx+DaUbe3Ke0B6i8MajreHOMmCFtLCAeYTPfAE7Riv5wE71nVvteh5iM\n",
              "CADUgQAAAwRBmmhJqEFomUwII//+tSqAMdoPABNLhi4uXgOQ5gumi0CjFQcv3AMQ1Rr1ZE+GvY/x\n",
              "q3MO7ggC1daAykn8hgasfVZmtlOeB1zRTpxJNSKIpMUMSJFMfnGKqhM2tKicwK4iXqAxD2RAIKmi\n",
              "VcGr1p/Ukg9jlgFLIrQ3aLjl1hw2pMisZ0EwhrtL187kIa7IuzUjvRitVropduaFMhzJ6aw3jNFX\n",
              "GsOFgo8P++IHrSf5/p/s77LsXGbqzQdkLpeT+/8JC9pUFK1372x6OiZamFYIS3pfQMt5p+zVmN9e\n",
              "IsDmPeEcqBQvx9tJDfj0YtcHQgi9ywlBl8ZTLlDP+Me2BnWPgMH4BUL0X6l65GaxaqS8jFPD0Bqo\n",
              "IiniBLBV6KM+zab4kqSWMynth5MMiagrzvfiO0XJ/RwiT1d+chVpxkGJtRVN+4WXhVuVDNsMadI/\n",
              "CEInU9EKZuL5bYbXeG7rhzie92x1Y49v2jar2EykAmDL0OD6gfBbCWRWsebHv6wDakg3F8VNAO28\n",
              "FLv/fZ0tA+uy8/5sr1IQRFzxqjAfAzNJaAezyIjjq/0U0JeGdV2gaqAhackqmAr9V4aZwLPHWP4d\n",
              "+u1p+bjgYCXAnuOKul3/TgEHvj+b7reugSnYzTFKtGpFZvTUHnGt8XOy47+tAk/6HvEvYbjNz4oL\n",
              "Gn4UDt+DW2QBNjlk60x9CvENU6OJn8z/MchCHi6JQT8o6D8ZNXQBQKPEuhjncdw3cmh/DMg7CAjh\n",
              "P3tWATS0rEkLVApGOc/VU+tekZNk/wYem8UMStZYn8dTZQ395wEMRDq/1b47tHBRw8OiOyamAmFT\n",
              "fHEG2Dt5PJh31rSqQjvLzrj8FzZjelXpPgk+2+6T0IpiTchVG1WdQN8YRpotveFaN7aHcMqzaOzx\n",
              "WxDQq37T3B/Gq4VAU6yZcWvYh1iE3KgDLZ54A9wjKWUJ6eQihZB9YgGtTx8Dh0moupGxVWtJU6oz\n",
              "hS6Xw58P2HnOkXD8U5lk3+39jOh7v3PokSZbWgAeVma1iOY1Ecj5AAAClUGehkURLD//AFx0RegA\n",
              "nbUu05mWtuvJUhgdmAz3IKPuZFk+RmgNRWe+GTe0krUTn1oU+4HfXImFSLtm0c6JpvOKqfk3pMOf\n",
              "5j8kfDXaZEqprnWkgNoEEIZMVYqFM5bn9/gq7CFEobaDP8hhiOfbBxQQFh/xDWCvPHA7V/YJhPZ8\n",
              "e+dYk+Qd2hf/MCEidqVLDmHK18FkoYUAJcB7oBTAF9U2dzXBop1M1N1xvDYvgAfk5RMSDyNPMocP\n",
              "h8kmycfwW/3mnu/SI4+LxV+kKBMZU4BfGfj/Q8uYdBAq+CmJQpptfFoLZ9Kiz3YzaQECsSBJlYFx\n",
              "wYaJ6ME7hgSVKGDB+1dCUgjFGg6NciYGup11dQzKZEf4U6dUZK/J9pJ6n6yK5BeADOmAxceIyFNO\n",
              "3JB7XXSae8jRr8LOy/6wm38OeKqxqY+4ZUS6sNFpv4vshmAYUDvtcdr8OfHmMsGomjgaBLSkoSwq\n",
              "hCaOD/544AKxoTiy1h2Ae0wp+Q1K0ydQtxfrS6sh8UgsSlTqpJjXG6SGWSuopSbhMwuZH/CRdXXe\n",
              "IRorPoM1e5DPOT9+ex94a+SyjBrMfmBgnWMBR98yfGxYArZ37GdajpxbWIx5KDtHLTMEORhqhCO2\n",
              "EjM6mzso5Vk3wdNZZoidyeboTAF3fy6FTtSCDAhWmvwAtUH6/duBJux63MK2bs+QCdGTHaJOz5IA\n",
              "+G8fQXKP3M8FohkeFpV9t88pB/EV3zu+L7S4xePbRb8UzbmEY1qjnW/VKPmoKrMqBJrHa7Y20k+j\n",
              "zyg1nJAIA5EbcwpV7ZibvgfhIXzF118J0hqZr/49HhkD1ri2iJnN0vKmh29jIWuisuCfZBA2Zaxz\n",
              "YPP5etdEksNC0OOXtvVhZW1AWkEAAAGDAZ6ldEO/AIA/7rYAQpqF+p7ZOwjVgv8wERUIOQQ9vm80\n",
              "jow5DHF/CVK6fromqYoYYjUDnfpfQii07IvUf5vkVGMM3jyJAl7aqwj3f3PVJfxqCATqjtZWCZIT\n",
              "hMwKOVtWht5id/QGlL673gqSJpLLGO12LjqPWoiaK44F4pYZvVSUrgc2kWxL2nXxGKtAgXaq1Bh3\n",
              "4TWlJbIpUR3sPXIlo7m+Hq0T5Pv11QbQNqP6GSU901gXrQ6cDzG/W0gf5Jkmx90wXtM73QIKpvt4\n",
              "ttMHN7fywfYIBfN1xwFz3us6FaNBuapKBxtio6a477nl1gZyggmckTwcJv80ZNNlIjV8Crunt3c9\n",
              "xPVT3jWVnxz/bx+/7Lq7658Fi8I5xexjJX4pt3zaBsM2dir5XMCduAzQBKSxmE/8bU6a4IYysIis\n",
              "QJgBhQWhmNQsXSLD17k88gMsXbfKdpjWwN3ET4tId2HZ50eR/3HxOE9Wf2cvS5+i4R5xSVLgjvt5\n",
              "EpBwZNuL91SdQBuxAAAB/QGep2pDvwCAOrfQARBqF+p5wqb6JeIAGYLaugZi3OS/SUetfxqP+NWE\n",
              "M8L8awQLfZfWtEJVIqUZ6JN191EwVmRHWpKQRNW5w1G3TAbQ+1uOrXctbGXRoQ4SkaUTO1Uz8rtb\n",
              "vTczKdOqnFrDC3Le0lTrkojBk/TCpGJY3W6lnHvublAFdgftv3BG8+t9a9NFqKMDhnwQmmXJ+qAM\n",
              "0H/EH3KUo41waSEUyDK9vCaNjPRp867HkkHdAIMbOAlSOmQZbikwRoOWCgbGB1NO24EAsInwAfCf\n",
              "XZic4IGXyd4uPLbcp4s0ajYeyzTs8vjH03a5lIjGhiyORDZUN8i6MGpFx5tx5Jn+NYx9q3fKYWNW\n",
              "6HlwaNUeli2NmHoi/ogVf5rYWMbUWNWW/pXuFhtI4vMskGY6rlbPjjhzxdjlaZ13ZspB//CEs25n\n",
              "Ak4G2sNdfv3ETxa3rOD/Fi4XZQakBcWYpnhG3HWr+tKUtchcrERugar7I8YYmAufnjdv0gejZv4P\n",
              "qdtwfeQRbxPX+LaA8AagFlGslQ/gZ+3G8QykhiOISQuCmYYYxUGeJ/6NYwRyA1bEkBwei/k78+t6\n",
              "zY3QF68PZ9S/QyykjWTA9qN+79kWvHorvJdtH5tbAxshx3Ys/X4r9fZRBhMYQL3XP9AwPivZCZpv\n",
              "aEZAohkvFuewFA0oAAACO0GaqUmoQWyZTAgj//61KoAx2i5cAoMpo+7iBtM9lLKWAUwk3ViRey5P\n",
              "pibFv7qHAYRXSlQkSaft3sRPEKdWRQbtXUwEVB2iAlrvo09bzozvBrfPF2taBW3Nr+hrHmanAtt1\n",
              "Mc+gKE9UvkLFNjz2l5NLrK8A7m9s5z9cG+Gf3hj+/ggcK33FWD9RaW0zj77Q1v3SuNNHTj8xSx5v\n",
              "MXgtGgrrd8v8XVF7DwgyJsZdu1C1rEbvLT+zFBa2fb37XeeP+CmKF4F7ZCGKQ6iYYSIulmShh5DP\n",
              "rPxHQ09VJfjlrTpcvviH+s9hR2XqDpBraX8WcpkL4yjeYu0/zUIa1OTXrmmydtCkLcLbTBfRrGnN\n",
              "MS1T5dk5j8H+7sUxNxebw5u8bMYztg1Lq/mhVM+BJaqNk8fZWd1RXb7KNh7JAodLKB6B5Kd0QC0V\n",
              "ze8alJkvyokAi3AqFVhbbhnEYRDIgdMGhWb3JtIK0SNzPRN/yLbheQcPAyNdSpMgcH/upMNqgNZS\n",
              "zMC4KXL8CAjUE696z3OcbUUK9Q5dkEythiQCM4wWXhcvBoPpmTwcEwrEZY5hnldPxtE+V+J9yKWz\n",
              "cfinyCXtv13/fDNu3KPW2AqpNnofbx8Fdda2E+/0hZJHlJvFTnCTD+gvBAbj52PV5H/DTm+dSfow\n",
              "K2GxuzaAe02PTahSHrs3rn8uX6iJqf48vBiGL6utES7uYGoa1W0NKUh0Bl/j5McwZdM7ItWVnEjc\n",
              "zG16tFtIXW2KFXJ34CybHRAAAAIlQZrKSeEKUmUwIJf//rUqgDHD27cAX+6NMJpw2meypcU+Y4mA\n",
              "piOPZzAo6VjE8cM7kzfFI7jggQPR+tWO8G8Uar+zFLx0P2QsA8mzgt14D9wd3S4JuDkgZdMwy9lV\n",
              "wBrpcKuChrBGe6uwQIN1HWWM6u1Cowmhc/VPBJHetqQZi+owuy5KX+IMhP5I/3g83HQSAqKaEL41\n",
              "nVDW9MlEFuHM6HN5gTRamYs0ikv1kFz57KoZxmVmqbBGyK28RHDYcOapcFQHhcT4ZRi6QcAc945B\n",
              "o1OjhQjocTSkGI9yKngvggjcaEtSsxS+1sQGSP4SdQ38fSdWqn11xXD4MlNYqBZCIHqNn4x7qLLY\n",
              "fOPH6yL/mO/FYZYF9sMapOh3jSUZC+FmRckmEAugLgZk6ao1xBsmbiCY5HFCIrtTyYA8SvDOZ28h\n",
              "3vsJqx1o86Pr/67zdHGwKUl5CjX/ZMZRIEuRb99SE4GaRxzb8FSRivS2zVWUP5zrzhNQr0N8y4F2\n",
              "AAfMGjUjnLdrL4OmNhqUXTrhRiucTli7Hwn5v1E2v3zhDayUHM0QKffaGkagikZGFg4hHj1lxBJ3\n",
              "8rmkhR6t14xM+LgnxD1FZANx6UogDAQpi6jG5UaAP3U9+P8ige6jnOfl5FKLXkC9XWU3N9KBvLQT\n",
              "8KxAdisvZm5gwGywlFkoqMZ5a1unF/js4QAiPMM0+YyywMCObz4py7VgXlzE94xXP0SQs45emqUF\n",
              "AAACEkGa7UnhDomUwII//rUqgDHFBcuAUGU0fdxA2mey4hDtxZTzd3AvtmHoKCOiUPc+3oN7fltm\n",
              "sgE+I+JLsvEKkMK6+lf3ruDkK3aDn+QP5MGy82nEiEN2U7XzGlmtkbykS/yyUj887Dj/fp4lokqL\n",
              "4/VOL408OmqjyS3mA3+kMsgmoCX/ASOEvT/gXCEuOmZnKEHzoV5kNhWn3rG1ioprRRoglimeihCL\n",
              "y5iYYqNKGH88v6QWl5LjtwaUCGlgg2xHNjv9FzeyhzQFosJK5AT6AW22XdexAyjM6qsZ6RvVaUWS\n",
              "/Syb+5Wl2NiiudLywCnO1Ek+JKxYQkqd1C7RycMxg0vFVfoL9EWPnSzC5yPBW1mONsnIj4W1VppR\n",
              "3Tga1vbZVMW6w/Bg2BMXmuGRxmtzDf2qr7ZQ7LgtELCYo2LMKvOhCxBuhv71jlPdsNtAAcSTyVA6\n",
              "O0WvRXMFx541dJG0lxhmh0beL0KopDMUGBXQXcrNnkEXbmSpibaB+NJWrHt7NOjdBMVhwWpW/97P\n",
              "yk7dPsk63nIp2CcxNfK7TrmOpkGCK5Jvw7T3strtx8Lg/gLnCTFbpBipfMbMpMlHWw4nA/hAlkn8\n",
              "Err9ZLPu6p1h7o8UaGnVNa6q/tSyo2clj1gVZwCflCElyualLh+LG3foGMYpnYQh7xl6aXjPFYeN\n",
              "Qg6cp7+8qPes45ZXMrR9aCr1FIGAAAABlkGfC0URPD//AFy8vQAQ+ALhhFYxtxLmoIwf58KIMzmn\n",
              "SdD10MRysAgBvteOyMB2Hfc4JkbzlkHCbhnRU2276ce75S//wsy7F9xW4dPq99iod6uRmDp4e4ge\n",
              "KxOt1n9q97dafLtMmPsmzHwDCkgtJlUMYsgDdodESTEf2o9CpjtEPCOJbWw3sFp4DI0hu3vZH8zD\n",
              "QLxYvLtJp2g6DloP3I/T7FoyVcI+50zw5N3os5oKXsRHkXsvEcllBxb7N4WTs0hAhLqya5LJzIxO\n",
              "H4pyEFT5I19JygHGAoci62q/gLuWaKFhNEjY28d348ObbvU6EcQpvXsfql3f3LwbGeYapumliM6T\n",
              "LQNRVd4tq5HnWCTLAFa9lDhMKHAmoaT1WIHplD8fDjEJh3/1x/pwMC475kdJjjL/3pGqLUOv4SUO\n",
              "QCowZyxmrtzYuOv+mWMqAiNEPJk/OnO3h5bq7v099OHXA/u+L8Y0ZnYEF2aj/YRrklaPKTjSVcXN\n",
              "NOZca/GVAQayEuQpCZJ1rRfJ/QpW4gRq34/YyUCdqIAAAAGCAZ8sakO/AH/3mH/TsS4eqbmsI5AB\n",
              "CnvPBMiiaaMrwu+T5jNJ/E9FAZjiZ6mc7TXGXBoL/zqoWN0ao5Jaif+VoyycbUduJz+j1CESB2kx\n",
              "236DEjGYNBBP5hsgFnF6khdxqHRLzaU0hpP4wm4jw4nnY+4jN83wdpfV2/tW7d1W3ux/HynJ2Izx\n",
              "lS4fiRKdk4eahrXuJZjVFILAPX7CwW+6AuLkpNU35KitpD7p8o+R5oA6+G0Sa5amH2rxWXa2Lv2n\n",
              "IP3cLPfh0T3bT4TlYfPEhz7iowS4Un4zgzIXQx/goyNG1eNUGZtovR3UNydelBT+yJSlSLIRQDr8\n",
              "emsqjTJRs77vQfUG4gykZlVpNcaJ/Q0fj3lFISaEdVP0J6sZ3FbIN9m+ySaW7FIxIQfyxI/ARoE3\n",
              "7Ic3ZGbTviGQXmru7WRGHDz9wy6R9PhkbI8wR5NSGw1iYt3XO/ChBA9BaQBTRVSWsw9iLY+Q5yF5\n",
              "LGQe1QU3mwa29w/u1nI2ofOWmHLkDjkAAAISQZsuSahBaJlMCCX//rUqgDHaPNwBfnHJB5pWs6qu\n",
              "6gwnoULajS1SZZ3y/5GvieW5OBXkcVSiQqbDnvjueSiHo7AAvAOI7ovv2777IhqGeMnDAM55ZCj5\n",
              "1vYAA/F1VD+u0/TPod18Lf/rTVhscYhWcNJuDImZCfXQ6om/qyQjaUSha74UlygiyyTlhpq6pu0j\n",
              "sOpHcrl19LuxM7yX56yMXME3QGbIGNpqzHzfXZ4BDRvJLerFUmUpAj05XWnzFrhpP6iEWl1rkn1o\n",
              "ui3O9DWjpFt1KZv1miFjgCWlSDJsxTmdDBcTmYG7VR6h4oWHNZHy+v1dPkdXkjn6fN/oEiU4ebXf\n",
              "2TXkJd6+FH8cmHXk27mmaSrUCeRkpK4fhVO6dvyUJIKEPuKgBFIdrDMc0jXVIpXA31+PXRp/ypxZ\n",
              "DwN5bCQ0KwKEMxaD34zxhm1fZHNUpGVp42VBsMV0wiEoyQl/VZODAAPPY2sKkb+2pOpXU5PGF/mo\n",
              "gkmW1kKGtes3sl37j3kb1eajOXCWj1jKM47Uoj+MCiFQ4jFQ4rNllkS35zQddJ8J52KL0CIhsCx7\n",
              "VFBnHPyn003kBFP7+46QuX4XL/AwewYoRVGo9k3AmarcdAna6BLTQ+690ss/LWe2TSsH46tGe3j0\n",
              "wpQwtkMUc6xBn/ptWh/IrVEFx7veFJjMb6IRQjtchIAIOOVmpqEdDJXgO6EAAAIdQZtQSeEKUmUw\n",
              "URLBP/61KoAx2wI4AK2cZKl0hvru0e0dOhcyoeo/Ayl+epovpBhz5kf10zlb+USFURzXOO38Jx10\n",
              "XuTmyvGMze8yALlHp34W9cof15gV4XSWq1tsBbqFnTuSZ2r+rLnVoDIC0CA492twrNA2ygFipHTV\n",
              "DEFJIfcACV2kGQm2Gdwes5vB0Z0q7DIbTlUvLW+fVTtw+NRKyumWs+CkAQRcRq5RJJJ7k2BuKOfR\n",
              "7Yhf+HftPmvBUdoY/xe+8IahWzrO7W5WyOJ8FMOG4t6LDCCDjTtWhFmeF+992YKiAPweoLuRWJa2\n",
              "ZUyhGIIG/qMncHpOomloSdYK0I7oFn+Sgg3fEFVUPAC5Jipqyfp3Ub3rwL5/BqocLv4/tHUYfoAS\n",
              "dCfZ83s8w6lcxAWOMCKUQwOK5dg15TbEGf/B7tA7rQeAlcBPpqVLm4W0+1Rk99ljScg1GcQLuyCS\n",
              "OaOr7XyDnpdmmRJOHP3EpE/OZxG8Eiwz/5AtcguLWar9sUXB4KUpQGe7zQRJPYd1CFKwdPwO0Sgy\n",
              "0PD3ePNfkZ3eDfbppHjwewllu0IN3CYOVK0EpEw75+iTyHGrCT+T3bT7pWe+hGJ2miqmj+NkqFWN\n",
              "L9BsTucD8A2MKivHzmTTuuJ/tLkju6i6Kq3uSJdbLiB3MlKJXDHAka3p5BGGbf23fjx2XAiG8vta\n",
              "U5713jaG7lL2sQ6ZYqiMY/BBkQAAAUYBn29qQ78AgDlXwFKq7tegAmgAnb1oHLIIuGhsP5QuSbWT\n",
              "W9c/+/8LRyyPvAzg7AZEFyTQuhG4n11gaG4+GnB/jnF1uUsGBtu7bPngJ8giJKcIFFnQ3TfwYaAW\n",
              "Ay8QWecvm6E8yhTXEUMEGXsyxQbmDY0ua7g555UgtOx/1s5uwplm47Y99GQW+62ZsES5blwQt7X9\n",
              "1h40ZjkKeITRa3oES9AqIyFxrXjnGSoId1eRxNruuuUYx/WqS0MRSFXBL3xM+/AoFuEv3Nghy1e/\n",
              "8tkDHfE9mdyUQV1UgZ6VycSRXK6ZLgVOe0i3uRMvtdBlkCvHWC32OuGPV6UDL8SCHH4gvKC5YU+A\n",
              "NDS2iA+9TGhNbH6DhQoikZe57im0qof9F3+Udyf4FxfSDtsBjuWHd2ds12NPL5PpfQgitbY98Nhd\n",
              "NmvpAmBykgAAAfFBm3RJ4Q6JlMCCX/61KoAx2jzcAX9pA2RhVc+2fMWAtWZclQYgjkKuFv4ng3+e\n",
              "Vab7zJyzr4z8ddeD1S26MeQxHMVPegACvucUSCXde42VO3DxmfXXBz8pjesOrk9bl4KJJgBjqRGM\n",
              "XXBguvGfM9vkFBOdXRnbTLn99hgWsSQUF51FbQuo02kGmSRbEL+Q2UU6VpbTO4nv0G+fNNRabduX\n",
              "O2Ooabo5lw34UX/kynwhXDHiiFoU7DTxhEj/ffrzN0sB0Oigv+W0TJUtgoJEIiuJ/S3dRytQdqNm\n",
              "Ta99oBGKKubMYCDWGOJCb3QlIV7pcJYXgQmrMT4WTZcQJdtchdtcSbgeWRgiqqxoTY6/OslYDni6\n",
              "agbjrqxSnXfOzz34DMBJP9XGo21G6pCL5Ts8BAvkwIZwkWgrKYSK/L+HrNwdOjZug66dRjT0lrVh\n",
              "JTN/cAEs3wzQUiK5mb1wNCc+lcKy5L0dXLZZnFBWdQB+CvlG34n7KK1GeQCSQL4M1atg+SyW8Bdj\n",
              "8UtWm/zpDUbZjQp1mkRMkAe8piCj5W5jtiQ61F3atE4Wlmuu/p8KRZD3xEoN7XTAbSV5lCd3h55x\n",
              "5nM/WS5egWZyehef3LrDFsRS0PdnHWv3XnzFt1MhbtEx1snNdoLQQCFa1QzFgtC19q1ltwAAActB\n",
              "n5JFFTw//wBcfH3Xf0q6rXJrK54gBLThJIhuwSr4uv3iQen7vjFQaFNb8xeFjrlo8c7SRe0NCrUX\n",
              "BsPtzZO/+I38/QB5aAW+FDwzfEYP9UwLH9pXQMcWHq37SNtOvdgyXtzs/NsdJTkahu7RzDi7q4sM\n",
              "T8/j+IcJLMCN7S64POtqjp01URymzDHNxrq0llIA00FwOSv66IerbmXTLGdLuL88Wvg5FAIZ8tFR\n",
              "eMgZbTx1sBV7ZFaajT6FI2g7R0uP5ZihDrQRtRCoNj1JGQBiw20U28by5ZtKREkToq3ohbh01WoJ\n",
              "xDP1geeyIa7dWYt9QG8fxkd46Rs8JIM1FjxiDLfm6GGut0SBqga/02rDGaFN9teoXgk6y/by83Yu\n",
              "Qo6wAb1D7RHso2FzOcZBi9meTzdOxgbfpxZLC2VKgV/v7WZpDTwMEwoIiExLwELzrYxkduW+XD1G\n",
              "3Dc4E0aEfD4GkGeOU7LWxpICiKIUPQgD5vJDVVazI7Btt9/irrzQAzWAW5Y9TIGvgpaPrb2RgOLQ\n",
              "TPqah0KjxgVuebjalEO0iliLE/pfj9f1hNi5h0aVPimjOSI5gMIdpFl6LOjownyVe6t2SHeUGbv/\n",
              "GfMAAAH1AZ+xdEO/AHdukkMVT+Vo1BnxYnv/6n/a+ABOtdHPT4C43qS/BS8EbPz1lWUeLHMnNv9b\n",
              "zSt8VT587kSG7MAn/tskPAhjnqHdT7JAk70A9O42fUQx9PUtP6mDgPvsGlzCCM87u+SHrkC9jW8+\n",
              "iv2g0k0GjcCfIbTyB8vRfd26v0jpKmeN/u2w1NUzEpTvKcK7UAvkDAtRBQ0zVdeCU2Buwy8m+FC6\n",
              "3F3Lruz7uWItksDprW7uwYgPGdnxdIMBigaocQYE6fspDO2loi3xVPmbLb0VaDS9UqBb/LmuD0kO\n",
              "KSGUrGf0EyoleW8j5Kxd8V1v/ec7wsjFxIy8b7AXzFVSFxpWug+1cJwaRok+U6xIa/f2N96UHch5\n",
              "/+h9nNaop20UyBAB/t0xY4FGJ+g28SmbdFdC2ZPFRd0o2gvbdjVIoRaoDXWqOq2HBCKchE9VJ9PZ\n",
              "VQ7uEW606ngIku0cQqtgfqJVBgdg5U+6c+WMagQcMN520d79UBjo6kPMsBPWy+9FgJ7TcMl+I99/\n",
              "rAstzod1U3zZElTu0xispHBkoST3UE8c82/Xt2/eFcqZLC5OaLHmN4+8MSqD4nlVdXz6nHZk053x\n",
              "+4AsdQj2V1D2o4rhWB/m2a4pvrPZNEnwyBF4FSxVszwSpze3Oi3GnjNMGbIUwXtaRFUgAAABSwGf\n",
              "s2pDvwCASA0SFeGj+wT0chMA6xo+Qy2NUcwv8puPC/6LiAFU+8fayVWLK/PfXXiiT5+wii8AJvTv\n",
              "jMzs/iBPcHMynif4M0UdZiOm6EF2TfWmEY4IDPJ15+9qb0LlTcNyia+NugSJQUBJzcfOsBEF1MLB\n",
              "efNecz/xPgY2UgAkAsTeHbsrkes5WkWdiHO2IHpUsHPPa6YazmoTMRXXClUR/qgmFSFhuUZiZlA9\n",
              "hup5sNmHoUdRKIfm/z/DjLxf54CX+Uq/OMWRuOhB9keCBAQrAQN8hF/B1pS01ChN8ew/GIZRpT/u\n",
              "tgG0UwImRkBwqE+N/0BSeOCR5inxVtQwfEx0a2Y3Vf+8d5itiszkyRxkCcnDf7e8qghP4/IMLDYI\n",
              "h3CKbk8uudorAtNUijr8g2PFOMR1FtXeN6tWnzqEa/QX3O0/zJMBcso5kWIAAAGPQZu4SahBaJlM\n",
              "CCX//rUqgDHD27cAX9pA2Rhc7/ZvOgz+G2FgZNquvDv24FVsVP3C2ZjoyU+pqUwKBCT5oC3W6tE2\n",
              "uGt4M7Izi9/x86WSc0VFGAy9xfG/xM13tsvoxu1wCF4Mr41gh/6hkTgXRMLzh0zUHkVrN+kNiWbv\n",
              "iJKmVSUYrrYIkxHBT0LVlfVph8H1omoyFKgl/4whXy8EYTsEA5unwi8VfCvs4q6YQnwno5w//vUy\n",
              "LsdeTaEpLq5ouW1ZToX4pKrZKf8Hf1lQ4avnT6E14kDmDCQh2agcXjosITpTxwcTuxlOfEXGEWxR\n",
              "y474S5gVM/LwYxaa/RvvoiTw8w2jYoqEVY3meYBNwwgns/0C8jdX35dsQQggG/AUUe/ehXg6iJbz\n",
              "5Wz2xcQ5WGzf66p02QmHGVoD2vDqkArGXnewtSuiXeL54dtI9/PuNPn+1niKNEvADKl/I0L2Yn+Y\n",
              "B0qaNi3MNfJuv4O3ctV9f0Q6Zj7fTTOV91NhVyt2Ho2I0FcaoYxIbHuE7xjckBHhAAABVkGf1kUR\n",
              "LD//AFxzVgK+IiQk1Z9kQAt5wkkQ1oJj+F9D+roMf/kyq5nFDT2NMZHVjmP/5AEwhPbvZt7u6EmJ\n",
              "TsjaC/kaORCOBU3V3wnCE/nzdC4DoDM7N8oMv2bazNvV8V9qLd4e+l2DZqkQV/Lr8O4C5gkDElgn\n",
              "gF0kMcKRvDnwH3rOgZ7IFADQRhOVpKoeFxculKQr4aWKCS22dr9u9cFYPlplTJAFF8lr2KVZ8sAj\n",
              "UnVmpjzeXxaVHnucm5yM/Lj3QS1MPa6YWrj9xm6+k/et6i0SNombsFMCK2pDAwZF0p+a9X7Y4JrR\n",
              "CZl5026ozhGNV6tU8ZPgnYhYAH8PDRKLkOpU57TgeYSdkkjxWLq1OVkBv/AeVaZQtDFgMzgFqlG9\n",
              "R2lnXpzrDpMc2J2hHG90hneD10y9CHkV5L2Uq4aBImdm/XtdX6Go1FR80yzlS7+wfPV74AAAANoB\n",
              "n/V0Q78AgDGg8hSlS+32T0vC4zk40NwoKq3yPv33v/mjJvP/CqumgzAA+H0cVtnbAnIJNrz0e4u6\n",
              "ymy7YMsAmxD/U4wHXaahiEuQQ+ttFpkIFpPkxy4QG+B7GvgN/WpOSLkHswMPZkfbiFCPGLxuxrHS\n",
              "wRZMzuxIRnhgCbeLGGuL3DRtYbrLtCunQWnX7VX09iXrdsOgKm8m3QPZAqEWrZt2uYDKkGBkJf53\n",
              "64X9B2vjRk+QwWNtcqyuwovPetqQEba7Omd3W5dejJXNmVJKBlRdJXnyFOoKmQAAASUBn/dqQ78A\n",
              "UFwiyh5pdu+jxx8cCCpa9Rmkp2S5CACMroBeKHTjHkZ0oD027oK5Kp8O08iAWD9nRk6TzgNP2UKd\n",
              "KvMrJDEr7LbTmTBjwswM4fJ9y9bu3zetb/5nsdtRwu45xxc6umJb/doTI3szYv09yxKSOeBADe+X\n",
              "SYuldQBDGmVCpW0u3JcUxrqtRSx7jx9VdFP0JRBRBYAP+CdiIuWzAVIEM/N60NFZ/8E/kxU+gWBm\n",
              "mnhbINF1KykPIHjzuYhdKd1WdwQZ0W5QRqffeNgGwNsVRFS/bA7pmWM4hCXyvGtEY2IBUfdHMW4o\n",
              "ZwGpVDn5NOHcXjwQ1UlXL0q/BnYsHEK8+D3SWnTzo7T0oe7BM5LVEVK0dC7b+De8/W5h37IWevQm\n",
              "KQAAAeNBm/xJqEFsmUwIJf/+tSqAFhSL/B8yvNwCEmpfIB8GvF4/juK09mK8Vkm5bRefRXQyZBC/\n",
              "0H2bNbMn8lrReW28AErbSm06lCewWL2d/DtpXV0a5yadWFvBUYDgUgi8nY5H18B0WkkWWk/npnHv\n",
              "KmHJQFNUyM2U9aV3pB0BZyf4nkoqoh8hvghtH6FO8YPTKEw3gCR/V/6OtRXEJN0Gnfq/cvRJj8/e\n",
              "Gp8q68a6EgviENhdZAtAouG287XkiFsS6pbNAE+zWYImVFTtkKe/YHVQPyi4ER6Ai1pIGl8I0far\n",
              "7GMRDhPhoJdsioTkJ3sgT8Bof8ofdCbffokKssGq72VPKZfYRZ7O99ap7kdf2v/UwW37WLjway6N\n",
              "vFq9fBshr3oYUFPc4s1YmCACreHeeSsQtDko2jp4G7YQ7oT8H4IpQ53KEYkCE/Y/mPfaxxEl1250\n",
              "cP2cwXMvQwZmTU6Eqfg3LJYfY6NUviicAk9DH+HGb7YOVnJx1dP0hp7Y2C0PsQM3AQTtfaoXoSc8\n",
              "qVHPKDegezggq69q7klP+ZWY1lkX7vu59ZMoNO/DH8y+189Iymc+q1N5+zVqyqKVzWUsaWUiBHhE\n",
              "k5PuTX8pS8NmWjSJhy95kIurnrqXJ1bzKlHDndHnAz4AAAFhQZ4aRRUsP/8AObhEzk9ABdThJIhu\n",
              "8JowWgaYDplhHXSChYYJMulZ6tkL1SQAVfN8s7QIzt0t0XXsQ1yXQ2v1A0nm+54wxVLXA5T9YVC+\n",
              "25GYRLeE5aPFpzN1xCPIJBf9LppxlYxArLEwlnKYQ02r+YiJD7lrDIrdgeL5/wqrxNKLNCmeKG7Z\n",
              "1sICnLFSzmt4TsLjYLe5I3oBwDzXff6jIsHE1lTCQKLmeganIWotPtmcgfOB9OG8EIRH1aJctG/W\n",
              "3Gp38/6P73qpYXMOUlrKR/TCnC2J9hayZlyaMCaQgj5GZoU6Jc/sg0IMp27yW9WvgWoOhSfbc82o\n",
              "PIyduJvmNwnI2UuhjV4PqMmzq4M06FB9v3u+6gox2+bnDqS1gN3BhJ7AwHaV2EWASSfnq79RPgWH\n",
              "a1xHiWMHJ0ugGhAue/7P5rfsRs6pZqXVN6XUXclpp+VKLdTxvrKIcsarh6etJ2EAAAEWAZ45dEO/\n",
              "AFBZu+gAnbRHjy6SpyWuGDR+t/Q72QvPvpN4QRzyMs1rFz/htkmXNm/pNzffJX7ZxW0m4/7jErm9\n",
              "kDiRXumAEZ83LQWjM7DOM1SyEdNaZTmTJsKeKo5pk40vQePtFE7pT46ChI9ffUi2XL4RAN/uQLLQ\n",
              "5/ocILdd1LVjZlUqdy+pLAbgl845Lm98oAhYKbJcRkTmfCkY6ML8ng0MkaeNqwgCahP0WVIimnHX\n",
              "VFSCDaGIJxuLvpTPwjslgK4z0AZjmyGTEO/cNV2nAlVjxKallCKDG0Rf3Cx3SOIu1+nMZcvItQbV\n",
              "AL/sdOdv3BWzQZb7FE2ci5nSfasAoGVOsRecPkHIpeW8t8HV1LnULjF4tmIAAAFIAZ47akO/AFBc\n",
              "V1sAJq0R48urtYPW/Soq4qNKHZteV4UW9ZuLhUunKh5gxn2RJZ8SJwbEjDLXfwI3wKpprXejQ3Ec\n",
              "3U4CCaE+vnv202fwtKrfZgdvrisqaiZDrgG9UBr90NIf8V1FxQzSA6C4tg8JE8xnkGNtRinnCFVF\n",
              "3vbhrHYq04lKfRTGiizonTRE1agdEF8b5nM7OrkUbG0FKrM+q6MulFnFQOL2WBQdYzpMljoz8wFa\n",
              "FN3nAes0czMpQqrqGsekvT6W4pcQ/gqDvJ1w64QGNRcBmxgUL8pv6y+RukrdDPyf4uE/AXNpr1E+\n",
              "uMx8l8yPKOIVor0YpZ8e0GJtE1sJ/Mn8VCwZdS04cFLSynzXz6yPeNIgNyFKwPM/oz9WzZMC591R\n",
              "4KkHtrqL63YBoq0A4w4OJwA8sFO8VvbFzUj4hQQZExk04QAAAZhBmj5JqEFsmUwUTBL//rUqgBS9\n",
              "oduAQlR8M7qKLl3HnH7SPrJhUduBOtOdbDsbjVbE36gSMqqh9/gyCHHtIolNg+uaQfjBO6I6+SjG\n",
              "dVXd95X65VdvvEHcY4QNCANj2uEcE7E6x9TLRoY/fyjEoBbYTYsTzq3QsoBDC5KZzxvGc+ygLn7b\n",
              "Mkehp9GJ6k9AI2cyF/5NkzMCZz4v1qmkE9udeWZmwzT9AH26jGcn+Y9l6V1umBIITWDpr3u7oK6c\n",
              "uWD0Y2Np/e3YBSdPzcjXJ+fuqCaGZjpyY4Dpo1bQY+mW5lXTIw7r6nZpWaPmW7kEkKPM5lgWXXIx\n",
              "8WEQb582hsS4/sW4/4CALEOWTIQ3PEuVOsUPmm379VS507jOO4MoC9a0M4qNtzmIpk2zBD6+ipoW\n",
              "Gv4nfFrJsnEf4YLVG+gdAfG2J00501Xe6oDwjjn3XAe+KdfpHUnIM/iq/f/Ngu2Ypy5MffNNgevf\n",
              "dQ7lzhspV6gom8u7Fg8Ed2HUUxX+CRH6eDXf8J0SATrSvlgRsEjKjTpU/08TSpkAAAFNAZ5dakO/\n",
              "AFBNYdAA/pCIVoGVVNii+6FPqxeYVDryvAzoSGLsl+CJErT64mpEySusKeib4hoszFaIAO/0U9QL\n",
              "939BRPr0OSuWOfvKZwTF8MFVHZKapGrqOjW/3rK42M/b0qTZdFAX8siseICb0/kpULM0MkteP1xO\n",
              "kxUBVIUP8PmeUVnjtA2I9fh2jRNPi0PuaFO8d6MxfFQTLxY4t7lDeCzarWxqGZ1X1AxOcQxmxyQA\n",
              "etHBRCfTaIbAXgetDrRxIcAKLIqZacUyQ5DnCagwRSA32x0vsNcj+v+Ao61lCe0b2NIrgj21qJYk\n",
              "3hrFPaxm0jKkp3QD1lqejjWjFUVXtOx2K4OUQsUSwRT0FQ37Zf1+72GgLJeWVLx2suaAXPQXWtu6\n",
              "cPNaJyRMeqWD15riVAbThbjgXOFeGVQivcNbdUgEJHwMLz7zE7bElmWwAAAB6EGaQEnhClJlMFLB\n",
              "L/61KoAUvaHbgEJUfEfWsn/EF8DN+tI+smDl29+U7R9nvjcZ1wnKUt9yzYD9ohbwkXNNgxY1jqTo\n",
              "PxgnTOWPpWbJ5WZKNDvHg+Agbt1HrU7MO0Ef4S6J3WGubrJ+2L4g3QU0BFphK70xF42DkMTBvJgo\n",
              "a6RN9XQkNAxl3aFghFm+D3GP2OTgNZJXvVfhQIe7GMPmcxiWjzuiwgshy4JJrzdmI9Decotsbg8i\n",
              "DLroxMZfNo/eXi1/KtGB3GoBmsc/rrFyFX3rq2rh/k1PHCVRYjuhvCmUPRQ72BxPazoW/oz2uBtN\n",
              "BNN935xmyBFCbHcFPyQJD2XZFSUszi0aWwSpn4nMz3fbyGEBpWecU1/5tx4hHPhaA6kOt32k76j7\n",
              "GzeKyX2YIm6lfYJPtbY+RE464sqPMLlCdIfoypLf5UPU5lw1s64gOx+S4WCE7f3UmCmvIDPLYU66\n",
              "EF3PtrDsLWRSMKJ73QVSqyTStJ+GDd5uyVV33Rv8CdIKxEePJEUk/w4UTuuZUXP7q87ArRl9Bgs6\n",
              "Pdmb2gR0dEDfdUlT4e+DDb6WJamnBQc7PiHPQsfpF6EIDxDl04IUQ2WICkCsHt7axTNldJ1xckoh\n",
              "HY26Lwl9oPMOBrLjcv6n1XOKRibAAAABHwGef2pDvwBQVd30AE7e/hWgW3aqmxRfvBWFUM734b+5\n",
              "3aPootNMbrqKx8xZv5ucgk+cuYSYG2qtJXDzE23DGubytAf9W2KWLDE+hyBqy0kQyywc90UrddZk\n",
              "Cff7aCqf/S9gV2fyNsAUpGeMaL/DSBGJ6S8tD7D8S9khSfoJv2f5lzDggfJrRfnx3z5FzpyBXnKB\n",
              "5ZlD9a+a6B/AP3n8m7/6fBh29AJSLhLFjtMeBit8/K0NE34OdRU/tWGBoTrCZZW7e/s72/iS2aJ8\n",
              "zAfpyNbAfB45OGbem5be5wzM0Y+u1xVow2geMIhfR/fprPz/fB/qN6t+4VPVu1Kisu55QyCBWidp\n",
              "AtTSB6HqaINGAav64Vu7vTQC72blUS1svv6RAAACGUGaY0nhDomUwIJf/rUqgBS6GIUAE2UfEfWs\n",
              "n/EF8DN8VkfWTBy7e/Kdo+z3xuM64TlKW+5T/h+0Qt4SLmmwYsax1J0H4wTnUhY+lZsnlZko0hSQ\n",
              "9eD7n1w3Qs6wvFTu9zwUhofXxLgWT0JUL9OOPNSNgmzCRMuplCTOotzU/zoEShWL5mVufJyFhwuz\n",
              "lSqkPCGj78YYsTLKO7BpK+dX2s36/tEbxz/YWzKaxlXtb7G0R5ekXJR1jHNfXJqYA9zjr0x/tM5z\n",
              "PxyAKgSBgfhxh8rRX0s+zTMdo+FP5B6O6zbViKeWVr/2Xplp7B1YNnr4qREuO8TMMEKfGQsjeE5K\n",
              "wLU42DJOcGfp9Qmkp5kRHZ67kRnTGkRHwAn0mgoq+JBHvozDS0U1T8mLrB8SU6owhJREY4awKsmQ\n",
              "Jya+wulV9BEq9wVjTnOC13l6YeiUkH9OV2K2IzP/att11qi3zgvLa4R2K7aACF/SKXzL1nxGUBf8\n",
              "qL4Rsv31cd1244QQHVSljeyQ7uU/iGYvQOuTW7DpVQitkhbg6H2lnsJSqgE6pgjcwRdid4hZqcNG\n",
              "jkm5OqWwQkuYceOE/fNFSCTQZ8oOO9krJdNKPYyiNi49TqE4iLcUN+G64+iCYhEaIoq2mhJ4S/9H\n",
              "/DATB1dnuXBz8CpL9hyZfAE4M44MnBqwRkfhc/IKpEwSw4QuAhD53NGxSnrvsHiZ13aSoNiUIAAA\n",
              "AVtBnoFFFTw//wA4YZTPgA/pDIn5iNbVEcKlFsLVDvesHAO5Jrsg6xGf+Ki3s4vQzRO8dJOeVYYu\n",
              "c9du+hMNr7bf86/iZ2l+8kAAKuTVnlEZgloWFxnaFdzsBTnBw+OJLObp+Li9EL34qxmMzEY7NHLC\n",
              "/+SCCbnssfgD9cMvLsi7S4Gnj1XB7aUKHOxdfc3FwYdMV+z2HGOG8rcPbnU/toE1Q8AwI+NKWK84\n",
              "ey+yKk+9SSIP9MGqD7uETjfOHffO3zsF3Xvbqk6xwNB6pmcLZuFwvFwul0z7qSXNyxGJU7vmqn8i\n",
              "rOmNp2lFEGUQtyguZ5Fo7SRaLL6pnxcpACONeXbU7arbo8YXk1HG37yYE5r52n9QGl2t3y86cCdz\n",
              "q9XwtDaLAhxtvCAE6EH2Vgg8TOpurz/r8VSWC1Fr7I/rtUUxqgOyeRg5yLopLwue3cIzAPVJOdt6\n",
              "lnNK4yPvBwAAAX8BnqJqQ78AUCQMw1rEuCzWoUydv8u4kGsqd+BLW/Ru1d64gKFq1oY5fdNDiOMN\n",
              "gQFg66vjvAP61xquHlRVz5CHiZP3faeBCXXdcPCbjRGcnBMQQB/Wp1wk5agoiOSmmjEK/Jygverv\n",
              "uona029FFtXn8ua+q/u7cJe5DSjnV9wO1COqgtfUIKqMeHFVWvPCHtP8dTflwmcl8XVoxcyNtZuA\n",
              "eKzdMMBOpRuRLI+vIjn4fVEVuOiAeK4LllyeWzQ+SiJ58jvqQdDiXFofK/fSrENojuCRl/EOy0x8\n",
              "Sn46WiiPG6o9sqOzEGgIpN0wgeDt4yH4FUxnnhJ40B87IHR2NNqmeUwJjhvKPMeYPsCGP7/JMb3t\n",
              "VYGU4xY9uTIfv4V7xz4b8VIA4LYS1KYEUwPtp82d37VY9bD5t/oe+cq8V6YOz9xTuK9famu4Cp3x\n",
              "Nu8ZgruD1XRx1+sxmG/iEToQtsOCFns9kom+XtViCMVSELiaf1VNwAw5uHn03DcBAivmnAAAAhhB\n",
              "mqVJqEFomUwU8E///rUqgBS9wfQA6W8i4UiEsXdgHqvTJTTwp52yme/ePEH0QZxZbfkIbnYkGWaT\n",
              "Pnfv+FP+EUFy6K3bA5GQkJe8onDObOpIs7L4Yk6+lqJBWPee15QaCfAGi2BwZLQEb7yOFd4XGTkh\n",
              "F4LHlCUS/sux7t0GUdNGtLNg09m0F+TEfDT2SDAWquj6v6jVyogY4ODGmw8qYJTXa5ZIcyppINuw\n",
              "HLON4/HZf+QHAymkWqyn3x9IYgopKxKYE4/nKJbFEaHBgm7w/ypLZMXv6s8A+fuOFsHgFZRWSNWI\n",
              "89pUgwoDuWdMH5+hVvKp8PyhCgys7CQZnM9J64fZI+QqmyhPeTufohTjI9gFyO13CRjMCS3CadTj\n",
              "OSc/m2vsf8zgujkMxOGpLdSzr9je0Gk/itGqMZe6UFnsgJqCCkSkQJLxOejut1xMgs8gVX6bn0H5\n",
              "oFWWVWq5miB9lUFlURNcz+AaUkOvaZhzqyNHJTGzwcaQaDgLrhFakHPinA1E8UFffFS1V7RDkzRm\n",
              "U0r8bsSBAxvehU7zjI97ZZn7ia2XoGLz1NlOGcJ1jeFO41RJtO+T5XbuD+/KuD+pljZQQa0ZllYM\n",
              "EAVgl0aqixKC8GNmsjJn8fAuGGm8t7u6UcUNXsND1oaJLK3lWMq3qy/HNXYQ1OP2SAMZARDT8vU5\n",
              "06kG2lo/qJGVWsKMxA4MSiP8dD8uswAAAR8BnsRqQ78ATk+YAG1Ral5K/qCvxK9KIbjQx9Fkq2ce\n",
              "0wxL7XjIuN49aoRnz7BvQde1YKp81zrmHDKn+0v07xktetlOouoTRhjVMA3FnKuvNizVz+dwfHs4\n",
              "9WgPnfqr1AVbYWodFXkojqEJ80yPHgHBNKvCLBEQZX2ocEs3RXSmSKplJTsdSXra/hsdSbbpgMWg\n",
              "H0/K1rdfrDCk0ZxFvJgVwxVCjgMbImLEZzECLjaq0S0ei4vVPet5W0LpS06GuntpuK9SLwF2EhcQ\n",
              "x5Bhcrnlxylx+UD1apfhpgUXbKXP+YCm9eT6BRKkG4n0slSwQY/ptdTZEmIkpGID8JWVCw357M8X\n",
              "5DM5hga4iBpyyFsa1H5yG605QkGGEGK0qShRwQAAATFBmslJ4QpSZTAgl//+tSqAFL2h24BCVJyQ\n",
              "edBXNA9tNcsP19uACj5Lh9dOSjteOHEv7tI533S446N8PncAE5NLrGIPuYZFOg/GCc4ZDySEeXVs\n",
              "Jrv4Yn/+KGCEcL4CWhhd84Uevr7lZ1Ck8NF5m1fnnt+Pq8CqQD+iBsZFpQTHW8/lm7N24OaQsQaV\n",
              "SMcQRjH2+DuzSNEy83gxEbtuG99dL/QHw3X91JYBpFa+DvOQ+CW/8I6mJZmsi/V2Pr+fi3qoUjSI\n",
              "FoYcHxJKtAj4kOEtJGxiKAccS+clC49hMSMQYnf3qme4NDRWyeM5TVr0s3GEdfq2wQPqCLT3kPut\n",
              "tHV9owOOOkKmtbtgYMSj3W8EBrFRhAZUrzNYg+3sPo/nNM0Gwkp78l2MCpYM9MmnzHOkgQAAAbxB\n",
              "nudFNEw//wA3HHYAP6A7A7LdajOWMrr+qnqj9uf4ySYoKoTQyjZlxDqFInC19yX+RyR4tq8MOl57\n",
              "eJ9I5ewP3jA+DtByConmPaglq3I2OkxIW5i/+6LJxpH/pR2aYqpZvYuS4sy/CqRNb/q1TcPeavEx\n",
              "QdCs//yieMmxs1qXtgE0rAdPx29DmeDQz3qYS5tMbXdccSHJBJ8K1pt59SqKdWjfSkFJdV+76xPw\n",
              "q2o3Vn6rSbAgIEjSC1E7w0hR5OP2IofCMVh/9864GnWKxPsfLRsDt3f56xd1By4y9prQtRMVT2yr\n",
              "c9YAAD6XtxixfwqgcfKQQvI2dKU/jfOWrgnZhUpQGPSSFWNr8dG7TP0POCG5wL/oHtaaUIcT8fsN\n",
              "ENLN8RoVRurmysVsP8m7ccx0kZbE30JvqsDoYGLmGALWfyqzfNKaKImFXpCZDM/zzf7sKX1m2vGm\n",
              "ryDX4RM6oX560x5TBTG2p86QB6ZbwzUxI/PD9OiPSwLp/ej87FnCUG9i13mGDjzJ3bEpXaQZgPjG\n",
              "gwrvawro9mKgqWwEBgeilDc/i9AihXW/MK/J1/kth2kX0ms6z0a1+xahBX0AAAFTAZ8GdEO/AFBH\n",
              "n07gA2qPL3mzlEWsZn82sD6cWKZVwFNxp38G5NFwmcgYqD9AkOBsesPoQlOqhIA4qkZ2zsafIA+2\n",
              "j8NBBTE8GTqSEa6Ge6chXhASy0R24KZL1Np8NdGWhpY8rRercPehhZ/GLP0oK8WVnC2xcgWs06qr\n",
              "tU40YaMdYtlPrs5GFMbeHpvA1YYhQLL1XMktX2Fo3kpazy+wei2ZGskQ6LCnG9B0ZfDEdTtbF5Xi\n",
              "mO+VqY9VCyySOqlRHibk0+HJatwutOZircvrbWZPgnyXCNAe4lnF7PiscrLi/UQldpy+IWpnQJq2\n",
              "LNAC1Ejvxx9mndk5iGsknG1VKZRJaqY7qtlwGGwbXI+o+NB6WyKkzwO2YQFJ+epey9Ms0iAZuYnA\n",
              "tDOL0AHUCnbwPwSwsOk0BXhZsc+cxNmh75NXZd2TTNrNrhEQDwpqIMIO4bMlAAABWgGfCGpDvwBO\n",
              "T5gAbUxrFa2URN5LR418WEDw1kqiZM7IoaPNoNMRNZZAK9K5v3oHkiVmmzWJEp3pEU1Ww9Pl0yDa\n",
              "I704weD9YpUb1dAiPO/uxS6PWSWwFUOFC5+Sz6iXVAqp67DmToSVGSPtvV+EKwySwQZb6tjS5256\n",
              "vRPMphVQqWJuTKgbT2Nzuxx3bt13qj9YweYK/AnohbL/A6OogBZjJ/eqUjGTLHFb3IYllWeZcGLz\n",
              "bfv9LDvfSJ6q9FN0DjQ7EW0d5P7KikN9L4GTIZ4PDzRH88sBi/syHy4jeU/7Ol1BjKYGRsqEqsvN\n",
              "YC+oO4yBNfE6iSlgrPhVdjxWtY+6MGOs6fXrpMEyqgbfsmaIvr0SyiQAeFsNSdDmyw1Ln0142Btp\n",
              "Dq5wQLk/D1Km6BEhe0yfxLGtOl6oRBzBhBagOv1AQ/hayZyflPCraxduiuU0LjFzdAiNo6AAAAFJ\n",
              "QZsNSahBaJlMCCX//rUqgBS6GIUAE2NFGeZgwcBkj69TY1ydT+5B4WLtRz3/STLP9dynHW3Rjf9e\n",
              "SvORhcydndBBmAax1J0H4wTqQ6O0XS1JBnw0xbEY58BX3JlpyT8f9UAiOafq4ieAr+sGJbZBZSj4\n",
              "lGXcP/qkfxPtxZRyhE8jSb+Wndaeln1UhmaNT/sN+dS6Ygm2eGjOTAbDqivq1svmVhnJV+L/8Msa\n",
              "FVKFxXTOCuAscxtTFWjKIsblEU7jw6wYsT0Xfk+OC2v1mL0D0Bw20yKwKEOm076Gzaca4xA6P6Nd\n",
              "uFfR/8sTM+lLQxJDr99NIt/3Ky3FXLJl25sLgs+l/CecscdQpvMoyNqYP92EA6Uapj6fcGI/IJvM\n",
              "XsZjCcQhrpD/3NNKBbyw29nSQ87c884GY1k38ZhY7br7Ge/tv9BCXd8o6YEAAADaQZ8rRREsP/8A\n",
              "OH5egAuqL7N0y+2gvXHjXtPqW+WrXd84/wg/e9xbRZ1B4KBaBue05pPy1WuaLsumRHwgv+Pw0qHE\n",
              "qJDeG369TiMQ+vlNc+6K0QHFHFLtdfCABRN3IgjhLtRQN944acFNFWvIS+tXQeqNmpurZU01GYHL\n",
              "FWWYhhNvnRwrm18J0+K7flBafHOxC77T0lsmN+nuAfErsN4Opm1rC+dQBsWiY+qjs7Uz5mu0dIir\n",
              "drYvRFASRyOxgVQ18Qdos/XcGvqklmEXSbGN3WSO6wsjkntoCFgAAACAAZ9KdEO/AE88u9n6rfCa\n",
              "wUj4RPsDl6tz9Wz4/75EupHpEROk2VLzq1DZCnaKw8Ae2jBWL8/FrPK5mrxGACAqadohSv3HQyG2\n",
              "F9fHSCVY+FmramFn6m/F0qA9BMYdHzfDglTOeleZDZ+R2DdEmCXrxDuHLLgYMoEjXT1SmH52VWAA\n",
              "AACVAZ9MakO/AFBcMz7+MP9VQqh0M9Lx8v9CI18ObhHGTU2jvQCnB+uTAB99h6snlA79gxGDp5AI\n",
              "+PkGGBq1G0rrG0uv9GDD77LHoZZP+fx7ITA2kxKv36gEgzp1mqyMQN94TTEGYPhDJ2Y/BC1VvCuV\n",
              "7lv5CdZh68QUjEmCwXulElwItPiye7VgLqjGH9UjjjLWtf4FaiEAAAGfQZtQSahBbJlMCCf//rUq\n",
              "gBS7HIqABzN52JysEn6VaWs4BsvHcBadQdHRI4a5DnbUJa09gJY+vV67Jg7z2XzCIUdww/wUTQKF\n",
              "HntviXv4FKCTt4cp6+cJQ66VOv6VQRijfi1j/pOeAFkKbL/POlcHfd+TPK/GvluNmuFVp8+ZAINg\n",
              "YZQ2e4lHnh8ucYJuoNhQHKws4ZhNjcHRTR6fgSMFwEp4u4xKfqjlUb8GbFIlAg0GbABXe5Dwo+Xv\n",
              "vL/6ev3XWwKUb4vqpsHGIsuxsXEXM7/YwAHk6+/64nf7aXfbRNpBzi/0cZO4Qzi4PaMiKGT72k1S\n",
              "ZTfvAveXiSvwZfUoETqxsBMaaH4TUWD9uaOEjuniyCVq22XK7ScQptnr5mB7+8BVl4WTaawOBp31\n",
              "HVOdNv4vvzmhIssxWBSypnx5eYigjprmNP9dSB5lX9Jy7QyTM2gydnpXGc3YJ3JGkNgiYQmS+2/0\n",
              "jh39t/qboseLOaFRw0RQd7ygxcB4/CzDkQ59lsujnQMmW/Of1FfDk38ox4/7PEkPTiqhEIWwswRj\n",
              "IQAAAWxBn25FFSw//wA4Uj/IcAE1aW5TUfIkiRUs7A2Qodx6KMCyUlz3oZN9DaeJLzKm8ba2XQhQ\n",
              "o4SeVIV5IcaSsSWGYKtwDVqzsMBS8FYRwboSIqrukm1SwSjiLRsmKl+oYA9nI9u+KJXBKxrLys6+\n",
              "AiS1nGZMTlFQ7v8Q3XA0rdTU1Vnh3zj45/7Ou9Jm/Q8oJQHM0d40BrCYgiUYbKOHkq9ivt48PbQz\n",
              "8tiuEsAawPnOPSnGUkDmiysMv8PpgTOe9USERAnvFITYrQIDai/gW+faNCL+qhn2XppodZt9hJWE\n",
              "k+4dYkfq/aqfob3OhObGf4QtneEk8fy214UxEtY0/0KNOl2k4Jg95caec+77a8deQ8QFnfNxpnpM\n",
              "4aEByR/BASdKJ/XUo15vnK3hvLykdIUVyco9neFRdpYquEuY2qCMsSxKNjxsQkU8K/AYcJq+raAR\n",
              "4WOe0NQ99tSSRf3Fjh+JAAMqiDrzmKp4M7PnAAABIwGfj2pDvwBNUYV9H4d8tF8V4KYb0rXvkL8l\n",
              "U+e4PN0AdBQL6uEi4DTE8ZRMlpaxPEWdtnLsQMCfIxvGFfhLxD+k7FlVJKRpT7Ud+avr7C/NPspU\n",
              "Xz2+ffhL3/MhkzuWsHp83mOPEqZ/RiUpALkQo1qv5y4EfDro5dqBP+k1YA1gC3ZVdb5/PDYZHpJQ\n",
              "NWeR/AGVOQ3GMJ9/CKh79TdrUcFsFhe69tdoqO4SI5fIylQFHLs1khXrwbTqqJBSWMmWj/3WWTB5\n",
              "MFuGjpvmjsWhYhJrSX59Z0DRpX8Y49xFy/twaukoMlU/B9FrMv4BSs6V5ysuYqcfuMwgZlm1+y75\n",
              "BTfVx+nBLEiZDzGkzvScSneaEKEjWNb5f1k3hlSoRUurgDfXQAAAAm9Bm5RJqEFsmUwIJf/+tSqA\n",
              "FL2h24BCVFVg80OCVEM7/8uYRpkPNUuWeU6+sSgkym+kHjPiRGdpyBfaMH1zSD8YJ1Izr5KMbao3\n",
              "FvjdDzCIYcv/j8PRVCfhBjt9TX2FoLyy/p6OlEOinSoxkr5mhAzZVr+jAxnQ0Eq/B9IuMG5cS60A\n",
              "PZDAY4lh+/5rW435Pj8Y73SIZ4RXk7FHkUHZMxzc0H1HCxzckgVrfz+r9s3gz2oGBplvDsn0cBFW\n",
              "gNw5du2q86+9fG1yPJt/MYM3ZHTr5Z7lzv09+irgryEnSgsHC2FRpL09a7vcWPJ/P7dBPL5P4G5o\n",
              "SPqGCnX7ZElUfRDatYHyzy1/5RY34QPASoIR9QIjvGAy6NE5xVrw5yFnQ9jJvVbDz/XG9xKupAho\n",
              "5nwtecTxedWcdZPaX3Xdf+CvR6Ad89QlDjP+ksZTZQ22YhAhPfUbUR1dV4FeKaES4pVbf5+yCSLH\n",
              "O3OHWIAMCPcdKH8iTVyVoAZ5nwLMRrg0qcPtmeN2tVqwgHu/I6r61HtTZE3Ymn9BUcMZShV5IO+c\n",
              "CkCdfwNL+ZbIiQkdBTDavkS+rq+hA9AK9fB+snwwEwIsM6i/22FHzTK5fz/eCrJkEus6uBHiqdIa\n",
              "mb4IZZE0VeN/F/+jN8UxHF3wuB8RqjP0ulR+vtu7wMxpZdgpCteI+jODwJI8KoDHb4FNs88a+3BR\n",
              "/lfoeAeCxbZ2TyM3K/726+Fil7H/7L1Uw6SDtWf0xlB5Kk3xokximgjA2m1QQBB27uhkdo+owxJp\n",
              "Wa+zfSM2uiM46FdeVXyewm+fZqcle8pqFt1AtOcWEObdLEufIAAAAXdBn7JFFSw//wA4XccOAC3o\n",
              "50tSP/h1/sGIdwjAtxEUoxwo3u+kwvEKHDZonJQuO0WrFtsV9MSzr6Y2WEPt7FBF9oKUb+cTu8SE\n",
              "AullJLXIrUWhuHMYSAcXgvzACyrnKj0t7rq3HIsA0P4LCIIRngmDkuDeanoUuipZJ1iPsdju5n9F\n",
              "WPOEW81uIVAmUc6Kcpho4P4mJXSWR8IOnW37PaSdN/YnUDaMiEQ+gCedU2K++0OW7CfaZ9Q7D2qd\n",
              "ogew0n+IBJbkA3hShautoweGD4x3LAtMKmlTN9LnqYJuGjX8+TRPufXBuZ3QTl/4esbraI/W5iTZ\n",
              "wB8rCav1wdY9EN6hamUH1qK2dzPGaG6D1hwdFBiFzNrgb+j1N3u/tGb2b+9JUN6+gHly1x8U/yUy\n",
              "ocP3yDlF7RLdGp3FLEusBE329xJtjWHxWlPAmv88M2Q7QYexOtFFuJ1gnGGBdk1CvcKugQ7xgnw+\n",
              "HGPyAXf/CI+dtJHzrhbi2mkAAADPAZ/RdEO/AE9KYlCn+amlpJ7CH2B7AbTVbgCw6Ep77Dnw/k0/\n",
              "mHa7z3Sgpgn/0QjO5ChngGmZ4jg63lp4uYF9po0xh3YSrxh2xfld0qms3cPXlZIozpcDfrqEyuF1\n",
              "C4g3ajT22qx7Rxj2UQ6k5f/TBw8SEDxGh/MTj/AzYezgAzZNvR9n7V8cLVBVhIQOIfQWJ+ZYfHi0\n",
              "SfYZntPz1XnU+iI4sySQUdtKyTquddRnamIKGnM//bmwsFH9fPyWkYH//PXB/D6q9jL2hNTdcvFA\n",
              "AAABbQGf02pDvwBOHJC4Ch1yz+tdCpiTZA/foluAE7ZvKBD6x2vAZ1c6weU+rFFZ7tvGsjIvF1Ls\n",
              "rP2Kfegg4XXmAHdWzIhQplyxUVKOAUzVJbTTwZvwthS4o5xemMCR4Yx31jQZFH6Qhe2lijjhgIsB\n",
              "CLnlE7KkJTrwmOy9TiKZtjQGnS54lw26G26jXAs+pmuF4/ekI8o4UvqnX/oMfcRAdFlOFwjT5wHz\n",
              "U/lzcuiufzKkobGkLPgY3Tq/D7LS+6SpzSVIn3ppBp2eQma3XCaL1UJ+yl7CdAOiblMXqU6vQ0OR\n",
              "nXTq0FHQP7GP7Xtc40MsrHb6j4kMjRVvhOalAcObQm9VcwmoVy7b6sac7Qwr4dNwWqLc2A7nxEXL\n",
              "7BFogoxwLTqH+XPZGsDNbGmhc2E6r5tpxnxmmO6C0RAKjKL3pxwnC40NMlqihqqWL+gzPdokA3fT\n",
              "VKeB3BmPCylhj+k71P3XPTjLF1ah5pSmN2VAAAACokGb2EmoQWyZTAgl//61KoAUwhUjcAhFzS30\n",
              "TqjrCC8w4DLyC1etR1Bt2Y/ibnSMToPxgnQTP/0zS3BCClVyoDqdwSxK5Yery4i64JM/ha4oCGLj\n",
              "xeauEAl4ii96/INsgMRDIme+vjZ2ZlffgJ8O9lpJ4a/i6ZVfbNAUUTdJgCa9oXzvBC42N/aE47/O\n",
              "8FwRUzqKe5iF/vORlq9eA5mztaOO3AFqVtyk9NDPEMMmfAemZhJAjMH9FJ71ao7Z+NA5n5+Vzls6\n",
              "2Qt1xzMtVrJCsGzwGtJ9FeneRCu5gLTIS4/qdzju0xYCdWKQW1CVPJ2xMOO8kupMBX+GJp4fm3nR\n",
              "lRw+wROk/QuKzxIJiTDw4HAAMRtQIXpP1qB7PvUGwifVnF7BTPCmU8OouZMSUueUeIf1FCVEQ745\n",
              "GfW5C7mcljhFNII6g50zIcfkg3VHeFvVEKz2Eka34VVm5AeswI51NTzFSDIug2Y0K03u2T9exSVd\n",
              "fChCcNuCvpKKjQxwqyKNuirNdnQy1vybrZKZf2v9zA20TE4t8gogav3Q812RixPWnFnTy5SfcLs7\n",
              "X3QyfQ+q6Ux1FIf5tG14tFfTgRrnZ0EE3MRa15o2Dc4FaSnWXQNF6q2ACkpA322Dt3FH34k0zLs/\n",
              "5PudVX8HfIxOlKaRJ2Ec5DlU3uLjwLHLG4TZTEcqEZbXUnVABmvQSBjvEBB6haW0SHwfT2TkUXBO\n",
              "lM2nkg0figifPvmeR9imoNUxa1zilh5hW7KDqoKOV1dc3Nmn5i88O9F/GQTjr0Ev9JhAZEo90Izo\n",
              "dKaRasBf7RAulNeoGZOlYt3dnB7rEw6+RZglt3WFDsaBXPh2bgoqX8sv/K8+Z/+JjkJsScCteRZr\n",
              "kHsBhErQLjkMWSfVedI+jUZL/oJJAAAB5UGf9kUVLD//ADhYVfudIpo0iLL1sB2FcCN3j9LDUH37\n",
              "UAemynfvw7qutG32rCCxk+cf2PRkfm6KkZ1MWXfGwgcM8qYo4/h6+lOI6D+SEGL9+DZs706o/Zwt\n",
              "jz7wS086F2mFmeDU03s2+tl/5xTVAEqpxf0IS6ZGQg8Uw56dfEb6nWbTX52n3ul2jrML7dIeV1pY\n",
              "TS6RTygne8we+WBj4QBnV3H4dIzD8eh2Ges/FJesC3B9rAq0ktkVY9T2zKk/rAnZrKRwpNoZseCL\n",
              "MOiiihysSIDMLc2mq98nZsab2vpkaC4s9T5dOOZxsXDmEeVcJhRIP9Lyijxuh4KzhvdUr7LlzurD\n",
              "EFNPKGeyz9JIara6gh6/Hok66HiMLWmcwGKLpBpQ4qwvhJFhJyLBOz7ZCUKJXsDuXXOk6G/iMH6k\n",
              "jPsMGabHON1GKFBEeYcFy3Budt1p7RIBdcVDLWG4/Bp986Zj4I6nss8NRAVa8lESlkXWhe1W3zkt\n",
              "EvahTpMCdje75CS6jeA2LpPWde1235NOGTM8HAf6yCdy+MQMmxMZaHMH9l3c9///jDbrRSeaW8VI\n",
              "DSVZQetWhhTyqeqFAkD2Du0+zZQLg3z/fFYUvr7viQXjkxM74vWcPW2B0C07gDcmmXakb9UwAAAB\n",
              "rAGeFXRDvwBQR6MKKkylAwFZJkDHXh7gAJ2/gE+5hKNSVT8iuPOUiCaq7jD9MInU42dRQeSftOXi\n",
              "s9UBVIOuDf7u7otO5Z3YpC0IW54dgEOamy69YcL7lkLVO3eQSzxUqidOcz5j+8CZT8lQUljunkzZ\n",
              "vSjBWKT0MVd/5/0xZZwXAJB0ceSPcq03ZDW7DTfYveC81gYijscG3Ai+BHGCOmYgZMcj8H4/1ANE\n",
              "rXTo3SByB+lUhWzuIteQeK+x9q11p7Mb1meeT+/Y6rZ29s7Etw8Xs5DW0ElDeBOpsjwXXpHs6KLK\n",
              "DZYh5imNobCWDiz3IlVrdRWCh2bqmqEmIwZp9Ewi2AzjnBa64y+0LQYOjgd/HtZrhmuaGWxVbYki\n",
              "Nc4aaz/sm9fB78u6y1tnG+9V5n3UXePm17Q2S/hJsV84bw3sqLpdxJXTez9rMkoiHTAzj1P0nNiw\n",
              "XCfkfEmMBir7z8wR719p7eYYH+JSX7TlJWOkpFDnEtRHwXbMPP/LDcHK3jLfXdM8StFRGrze695l\n",
              "stmEUCgrZPE7fOvZDKOaJ5bpLMZy5e5RwAvFbKGBAAABYgGeF2pDvwAb0Ef9O20WTaiJas1Ug2S0\n",
              "I0Y+AFvXVgrX34BRrsXrAm3pxTqGtN/E/ehrq7ciAdzzc6Qxuzr9Jpxb1lePQKjgTw8Nwn78itu9\n",
              "JEHi/2UWyqisvL6St290EBFcyeIsDuyiIp3AdDIBrIaxwceB0jyJozif3pNhjVW2ImiEP0YDUm/p\n",
              "ng8RHLzlMcnNd/FkKEOIZr4qDXFM8ZWidHls/OspqWiSPtGT6lHLmIM2ZqlcGl8l4Ps3MDsGq8Dc\n",
              "tv3GnzDWi8bq0tQ+UZvrw4WH/ry4OIvdGl+SqOw5j6tuOYely9+Hov6wNHElRcJ9+ZJb4NpMbT1a\n",
              "ZjJerc7eriSwSbwY3jESmXK68rfhKz/2mh5ESkAyNh1nerFuSm4U+ZEJVXRdcoYrUxFNZE2T00P8\n",
              "/Gcm3JajGcXYoQSQh/2d2MzoqhfQ6g3ZL+flT94yi+Inxnxj3gJVBZZ0hq864QAAAp9BmhxJqEFs\n",
              "mUwIJf/+tSqAFBqNYuGoANNQ872FqNaGStibzdLcUhsaAeSYNfVn9oeoMn+vvQw/vk14HCL0inli\n",
              "GSszyDlfDl9m5dnEQoFfrG9ANIUUUHyTftn9oxJJAK5tavMGc/tIVoImBVvIWFfUWcLJXAVZvA3o\n",
              "zNDAO5wOSEZGIo7gYOLe5WyQcy4M44p+EXVpeG+t5IHGVcptW2z/7RFXAUvJCK15J4O6Q0E1Ffei\n",
              "5yyY9RI8SAmBHGmO6j9M6h4PIcAkMHVPE/dsWkgRYIPo0AU4R8ksTOWEOdQbls2pr8PxGzuNVDL7\n",
              "VNDtQa/81gLiu2Xzs1zfkBK7PjcALL9AKjB4lP3PPAhcK2kRA/uWAoJSMasBzjn1A8Mt3hAGOwag\n",
              "RD7U96JLkkmjG4iHierm/yMcPRUL/e1Ps196SL9IVnAX8ydeekbjJk8NUPslCed5eMTvJufERBmw\n",
              "HHIn+VDvXWSl07cDGPzHdMmiDh30CxBCrx9vfT16ic45xPE20zJlM7x7u3QDwPRQBvCpHSW2/546\n",
              "g+rhM6gKUS4niaH5FdF3Ye+rK7jlNUHDaAPYYuGwqmmBSBH32Sxe+vOlQ430//RAoAXIUezr+LGw\n",
              "JxtbIiBsRT+iXc3jMc2Z633BHlqy067SygkJEueNykMZjYtXPAKMMocAyG2tMPw8B0fc6bRRc/9Z\n",
              "sofUMrC6xTihJyFiFqm/93Xk350ox9q5aDUnTK3dH5O82OngMsxH2mlfNamfPVrYZQR8LThinBv+\n",
              "B2J3aCsm9+7oxLoGLdRml93lgJ0TGKaVIim7HzTV+X6jfMdfghxM1AgwG0fLjgsMiU7y1e5EJl1A\n",
              "VvplgKtMP1SsXXsGxNfa9dv1x7E4Rg95e/ImtfYtDXMT7XxOkQAAAgtBnjpFFSw//wA1uaPcpfG/\n",
              "jNgOvPgDq/gDk/jX9BwA492UhDfIh27aXJTnIlJJcOmb2d/zk6QxNDBjLnRHs8Vdv7dM5VwqoELu\n",
              "vY/M5FGbO28lHhgfvUZtF+JJIx0CJoddM68MeLl18hI9QBwtEXJA6+51mCZKZ7wzuNpBXijdGJil\n",
              "HoqjSr/Q2N4funceQraGWnjZ6TAYmqi+6SPcqacaorbyyk6bLmVnn7SvAcRn2hghMU2Y8Ae/vfMh\n",
              "1J5GIRlcEOqThZKAfkDUPWkj6kb2IP0yOxsJEeOie8AiaCrgsP6Nzmf3zZ6RMaWaxV0kB6o6IQWz\n",
              "wQ5MqrkS6jXNmkITekb+LqzLMo5vipcwVS9ALxPiiZjPh2DyS/mqS4WhyedxF8ddppFoU+/GxVoI\n",
              "i3SK/+IE06/XBieieZ2n0FLnn3O0OBUatSl76Z8d3dq+9Ph8yDOPf2CVvPvJxtyBLxLOpFPREM4t\n",
              "3xUT8cpWWXWe27WC4OUtzjEESPE+p0m4iMLE9mgsPyCK3YmxMqjDYtkQkRnqoPwhM7YnNIuZKsBI\n",
              "IH5feqtEIvIDJedZROt9R3ckzVC1kVxXr4n/I+xh4ejdThJY7Mjco7Wuv53v3dofxTYViOXwws7i\n",
              "oFAXDrB/zJBcszx97Zoja769T5pnBq6cQmbYHq5mTuJ4vIA+/wsfkRqE+nB4rsTHsHHBAAABXgGe\n",
              "WXRDvwBMGMeb+WMTvzEEES4uNsafhKfIlgBuyCtlpeDjVYqvVT1OOvnPfLtd7Hg9ih/XccL7pLfn\n",
              "gM0QSfi0+Umj7+Oq0c2R7FciGkyfSmj84/6gHoBOPl56PLnkXkOJN40pCyT4FggROtOzBhYUs5OO\n",
              "xB9Hukt0bDHA02ZFbovzqWjTPVDUWItVzgNEmCkK7Qp+lc0n2E1kJC+c3uD6KzPxuhA9f02P2PXs\n",
              "xgz8xssZuTJJJlnL/o3OTMEn60vwTtyXkjoHFo8O6j7HmY5hXE5MzAPxotgzAHrJUiko0NxO+RLh\n",
              "6NHOLYpqVB6N98rCROzIVk2Hfn0d2ojwcfKv2zcocCZg18bloMe1cwJYoLXNkSGYS7Yg9BArA6Bn\n",
              "lmqkZRmqAGl2mb4I0vCjjnLeNxhiriJ1x1zDh0dkrBkcoZTFlseU2pOTmwEGmDfzUxNpP47TkezV\n",
              "lHkQtboeAAABYAGeW2pDvwAQiP/57HUIz77gAEoIHUwOJFe6YMXCmyl2aMjsK4ZFSB7053lvZMmw\n",
              "p/NjmmGhnmg8YiCjut+P3EmRv4eyrnKCTwmO/4DMQ1YqXP8/V3PdQD+fjAvC/g+R9Q4ohFABOD9Y\n",
              "zGkWzVXh914WoFvpUOmXSH2HoujIWTtjajto+pqBLNEYiiyOwLbaGLt09vpZzTmXyt7oVDOHFrZO\n",
              "GkaKr9YNMgTv9k/B7hZb+R41tk8a+yj1mPqUE5/JYTmGGzIj/Kjg9aD9eB9schiits/EZ0avVgXu\n",
              "mh7Z84V2OuOiAnLP+zGC9zQMUHTl5LpW0pGMcGJ+0Gu9OWjqkMUK+j2xjJS4tA3RvjF9pJl2OKSv\n",
              "ZSJf7GHKgLu+eeNlkj7occHaA3km7iVBwaZ3OC9jxGVrPhyzwaPYDFj5rp71QDAVFRqfZxDptzAf\n",
              "Mo1Xv27NKvL0nc5wudjEgqWUUEEAAAJAQZpfSahBbJlMCCX//rUqgAFC4BQ/dG/+14AFxJRJcfD1\n",
              "o/ZVaRngLry33ZNT4nMviTpk7RH/GhknIQs22NDKcd9Z6H+wH8XWl8+C/OVZfAa/lcmIfnMMVzB7\n",
              "ycrF4gzzWtnxWp3p9/0KLW1iYRgX705P3lwb2PQWBhFJNgFm2a/myzwPElrkGGtPWUYbVvAV/Oaq\n",
              "sPKlq1zZoMNUjxv7gpG1n6quphwfXQaeGwu0aNOlLUdlOdUT7Sqb/mkiLp7zm6R8wlT1ZnUHyi/W\n",
              "Mwu6PySXnPwF/W+CSqOR01+nX+8trXcDZmCYNcwIwVo8jDOpi0ICaRwSvnpLfwD9/v/rFvt0nL9H\n",
              "4uf7TOB6sM8WrLPsF1fLFVcIfvlTJ1TcbpNr36NYnekl4h02Sz/DsDsDR4Xh+IFhfR806iv3s0Am\n",
              "RyoexTLF7t/q1toNZFIioSKPgEybTOoC/vLtJqmOpfkQmBoaCCyzTdQlxFcocmtxhbRK9HD/+BDu\n",
              "skVfv10SgW4YCjSLp84GDHjeSafgYq7A7c1qGD8RBH1prKFudHuqunwQhmzvF24OBTzg6VbdrSvT\n",
              "mU0tyLMytuif6/T94yRFjU4/krZox0ME29XFdrUqpiTM92T8cWptQznOF7mpAA6Hk0Z9GwaTzpBZ\n",
              "DrZF3ZNESwaZbjfTkceIb3nTeE0hvhHpITRTP7Bc9rNXKd5Dl5JvmWd91FlF2D7ErCSvQJOzt6Gc\n",
              "5otBfOXyWY4zn36g+uea8XADxdUgwTUTOQVyQoLhAAACMUGefUUVLD//AAvwZWQYBwDwd8U5NqfQ\n",
              "7YAAiD5EGYqLxra0XMgQm2KpqcIIQnJay4l1S/xEtBY7x8HyRi602x0lORqG7tHMOLuriwxPz+P4\n",
              "hwkswI3tLfCYySFP7JQXOPMtTPEgZFBIGVT8arNqweQ61y2dMQXXt7QIH0NSWrwZty+lkNnWWl+f\n",
              "BQvlPqDidSNp6XMVd8z6Aw73DnKVU2sVOXOGnt4sCv7knJjUgBjUpRxxdDN9QcftHPK5uw1dCNXl\n",
              "Wg/5YcuzJjAkYMHX0OyYD/8AXWDFsY8CmvtONOkqj9TRppy0Ggc2Q3asiaN/MfWWKSSRozYBlR6p\n",
              "Y0M5CYHRmGUxHhNGxIFcOxamW8Br9D2udn49sqd+GHVqqsUMEujsw/GYwcFobBRjNlElCedNMw4Y\n",
              "CMy0Kk6s0oB+1U6OVedHaJ7wMNZqfmMhNHuXnx7KYuQQOkiQfbMVvu+PW8qRlO6pS3iH0ekZhtVq\n",
              "1hlKP43dYv2iYjGNB5Lb/uLqhCegKBO0wIKJMciZpVtIzFJdSUeD7a6G28bX1WfczhjAfQCmv/5U\n",
              "xcpsAT450g7vkmKsIAiA53HgCnB+UISgivXs0vIm1J8TZxCKHNiAzriIIZldjUoBUm4L13hyjoHg\n",
              "1b8/frKb5aB0GKD/gu9ji2C3FLKBSWZdXXDTb6W5BV5lHZrMMbIjKRxNfmZDKXfuqur52cMNaZuF\n",
              "F94NHZOFWtmcRtgV/Hs3d1eEV/tVlA+ywgAAAY8Bnp5qQ78AEIkBCPIrSn4PCyYAJVHsg2xwY4+X\n",
              "Rg15Qhk3gKf/kO4CbL4WCcUWKKI6Dk1Dg8tZSkGZcE/u8+DhtxeP72vyvMkPsBYq6QvyomJ3y/34\n",
              "oNl+YYaZo2RKhzviJlwK1kHpWgQywvF+N5dUdjWtsCW9cikpTbLXuIq2ts4zDKvo2kantYP1xN3P\n",
              "8hFtmezlHvdBbFwTgWsrg3MbfgmXXCgqhSxuB3eiQ01emsjUyR6DdmiYiVEYfK69/WYeb0IMNeQZ\n",
              "+d5+EUqsnsvDPWsyULldpSp2PPbJQQcyP/tD/JbJUn67BXAufnsBxMrdlAYLG0Hj/M2Rm7nyn1+b\n",
              "aezB/W9ZFqDJz1fOoH6vTBjqCWFF2RcLag9kMDwqwQFXTPV1dRYkEcmOXhsbJHUhzLQdOoM//vIn\n",
              "orvDy55oTSHvtBK8TkT7lHPeGEclxRUloQCFoZOApZAZBAa0oLzXH+SD9irLAy3udOfmH5113SMK\n",
              "vATki02ubmpBLIKWCnygJFCDIdl3FxJeSiu+vLEAAAH8QZqBSahBbJlMFEwS//61KoADv7j6mfep\n",
              "VqABdrc3vb3gjVLbGa0lS5lqBiV77DLsRpmaITf6qEMMWSwyivInzI2LQ7OAeC/2mtSU7lgX0n1e\n",
              "g2eTVVci60Q0Ztmn7I76lzeLhHl/N8iLj6WDkL0bV/I434AHyegYYJsWkyvAyXbgLIehE0jjnpOZ\n",
              "arFsRA5RpGrYId6G3cyFlPZhyNGsrY+Us86bwz8OQlTX7Cu78bWX5I5/JqaVdP3NWay2A2Spd4nB\n",
              "k+0vAJxdn0oDGgIROu4ktOyMas6cfOzTEkIfmqHev2IJB/X9XWY6N1l3kFxuOtVTGXoJV18EbEYF\n",
              "o7yHGUPEn2sj6YQMTLK4b7ko3eTkV23ECfT/z5o18R3u787mjyrPT9/wcdkvcLOh7BUyYMA6nSSt\n",
              "PWyTl3i0MwI6NFE0WMj+mGFZx3NfOzEtYAl3Gt4kJJtuYy6lcG7s83DP8L/W7xbAIbydHnkObPk4\n",
              "tI6eEzpn2uaXTBLug7Cn7HMdeJAcAlqKnzy+Ro8FUJe4jQ+ea+gjMcQt+8Y70gz9DsLzn1U7ALV4\n",
              "D8dL8L4sd9UUld4ZK4dR1ERnw/8hAlNrQyYG/8tBdr3HGJv/w3OhvGCjDD7/j84QaQ4JnaO/QjIP\n",
              "Pvv1RT8VxV2kuP6Z/tTLjq0dKrf/cUwbAtAjrwAAAZQBnqBqQ78AEIpTwbMV05P1pe6HQAWyFI6G\n",
              "NGfbcExFLyhDJvAU//8d1O2U4iuz+PupTvY6sUWKMLmNvDMHq53D3ixsyhJUBpLKfqEa/DjCEuZt\n",
              "28Pdu0wPqqZkZTLGJQartfjTf7GoPRP4az5SEk7B6wX8tZ4o74iDL2WVIfOTFM11tAsb2FfDUYov\n",
              "z6d2wUe4KzvpYbbVg8K1KYwmJpnTG0GYEVkWWipyX+m/bXR1kkEneLFp7CrsURJ9N6N8LeYvA6gY\n",
              "pim42cmX3XOXJLK0sUvQXK92Ngj0+1jm3TGjY+YvP3/u1CXlpWSN4CYI7rq9ikq01j0tLZh2lbii\n",
              "Dh+gagjyJk5tJxeiS4iVTa29FZOJwkwqRrNSTe1RHMhu0ClhLVwBCrJ7DJlcwL3QARdig+z4znbx\n",
              "W5YR7MJa9VA/CHWsmrBVtl6f50gkDbDbqoGUZc2/N+MRXgnnzE4cjeqH/K38bptZAS3H7j3DZU32\n",
              "pDv9TX2DfzFLfqli9T4n4CBWr58+G+CbjoAXHi9VFNZLneFxoAAAAldBmqNJ4QpSZTBSwS/+tSqA\n",
              "C36vf+GMHkAEuXv/MR73jOT/xOG5xmFZXs/Yvi2M6ihZzXR16OV1w6Odb+vE3z8l8yjGyeWFt3y8\n",
              "3fnqvC9Q3Q9Vb1s8USunOx1kNSEysa4lki8KEkAjGZ0DEaS63VuzRb6YD0pp1hFupiNMywlp3swv\n",
              "iKdlPDirNs151P3tr6BEGNtghzdl7SBFERfXuGsE+fvNO0n71JINf8hRTLa+ofn2BOYvNLymn7a7\n",
              "naJVKhYZtAiwwnYpWMUFwVeS259rAKx5XWNuLaVWAdoU95VQVNjPaLdh95GnatCQE0JupyjguDwa\n",
              "iu4z1jOQiYueXvWvuegM/ZPTu85S3WN7t43jZNpiW1hJS4b0q02EDIu8vRMfyVDD4K0ZET8Wc0m2\n",
              "bKhq959qE1ZFxs7+M2pkVc0hJk1kMGl49F0I7xQnh6qYRAyKyFucGi8bGCNA5rHbob3nK8nNh9+y\n",
              "irZUQBrXfxdLEexL5cW4vncbQigrKmPXnl11g//FGr+zC1Xn5SHcu0TWsD3M4+x93a+bwWX1pApT\n",
              "KMjEtscBHo/VRy1I4PRUn6oN4i2y8slekk6J7L/13TPqYw64x4pmUBjPsD6FUcBfQIxGoGMNViEX\n",
              "y2nyrxCzErYZmFUa3TOtIy+gxYfSk/FVELPV0FTZMIeOdiKjXMfgRQ0v74RTRNoG390MVwYhlLQA\n",
              "UVA8w8RXMT26H4aSlz1kvCVcepmE7l83e+BFhIfQBMsTkWKBbPth7alJruC4O/9EzexGjmGwsS/i\n",
              "VLRICmPjFb2L9QL0gQAAAUsBnsJqQ78ALKq0Mf/g/owAXSg1HXrr+yabl+1hZzjia76b16wLoq+e\n",
              "LuEMJB3fb7TirpvQd6l/XSx39rGdMXh2Whdi8cCIajf9xaTTtjoFsegrxj1kYs2RgW6a45BpFQmU\n",
              "qBvztatGZsbIraiu9RYjUXiucnC34J6q+VUTb/YCXjeVUukrrRZvBaHIdNcQ4iXgNI/mRv0uZDB1\n",
              "uVKR0QeEvpt3maxI+Mn2HyNuU7SizsUfnFUqiSao4wjC0vMye+WvF7Lj73dISIEdD0T1OgqQggcq\n",
              "BN0EIxTo8F+HGZ1iuFvh9q9Jt4E5Rj5ne82H/5o2RRRjYe6jirzRcmjVohSQd1PSnT/jp+irE1ao\n",
              "oiPkynue2WhE4HuQILVGZ7Qq5WGaSdfC/ChHdtr9Jwhv9+vEpEEjB1Yil/EZsqEx0SnhZO9XvIPq\n",
              "V8wc3p/wAAACSEGaxUnhDomUwUTBP/61KoALxrF/ZvjS/CwAZccdbUz4NFb7YicwSeEnDiaBlOE0\n",
              "bJ3WrJPnBVV16Su+eriIYD3Yx5NRUMVPUQ7uxGb4D3N5oRecsiCFuxAVWYog08ZC0l6cOLSgEnbz\n",
              "Xj0QxPSmkfBt1LKL1opT98Gzrxsvbg0/1UCvMkyxlGyc4gFcxxHx4Dpbmze9jAqZkQrHuOtIdiun\n",
              "FqAdHgyaLuk2tMz5+ncYFhjbkRP7/lDrRtrRVMvkbspkAn5RJIY0/nR+sO50es/ML9QiayWeuT8G\n",
              "7DnMgH9wzJKrUkr2ezBGWFNN0jN9pL7xWinGt5xBWzKtv2Ygsk1lCe3RJAcXxzusXYWYCI2/Whtx\n",
              "YhlpvoXb1+6mjAFXakZVQEwqdYsZIxv6BLTMRj0D6KjoYtL1IbsEzuoSqm/vDeTXcKnd2bYObAwF\n",
              "D+XmC99MTcoePsLbl/TbxRBT+EgiPhZetWma4tqUvzF4vXV7YOqcvcVfU7y2vVEAj4FZE6DrnPqU\n",
              "ZZztcUWaEobzDjZWALPJiTlAu/AJhsYr+gf8qFb3nH5opM3vjsuxkWJ3cp9S77wUUp8ZSXbAqgCx\n",
              "qp3cojnhRC1IprsdS3Y+X/+Ll/5juQvLPuIg3pk4vN1DAmAlOpf32oc6mc0cdbKw+dUBbVwW/Ccm\n",
              "8CV30675u1DO5CqeLujwuZMfb/thvtlPF0ikajJLOVMgOBoEgVaUY3hWcqdD1cD1xqXFQ5vakQ5v\n",
              "KzZx/VeQsxQckc4c02KEdpk7oXEM29+JAAABVwGe5GpDvwAtXu//Czh8AFscYBWHDkvlKed2HdXo\n",
              "JsMHONrOFVar4x/ZhXxbTxM2U4oCRRl+9r5yo7GDZti6qiTHx6r40Dxfoo2c8KEmofZatAZZ+SDu\n",
              "2OsP24UOeCZ/8XZisjNpkPmLF6mJ6eEUdqGqnv31F3SEYFQeHX50XU6RFbzohIA8LjP9SAx1UKdp\n",
              "8oW8pZ6Ea2OjaQMtlQMeWjoHSKivKs+AjTzqhR6dV9mPs+nRnAh+r5SgL4o5uprBKkLH5Yla1ttM\n",
              "0M1dG8t5Dv5QZ3v3qVPVtGOe5PgmckmIXOBVqIl2UeC13SJunLDfIlocal1y7Ix+s++hG3r40z6q\n",
              "PN7Pc9NAI8hTXxpcWeTZowROPhr1MIb4kWRjs5qcl9ayCMfo0uLFFs7Svb8Xf7/YF1kg29cD+0JQ\n",
              "IhHKY+qT9nUipf0kqpejn9sNn8I40wnfd1PGD+EAAAHDQZrpSeEPJlMCCX/+tSqADLZXX+OJc9AA\n",
              "u1ucyIE0b60octlYSEn8JmGTM7xUu5wZMg5AC8LkvnRnktOaGbrglZTAr3N643Sam4jAo2vluKB0\n",
              "CykvF52fCpXiKG7ojd11++XkZ6hpOjxBJZaH5+dETZxZ34zWkA/ogrk7dvLzOjpXUIt2tOSgPFmI\n",
              "m8Uig66mde5SlUiMneCD7tBipPuvU5p4Ob1L7t9CKa6iHGMo2LTUr/+7n8h8ziqyMememI9PPhrU\n",
              "QF+wgwr++c131A8VziWnhFzQuKTQmlBeIUFX1Fz51EWA+Rprz64VsDBfev3XCGCYZjkRQ+CHH9MU\n",
              "zOExsWs/28lN+RAg8lR7JVxYOasIV7iATmcKlDOiDsD+KekTMBXIXJSkDqINEsBqKviHphc/kiGc\n",
              "2memmiefAoG988RMVDbACLJD3l0nlhImCvsJAfYW0f6XnDeqWbF/2JdSruTJdu/4mS51fXzvUaAF\n",
              "Y9OeKVNvb54+s+ZlKQL4nTAbkzyJm9yeylwYXfkpvZ2oLjvVLmnJcJoKtgvtBVTQxf5mTdMU6C2H\n",
              "vDhfpaefAvF89NYPy1A+oWq8kmI4kn5IBB/NUQAAATFBnwdFETw//wAisGbx//RsVxhAAh+x4vJV\n",
              "cChtX4U57IqWwOog/iy0+nv8SYXlZePxUaY5L6eh6WgbGy3UprNZCFotaxnc0iMNeEfDkwimifv9\n",
              "A066v3WK8xUEoIPJrFm/k/5l3eJ6PG/PTyLAJpCsPRkxk628cf9J5t12bJi1COQDHkPnpfX/+3MK\n",
              "EXYTzjmP4nU5sXyGX9aBT7dd/ycF37ejYirwgd6dKGOj1fLwzkM7+n7iXLZaPmKzhH2oolKWWQSZ\n",
              "WqmSoodBk+eRgCRLX6zi7+YfRDe6LoiiMSmIu8I2jGZ4Q5oawJtf3FEhvw02V4DB5P0FZSQ7iY2m\n",
              "wybUO8oV64OokfU1Bx5lnlwrRolmR2zACG90d6d3Ed1y/IwCvMb3lykHEz1EyQFGoOQNSQAAAMYB\n",
              "nyZ0Q78AMCKgCt7uQgfQSVyBatpQV0gJxpg1IzyCpJx8gJJKH9iksIcu/ahau7VEHIofP+C79pYa\n",
              "QYopfZZ4+EnG3Zw9Q+91XXnktPpG+PCKq44mKqjgDKDB5PWWGNDdQfLA5OTYLd1BTK13OYyf/6pI\n",
              "hyGmESg9vTt/TiVk3s2HUE8rLjukc0DkgyGZm1NhbYtmds5SbEJN6t0XetVczGiocd23KhObETXH\n",
              "qTQkBCeT5upWDzZTg790Z9K6HlgdYcR9ytAAAACKAZ8oakO/ADFOnv0NNC/+zyBu1RAAPfWBfKBo\n",
              "DI+VWndeelMWLy7XJjulSXn1VVtJDOxjX2ZMuZRP6BD8YHLiVgwS+szugoJsquVvmKm/H00VR6iY\n",
              "R57Hi2UqDXYcHGadnx739hRV4XjNxXWNV6sUz8+uO5gniAy0kRuzvrE7zz5RvyP5GRyQGxiQAAAB\n",
              "FEGbLUmoQWiZTAgl//61KoAMpQcOwIkKmuD6FJ0QOwALsgqsIw+/bK55XMOcRAMIGvEQLVbVH02k\n",
              "hhFhjzPfZ3WTJ4MQR2vir6Z7YoI6yoTgYt9GoZFASN2/75J7u2XrEoc80BpvghPkGMu63zyXOku+\n",
              "th/rc3NNJHwa+uuE6S9mjvxPy3Ziu7ub+I85JTm45Z2FLeqtG3yzuK7XVI0rzhdVElWEXLsE+EY7\n",
              "/lC+tfkQzE9mqEuJyD63E86hwIcLKhODURmfuzyLpyNMwpDMK1iqKI7Rkl6Ri+REtPofwGoP0cb5\n",
              "MZfnlKautIUm/kZ1kdhXAmuMUdDytEhXbfzAspjAYjPC4AWIlGgSSMbmLxdfTe+N2QAAAQFBn0tF\n",
              "ESw//wAirR/2bzsiVBnIEAJq+RK26c2pw51eGH7XhmyGA41fz44W7yQpnOafoo5itQjWWicB/CXA\n",
              "ykMl8cpfzWanZJawql4lWsVOt2l3yS6uVJ0XPX5CvhZu42bWLg9A5MbV4Y10negaTUX6gauK3PLD\n",
              "lZD8yf1VKAzlnPnrMz40acSy+gTEfgDyB/nZlLO245NqUMzd6euxULhYsWWfM4igiG+iCYUvIbLm\n",
              "DxhSIFXjnyg2aZTkFRqmFYf0TibEWNWpxg3u04HxKJ9Rsgi3ZzX78fkXJeYJHXOMgo+A2nMvC4+F\n",
              "cq9AvqxSb7cnXlCvJ98H/Wm9tRxUKg91BAAAAEgBn2p0Q78AMVj4Ssa3FtyDP34AKxGLHgSrgvs3\n",
              "E/EwVqaStdGJ4ok2/9QG8wp0T2Xueb6xdBlmMGHA3y/N32E7Sdk//B2Gb0AAAABiAZ9sakO/ABIQ\n",
              "LIAP6QOBx8oewy+QEZmtjR7Dhr0XaJHBnE2aBfQJbLzaQ5pnpYI1oV+6oPx77xajx08qs76dN8HN\n",
              "6lK//vr5X9DBGkh5I5r7AfjTNX53CzlcQqy9xiOXJSEAAAEeQZtxSahBbJlMCCX//rUqgAGeoOGD\n",
              "WTpjb2+P9/EpyABaQk/gXh1ldI7NR/C0p936fKKpIUaUpdjvVquJUM0N31mKJa2e5st5zOVkEmxz\n",
              "BlsQmDoBEl9WlF7auGKjI8Cc6a7qGTSFqbRWN4QDxJL9HjlyxmYoic1ATcQXN2XRd6Qer6I6obqR\n",
              "iZO8Hc5FDTc33SVtDoL99FxuA39Z1V106PhfwmdV5wu1wnSaFmNkewWaq6/mVO1GrpqLaaJUEcNc\n",
              "CGO6kjeaLiBrEj8EGPWiUREtIcW1txwKxjN+LytaWzqk+cRjwa9xehEJlzU6Yc/ybeBtCG8dmHfz\n",
              "vyHmEIRdOYrmO8fyT1c+9yTzE2ZKxLeH0U52BETR+buXEtLqYQAAATRBn49FFSw//wAL8GVkEvG+\n",
              "hJ1TTHOACIPe2PKBdXn1s5flEmww35uwur62wcGnbqqB1WlhOlsLmhHHF7rMfgoBNXH6AyqzzaQ5\n",
              "1SHm4rBZQu3HWHfQkSZtajMhJEwiile34nJJiI2Nuj5VvdYyzv7niA3ZYZd/FjZwS/OrxCV5aNFg\n",
              "GG1ImtrM4o7HgOKTHMz/0b+7uo28pFlfoYGEeI5ootse9TO+d4BdvQi3lyqTRit4vYXND718P3nr\n",
              "LEqCTReOKCIA+bQ7SfsqP//z2JnTxOxa5J2VFnaYgMdjQLNoYcO7lgnUWRoNanXizZNFIJ0VpzK5\n",
              "TMDPiMRnCr7mCp6alcYeUTOZg+BaLu1W8y/SwqYomRCzx9eiwc9vpEcZOkJi1Fncu41CMVKZzCKa\n",
              "2k6y9HxPQQAAAGYBn650Q78AEIY0HkVQmd3/oDxABO3wzmJab7gvTisCgbkoZMv6FWM+jc7i3Qi1\n",
              "aClYQVfOzv2JcboP4rQaGrRy3CACqvBBFG/c/J/FIfGfoZ5/hErnv4fGPv9/+dFdPz0EQDzOTYAA\n",
              "AADKAZ+wakO/ABCJAaJEUJU+5AB/SFqNyUlKecrAHEfQP/3tQLicis+6hXoF/5ZgId94rt2ljR9P\n",
              "cSfTABTDeTT+QOS9zmCYKTOaOmGf/VDvB5r0cgZh3Gns6GCsDc9aa98EliP9F+sdIwhkziutRXa7\n",
              "j8T58CCAoNqt9yZck6Re+oUm4r/DnQfzxhxMIehJqMqKqPlciWZKt9Lg0AVWVM/vOek0ZiKWnHXq\n",
              "kCuHfaexmLQaPizfGds+QgBsLpnmbS6VZ4Wnfb+nvQKObAAAAaxBm7VJqEFsmUwII//+tSqAAjOZ\n",
              "XeIJ+l2bdVck80Qu3FhnQ6cfuBrvExlCbdw1tjqrKV62uwq0v5l9oG+OJiwhZXEuBvlx3pKXsrKK\n",
              "c2JCivwb036FhBUmOHq+HN6sJO9odWsECIw6zorlAayNrUxXt5EBBmYz3zHqGyXlCp36p0TTcwJ1\n",
              "uUlzO4U3lkMGmeQ47zwlaiczcJLhgPX7IVU/SjJfJnfLtdWR5wXhbBvJnbKW1bPPJqRWc9HZmXfg\n",
              "hfdR3dn1A0tC4l3R19jquKDXbtvw8gz1Ke30lPbBvF3H/caZEfMVD0YrClfDE1ePddIjcLnz4J/+\n",
              "O4it5TjNbJ8bFMgRUAOtQlkYFpHnEZoKYQDtgy/sgbvMRbvsUgXh0Tj1WEfxREWMJz8EegbhP1XC\n",
              "jmz7Il9OGu4WK7j2HuRP42/4virFhcSi82xmDMVkVeXd/w9kW9xewhYXjW6D5xFDEJ8P1bSPv75m\n",
              "vVJhiLZzXsWK4NuCJYU9U7HBJMmsHZgozVabuRfUYQ8g267CcCy/7KfW4cIid1mWcAVmIJj7Ry+K\n",
              "mt97cuuVajUM/wAAATxBn9NFFSw//wAL8GVkEvH3Qty2vzVyAMHWdMABDhd2y2djxCc8XZW7uEw6\n",
              "N8boucPcZAzoV6cPb3NtSQaAMVX3wskRota2pFp94nzdCqTFFio8QVsZszCxaQ6PvoD1Fi2QW3qU\n",
              "Sy1ZHWpSzANI5uNjf7Uj7aTaBhtLkSGM/UF+fMAlYECgtFam59fYL7KpCqO02X8Oi6ngiouKvzVE\n",
              "aiuMJTaxt2ZtSwH68DWgv51DXS4HoLw1DbxnwAjV71HmwfngSua9elkSkiiIYZf4656qjfz2faR1\n",
              "/f5fNmZzv8RVvHkVCMe0uco1dV+6Phq3Q27vUSmTfL7cpFc/KEhOTuFXRWWhGC4C1+LBbCJo6QeO\n",
              "mdIYn183GTvphB4gYVWf01AL7+HEc1IuRvm5MBO69qaTrxeRnyDuRSFGzuSAAAABFQGf8nRDvwAQ\n",
              "hjQeRZR7GcwsBT3xylqKcwHeiyZ4/WNXtGa7LVzh8hyhErjImhZ+xvlk3PtBzicdX1GoaujUU3mz\n",
              "GNuK0UqlCbOux/uLf7f291xfwZk6gZtME7wZqgoT38yh7pcLKCv0Hb68OCtUW39924kqakXyJRgg\n",
              "CyVzikcgWehuu9Yg0msG/ud9xeNXHOXor2boiLKc3KEyaGHTLIypn6Z5/oZJQG+BDJMAa3dGIMoE\n",
              "CgDgZxbiKvmggJbogt5u7Kcrep03BJfjI0WEqztvN6We6UoH2RPTmw208Fy9nr3hhcxqXIKupP7Y\n",
              "kb8OlQx/uOnJi74wR9mEq2bM2G7NmadGf+7OsDZTWeKEDmyPDiTatoAAAAFKAZ/0akO/ABCJAaJE\n",
              "mWnib4F7gAsOsuAlUeq+y5jwjfOAw72opAI4vhfzkC9sD4etfROZPnZPDX/tMXNAI0x75yXboFBQ\n",
              "1sgvk03mIb1pTj5JlMPICdJXytWhlKRfqXAqeQY7gVOZtpZ+MCe8v8jhd4PWziIe7FWbXU1ib4Rl\n",
              "reM1ekHsI9BNvjiamTMJlt04C9nWHXgVIYv2hkeodyHO8nhyo2mn0zaBIHBaOMwq63yQUk//rEky\n",
              "xEfeeTyBsIsOl7/6Mmt4UXGIIqnGTjyiSAf8WMmT2YuDPWQGwR7OB3i2EfSYTa6mgGaf/nt5pU9R\n",
              "n6b6m4sp6dp1dXkfryBdMc9gCXa387udC9rC1dvfT/g8WE3y6T2P9LG3otAR55K0KAUiNFzSNe0U\n",
              "levsqYC8RCVAqZ+JYiGZcGfLwf3yPlZh7iVxb+ogGeDvAAABZEGb9kmoQWyZTAgl//61KoACM/Y1\n",
              "K/7s6ad9vHrwwlP8QUusOYZdZOR2sKV74jbC1qZRg6tdSp9FxtvnKOY5USg/TsfRXt34XJvVQHR6\n",
              "GD7+BxiqecuVgx3kVQo54jSmwR7arjIpKMQTXIBvGICIF1aCOfWEpHijF9WcnjhtnNUzEF3hl+m5\n",
              "Mk35acJg5f3xFhSDD0uq2D5kVUWccVT9M5avhezNCZkfxiO5foa4Q/5D2N7XtbY6TgElhqJlI60G\n",
              "GJZqr1vpugd0mT2nudpKjSbvYgrwx5HqRTr+0RnTbu51mFMxx2TJO9zEWMycXD9+A9qq236Q33H/\n",
              "CToYolFIW4/TVPUggwcLHqXhWFqnMaWxsIE/2OqlMd76qyXCSF7UN7oKk/j+9e3b+Jkkvi0C3oV3\n",
              "l6cN2Xop176E2I5qa6WbadbrSJKMwyv+R6p41+EYy789MDFpCaT8g+QT6OwRlUtkIlCSAAACGUGa\n",
              "GEnhClJlMFFSwS/+tSqAAs2Hq/8ALWU4iRKPo8bWqWps6ZxfbcL69Sd3kXDIaDnDFLhfFoKalvEk\n",
              "P8u6QS4h1TlhAxtpUNZvl6pOoZPkkiOzNH6qYtQakiTFln0Df4jseZMFQvXWOEzHNJrhjli/Rsmu\n",
              "2vX+h9niKWa7blY3c43SUUNP/YNKIcrNCtG4OKIoK72y423qPRh4ytEtFTIzwgQ8SmktSZEFbipT\n",
              "Km5WqmXSqmtwJXOs0gyM/Gqc5WmFXHu8Aubtx6mItGtEnLa41/0ATqRLJL33HaOj628kvVV6F4Uw\n",
              "Gf2mXJL90ojutykZ7xTkpTWjHC0YONHP7yr688Z8qM/P78GNquHdYdO4h+a2YT+wcZajvfEGwqYk\n",
              "UoOUL0OEbavzfQAMd8FkSAlWDNYKacr1Lse5MxTBb9eFWVrOiCKg+po8UQFe8pU0+Pkx9h8x37YW\n",
              "GKxqTnRN+uGkKAWs3yOGA/uAxWMFXCvNKU6RnNWUZnHbzgaZ69xsAvLmhDLl6QJaE5tWQHfX3RUd\n",
              "3WkJ2R++Obfp4Zjdo7DMyKQM696HQShmDf7paT8W6YKY/sjcjwd9rL3pXMrTtyoqqdGutYrUa7rV\n",
              "KjV/7IiLiJW5iEJe26JDX4FdL9J4JUZTnk7YuLWLcBif82zkcabAVXCMHUjaqmDem00Rist6/0A1\n",
              "JGQ+BRkiMcUyXu7fmcGLLZViIXMjDwAAAYMBnjdqQ78AEFf/dpOi1v9G7MdPeVhL59nUBbBh6luP\n",
              "s6cU5aRHvcerFHM1nXX8tk4bf2qjWsABKvzroQDulxVD7AtxYKnclUFP9A5Zv3JF3CjMz8dQl5Bl\n",
              "PjE+1k53IrZQwbL2oYW0arYuxDWZ7NUJYzdYVm23YxymWVy1BR1cYlEzeHmG2RljhIF+7vpsoIud\n",
              "AS3rSANP/MN93rdNCqOJWuiKAnQSiQXql+VLVD0WUcarzBW9Sw16SpNz5zNeyHJ25IredhEPVnhR\n",
              "6Xcc8XMVtHPpD/pYyz8XRNdsoG3G0bOzJNdM8XDyH90hgt9lpXCCSt11gbvmWMvFbEdA23+noLFQ\n",
              "ypakWTPhfXxM1MUy61stZvpH2NXB0hXmRmw/gc8/u5jJ+JHk+kS61PBDj+ZZ8bbPmC4Gk7lavG5+\n",
              "1dMCfTji1iiUkbIJoR36aZnuQkJfBYPnrEYp8p2WcHfCbz+9K8gCScpC+lOIQoAvZz09JigUPZyV\n",
              "wCFANsQkEixKWcxamSkAAAI/QZo6SeEOiZTBRMEv/rUqgALN9Ehtv4ImQDvsT5zj2ShX9PnrzwCH\n",
              "z5xKBf5W2Pacvy/9bWuoFliirZZifKNxyGbQx/6/zuu0nMnpRVkjiGFpfKLQZ4VQdihkm68QDPOQ\n",
              "11K3TgJRqX5HD+48hh9kX91WCeUZj09Xllx6GRXhG2cdhQzJ3DimJksa+GNrXU4gpbSe0/XR4zuG\n",
              "CaP6EhsqaFBRMJwf6W0kutGYM9nr+amdv2efOwQrny6ORS8pdL1VL0FFOkJFXONxcZfnhC7puDTO\n",
              "c4mibKdcOFclpsUCAvVNEucdCpH2Uy8cnvJlnFnrmOKcQbJ7hdkHgOyOdEP7414V1sCqVjeUqEBL\n",
              "ADWCEmEYcPXEWSDCyjFPvPdRPzo43+Au5eBwqWRsYDJH5V88yH9NQaaEDSWRxDKrn4d35ROiEO/8\n",
              "NCP4ht2MPzMJPWQ+2l1JBve8y0HS4Tem/VXbrgh08BulsbeoQ++bC6sTGn/M1s5EWctYriliN4/M\n",
              "ofHMlwcVjj8gGUAA79tkCg2DfqWDzqHy9BvWotdxsG9VzBV015a/3uhk4bPSGeqWS5EiNL80WnTX\n",
              "XKGtF8KxnxkycREXYinBYuL1AnHuA1ifM2HawjcUIPGtDB4KPdQnhA3JkfbvN6FLpmZFkwQ5E+Wi\n",
              "FwnqI+ZaiWsrsjwCg+UzCy57A9k5DlIISAG7NznVqeWRLYTWOn3cN1D9b9M9eoA91XigVuYIPndJ\n",
              "s5L7Jz01c9MnYJj+6albyuVr6h6kekAAAAIBAZ5ZakO/ABBX/3aS+plqk3huJt9VK4/f2z4LkBLj\n",
              "JUnziAsUl1a97348E8ACZ5pUkmaYPVWa+FPAYbfrrNK8tbKa4A189s3e9Qm9Fb4AjvmuDyVxd8s9\n",
              "ySdh6XmF4KreUykY6rhNZZqauOHNFEs2B5tT7YAUWxGOfjKFsV5xA4kV7pgtPdrJzHIyO3vsFUua\n",
              "eTneU3uyZ8UR846DEFoR0JYbO/znN7IrRoHEUM+q7MsGPxYise90VB6dloICZid4Y5uRbCu+AyHf\n",
              "ZcPD0oPb3aC6rJ+3zYxVJtKzuStLvA+fCKo/Mm1sWa9NE0DGrJbtk0VyR5NvDuTozq1faHb+KDVP\n",
              "ViNrvlGO36SNkhisl2cbwludssowbW7FiqzXmU6MNjD5PAFxhPbdb3Qkm2/EW6gcGPNQctZDxiLu\n",
              "b1hEqVU0LmQKQFYNnV1uP6BwIq7m9ZDqi4WFg5lw6d5IRyAdETbYNUEikxBYWEqifqfFgghi/J43\n",
              "v127CAhW79R7t6XD5XdE3yTjxcLetBQr3O+t2UDZBy07k4sF4tM23pXZC76l5miccpPwNGZWEuAN\n",
              "o5vrbFoIY3Ss6ab1gomm7B86zlstLaukG/vBGJeVEJhCKAz7ed1AfVhvDqZ4hEwRCo8jMvrp77Bl\n",
              "e3olZQrE7DbUCWqqSM5NnmG5eymPfe31SYt5AAAA+EGaXknhDyZTAgl//rUqgABU/UtuQ+9l6YcU\n",
              "JMuzz5Z6H+tszqlxnZkAFauUCquBjJDJyYMsTfJn7Fd+dLrKQhElauj7X2IHZAbkcbbY/ud6rqOu\n",
              "W1q6LyrOBp3Acltl+tG5MBGlQXFu1QdYueBhkpfUgjN4/+X/eKGyGMFcaasynRPntUkY9HUZR8Kt\n",
              "1VY89UojvBoIJWUXoYZtqU4RN9/I7sBEpuWuRzqk7JNlXMQIOGhobdiSKnnP0WkzFXcrTFDmzrlo\n",
              "c+zObhvQyz9fvGNq/RmShCI+II59VPQt5soVFw5fWMjcs2i3rGMnrcH0+ghab48qSl0wAAABN0Ge\n",
              "fEURPD//AAvPJEg/lrxs8Pmsp5TifVpEW3mUaCVqZY/O26Qa2/xo2OxZPJAl00mwKAKfyOKoAgQs\n",
              "dJPliWHRiWe0Ax2eVcHbYy/TJMC0JV/F9JFaBYCvjf22PRiSB4MScLTjHD8J0R/tVY4pD8oOpD0v\n",
              "gOHqKuYRtUTNdEfmd2R4Jg9JkFOrsS/EEyUkn6AkQhfFa9ptkAcazrhfDWPeTCrAsTDQBTN65u6d\n",
              "xE0vvBfQ5l9fudYH4OkUrFF7R2ZDODe//HVjNrkYlgjno4ZXQztszoZ1kF1EpvW73TeH1UWaiB30\n",
              "itluvG5gd3VZEtj+BbzuIyng5AYAeG/I12JlnAI+r00FjC0asxB/+qFPhpv3GcjtT/jaeqA69F/E\n",
              "V8UmK0020NNDHS6imcnbS8h8dDY1h+WxAAABnAGem3RDvwAQhjG6N+hZRU9p6ATUmQF5Wz3PXJQB\n",
              "cTX31rWAQWXJsBMnzJbaSrCQGsRCAwRSb0RqGR3P8L0Hg5iT4rmHrGuwuLLlwDtQRK8XbRD559p5\n",
              "m+SyarydROGigA/fmkyLeuIOuWBAojIDWHKf23tF8pCnmJVIC1DMN4GkK6vtjaVyR88UikO3c2th\n",
              "KIZDYboS2c9mNeznp/LyUsWAlPqLBIXbiTmugzmGmMf0yYSuPRi7HaaP0jBfFH/cOtc7lMS+Znqk\n",
              "cRjd87pckJRS9zGCm3rutYVeR7szWSpoEPpdB1+5GpThq8+92tmfFuQPrxp5edNaRP0Z/5xSoo+b\n",
              "cSrfc/ibN0WLLbQ56FAGL99IlZJwjbSqzUx6IPizlnj7ZnfE5o/gPu3VqHnB/4TIVaNXA/3hHUww\n",
              "Do0OlSmamUzl8fEqq8VsKgJ2HbuG1gb2+VT8+4HEL5BZWxRWRn9PXorqrL4WqZ+pk7VYlxsCmFFN\n",
              "3liv/Kmebl+lh7B4nuPNQEJEVZw71iOJhDwsX2vd3o9p1/A5LdbA9z0AAAC4AZ6dakO/ABCI//gA\n",
              "/SmBw4gGsxKylOcyHYvngWrs4rTVDhjTiE/l2tPqYH9xK0AmXXdDJYTKLysXY5TXMN2wFqr62Alk\n",
              "2LhCWVzPpQanateS6h1IMteGh9/DmHmaCNWUpEbLS8HGqxUyuYou8iHnDnFjnfLm0C5ngDdHz2dG\n",
              "gREdGTRKqEgYqdI7HdOISdCpvAWk3/hv7tBP6uE8eLdMzYOZqveSfV24PJ37Qc2fckWEZRAV4UMc\n",
              "FwAAAf9BmoJJqEFomUwIJf/+tSqAAPVxwaY6Eg9lsCpkqb3CvmBEdceWdbZHDAbHlz5GDlOKsHIS\n",
              "Fml+38PfhVO/GvBx+yqNlg2C1DQBGTgTk4+mJvem0KNFFGMZKYy8AIQ+bDRTJkkjauDRbhR33UC5\n",
              "uasUKm17h8/rLydlRY38rUWQ1EuNOu+bam9YJobGYoCep1RqQPud6wN4UCgYFJInCzCTTF58GJao\n",
              "1EnrUZ2UHjtk7kaWytLAsavZMU5fnNj/Q2EVcElphRa2f3m0HT/B4GlwoXrlJys63rRtSUMcy9rl\n",
              "ecehvFotRGPJ9afn8VAJEYFy+oR7JWDvJf13Y3GGFpHVznW/DKjwBk7v2BU8lxN/Ir5TBofrvgUg\n",
              "xC9+sarcJUVNJHcsWEpO8x875KBQj5lbx+/cZVxQGYAW+Dz/LLgQbADJ+Iel0cZJXddG/4bqX3Gp\n",
              "XM9k8jR0bdseVflmlnvAh4/1KFg8QPmZzTnktCPX3wRtiKxhJ972fysVZsociuLHX32z6GC62O2/\n",
              "g+P9AfK7cXiW6cRTqBAXE4jSMK4Yln+MJFjgNi6f0UUyxgft4SxmGpWlSPt6FvIs6vuBxxt0Q6RB\n",
              "S5akfOpYAPalHStMaTbenigiB4hJwE/qgj+B3gMZ7rqxllVhYVqimBH674US9SKbersnic/+tVMa\n",
              "F5lQAAAA1EGeoEURLD//AAvwZWQYARPieojCs950hJJSbe+Rg7zscuN6tqdsS1JjuXBmZINKezcY\n",
              "S84h3AYmHPwb/mK8ouszSvqfSlCk7nak8bbYEdCX9Vst8o0TTVQn+mNr9bRvcfpiXdOkn9eg1QJE\n",
              "DffrvjZ76YquOvPWA3GoeFY1aseQeOj18ijaF+IG3mre14qTRz2T96kgaTjFj7jKLPAuUwjala3b\n",
              "rgxwfUcYt779zh0Q5AQf+lMiO3ZyVGI/WrW6QmzWu1AS7i7Olb86oq3FBMXaH01xAAAAtgGe33RD\n",
              "vwAQhjHNqaQ8tdh3pIctFH4pkwTFP+NkhDo5KwCMR1CgpiGdyiZK3HOowWcX+eY+7SuFAM7SPIUE\n",
              "hlCp2TWokK8aqTX9nhJlWRcZvFeDUJ5KxzomZOL+ECCgKYWYeEArDhyXylQLpxZIzZSXIlUcFKRH\n",
              "TKzTZfCwWS8zFtwgyJ8wIatwqKpyCYQnmx8KDg6++dBaCbmJSLEUMjttvaPezDpL3ormZlbPh+oV\n",
              "MwdIRRMYAAAA3AGewWpDvwAQiQAGNg7F3kNj8UU6NaMVQPM1jsPjlsi8JZu8S5R2EXxQIL+TpOlB\n",
              "In9bPVvaOcwuO8MYaTCX7C7yOnA2jnJpqD7KZbVxGk0IciqD+WreqD6a/3/rF9yxFz1XenXWATJF\n",
              "XA4BOf/AubEWu1mvugomA5J3JvUhBlrVSVLt1782ICDoxxZBcXlxXev10QbPWrY2xv/tFgAWA8rM\n",
              "VQA2AknZaThQgf//PHUa9xvF0x1X3slkC/MkdiBvvtgWQ5OAMnQm5HLY0OKpUsLWAfokZXYIbbA9\n",
              "xoEAAAErQZrFSahBbJlMCCP//rUqgAD1STSeKCFJCFc/sakIju3DBIX18+9Y+qf46qOtlrtUkGIF\n",
              "/Lf0Rnj8jvQdPQg5hOmyzWUVioV18rlIMQvTB/E2YXDZtBP0FW+MGsGMHvfp1y5daTLRAARIbxGM\n",
              "Io9ekw91D+P654yrZgCU0YwbgneXQGvRWiUz0MUfV11UtIMqBTj/7WupsJUMWM/iAd11/S7lgoTR\n",
              "9IgIigy0dJvDjzWgxXvtd4Bn5lo3lGoe/0H4RMzpscfQFCK8JLIKXO3FYPxqRqv3jhUOZt0Qorwh\n",
              "fxo/UDcDWIdEZyRHYU9tQGMYrEEdQkoYPCy68Eud8E4cd09Dj/EZjhOV2FPxwN3jz8XpI9GGfnXW\n",
              "XMNsY+WGeThIqesB2uu0c6TXh3gAAADIQZ7jRRUsP/8AC/BlZBfz/dg9q8Iwjez2xkM+sG1BZeZ6\n",
              "EzGHINkZseKlmCxjhlisMDlFRQzdOPh3wE/i4HvcwchxUcDu5DeiL+G376QrjTVaPC2ri1yYJE1s\n",
              "5LJNhpD4AnyWN6aTeBxlGXu85y1JXdpVJceRDuSbkjLhfd7fqLBpUitP/+n9OS/sTJfFakEx1yyG\n",
              "a1KCiZ8m7//SU8VHROjQoUvV7liIUNgiNmULntnGIUCDKDUCOvsFMmrYhO5OuCUAakamMxUAAAB0\n",
              "AZ8EakO/ABCJAAW01w3pdeg/05z5RAZ3KTYbzydbFoBMDz5YABK2cgfy0XCnac67aXhVNkLLerpL\n",
              "U9/tar606ogu8l3i0D+WIwBWAoxKgg44bRPgo7WBrOH9LkIjA7lfgqgrSH5/dzQEF7z97oSzfa/u\n",
              "hoEAAAB1QZsGSahBbJlMCCX//rUqgAD0s5fYgiROjNsCc38lSrjjoBEcIr4/23b4A2JkKKPb4yxb\n",
              "8itrNL82QQE7z6CCBGEcffQEHx1cbppu+/RF1XgwOZAEnYz98qUUeifsvRzrOPJB7+ZSba73WBHT\n",
              "Jek4alfWul6BAAAApEGbJ0nhClJlMCCX//61KoAAV2am7UQGMcGuGjConG1ilJqGPi2j39rOURMi\n",
              "Y7LxoEFlutQo/uyRUjvfFYGxHLlE0bHiyRD0K2fAh54+x2iBJfr094TSdq+xHPB+Hkf/e780ZdU0\n",
              "OMa3klqUr0PW2rj2jMT1tcNAuYli9mKWAkE1ulLj/9vmYVyqIaBdgqQxyTv2nyKjz1TsRny5ttBp\n",
              "acqeUj5BAAAB1EGbS0nhDomUwIJf/rUqgAD1fGsndB1ADouJ8Gvd7eGI62Z0k8edihI1Dd+OMLIF\n",
              "0ObWdKa8mkxLdFUg5JjTqyiPutpyC97OeeofBp1/jLvwG/+8k8226dvmVYgyjo9QW2QGaYR2wF4E\n",
              "TIsQzjAzLUQlB6KXc6Go6uPms+byYwkpVo0YRk459D3eLZl5zvnlrIG08TypVYHOE0GB5WNPhfjk\n",
              "fnrPtu/8Xss1QTwk460UFvvsi1HdpbLUiEYyFxsgmdZ0PbbZ0qxCjMvP/zWwpVIqBIitSHLAdm7K\n",
              "WlOrmetzt3PEt4EHe6gUykMEe344rTvKfDIn41WkWh/j2ELUc6x0NIaSidtLTgivfv198YevPbli\n",
              "1R/OIhx90tFOfGEasiAbWFCUcsxa0FMbrYfrk1S80i62jJHEMYjlztY5fEK877UJnGPKtJ+6V7ZY\n",
              "HJ9U+WjiHnpHOtv+38qjG06cHERYl6Yi5ELSKlPStRcWxlAr/yESFM/K6kRo1rb/qTFByrZ8DPS2\n",
              "d3u5blWwASBmYFIYeiLvxNzOoNjBijNWemRI9WG2Dzks/6YhuX309UZF/yqF7VUimH7QTQy2zIW7\n",
              "h+pmoBQpr4xJVkH364DrOunpKDW6CAAAATtBn2lFETw//wAL7/ZeinQl5IwC1IiV03Mv11anRaDD\n",
              "Am9HsXvBPYDOYbhbzZUtDmoa0nyTkUb15cifHYeFZd+254cDUEFhp0AtjgxRQ1IE1fz5YZQgidVq\n",
              "a7moo/vvqD6sFb9wyaq+VQi0Q9R8mcX0nTuBJcbHKWzs7YFyWfZJGC4uXytZ1mshs2BNc/GqlBEi\n",
              "HfqM+UvMGJNwyDQl4ZyRgacIsol/dwrBUlqV6MJC0pCsaPcUiITNsCnCQu+ozafAo4QcJRzNzZ8d\n",
              "+QO7Cmyy7dXTAmoAt4AKKIwu/qXMAY6l4HjoM+BH5ihNmiRnTNcawgRKOz+aFg512v92OfhbYDUc\n",
              "LEeGt/NMKlorCPjPfvqloRgNZ3rYXzQimesF0oLGVRp5crGOfv6cNK+WnbQGp1KIDQJcGAZL94IA\n",
              "AABhAZ+IdEO/ABCGMbOgX74qBH5EqG/XWZ6kAOnMHScccsfRe5xNTofkXKJDU1PSWheHH/JgD7iG\n",
              "h05FuwEQagnNY6HVsVYhYh/O8yp7A5RS2ykw+rdT/T+RrJAdGk+v7j9hBwAAAJYBn4pqQ78AEIj/\n",
              "+CviOQgWXiAIO+5h2R4uOv56kLk2fasqo6yBAQgRoqYFttvtuJNsoZYsHu+75UCpmaP3Hf4//cQe\n",
              "STZHdI0ksbFviyJiMHm14a9tQOEgxmZAv8a1WfUb8UD2w4kmNPE1nK2/oNDxnfSqhqCd2mPPi/+G\n",
              "/0ddWC5wzqALg6fWCSx2hSHXOzIzlif9C4gAAAJkQZuPSahBaJlMCCX//rUqgABXfokNt/JuTQik\n",
              "9Bx5fEienLGdUaAfUAG3mytyQN9PgQjBz8dDn5EUptgekKQ8Szxc9wxwKR1HvZGxVIus4Ef0XuT1\n",
              "e1haHP6vUKb+hM8Ing3YjEslvXY3LKZinkCf3POI3yJcNYrAuQcP5PqN599q8OJP7eiDwmyaT9Oq\n",
              "TDzMmAkkGYU6EL69cDOYAH3cpzJ4ZQEE9eS+sJa7+uGEbkDyAj1GKd1EbUg7rG2QVXC9oEpD+ee5\n",
              "hDhEpP4WOef1ZgS6E9n1lhOG3WJiBQU2bkgQvkEVYotNfm+4W0lt9g2/IaL37Hds6WoDC4pIMMdM\n",
              "FOmWsnP2rp8LU6T+6TUOaqwkgvdm9tlL9TkwsWMEuTPqLh/PqoY7BzxhwdKPlQi7EW/lAVvZv/Xp\n",
              "H0DbNwe8/vvwkGqqv4JNky9zz8scdCFXhWhogkbuVgYDSpByVInbdwKaIWufpepN27FxKXiYo0UZ\n",
              "byVN4hOtTOzoMk22Y+44rkDwrGa7zSADGhsdQPdAQgEywGw8A99TTl1PDA7i2rYtHMlK3bng1PC0\n",
              "u/CJY+faJEhQ3O556jJgBHyUH5LweI2X53u/u9VlWAeJnkUqFJPaK3jprgUDmhWM+5nAgEAAZNLA\n",
              "YjCev4Py0pppx5XwH1QrNGur4//jzQNRZNDcFG2B4hbA1aiCbDH990LjeSLZPO25fTaoHYEVma9y\n",
              "RuTb7xpAdht5ecNN1dSPOyldmFDlpqSuqvvIm4nDfNeKxZozSrKO02D97UUV7hFw1XDYnp+PqYb/\n",
              "XCqIwKNldCVz5ZFw07/AAAACC0GfrUURLD//AAvwZWQX9Ca4hM6dA96VEbubX+BPudwMn5ZZIzZR\n",
              "rOBOD+S+qN4b2JSnPWZffc/uw550QMut7N3QZJW8M+mKz9cvjvB8Fq7qKBj7UbS+sIEj7uhPt8v+\n",
              "4gzXD+dblZXNFFyyokde8kUftewIhX0TCdigRMb2dg6CKTyXCjOFpgIdKc0sIgXqtrYJ9JrCy1fW\n",
              "6KaF6A64SDj7AGaTH/8l0abJ2xtjkTaFg0wECGEuNIxNesDTCzkY11Ya3wkNaKwk84tRwORyHD+X\n",
              "bDfAMR5sROZWfGXckua8LQWliGGODFLq+qA/11CGVf60fyWX3jsjWIYwo5ZfnhaxZVi1UQWVh/j7\n",
              "jrf8Wfg30glCxWCmv+/yrDDASnAIW2XegxgRrdpQCLFi+E1RgxuwJP7XDUJBZVWB+oLbHn6h5hCE\n",
              "qHsRVSTWenrNZGB4Oi2JXKflKAayHNVfYccfLEWFgswbrPSPR3DmRABfquANoBVxXHLAzi/SbuCV\n",
              "9SQw/syhSJIUegVE0ZCWQ3vsa+QR+GtZuyRfjc/yDr1WO5ikfw8XI8f+6BvV9lD1ihkA1XNSDpME\n",
              "iqaKAQoAGYG2rvzqzexPidB7q1HR2vzNXqRsLS6HQdps7zhCg3DDL0kp/b4bDJU6KfHz1/QmzYhq\n",
              "SdNwBPzY3mOZEbw4PWuN1Kx1nZ0141wDx7QMuCMAAADlAZ/MdEO/ABCGMbrGjegjySGan1AK56Xp\n",
              "8zYuKdEN4LVzdrIXBdvRTpnZNrTOjLT8pRnuQEZOGUd/V6aeyDf9Rb7KEX1JYHQd/n56s8lGr7wE\n",
              "QqSTbWmgxnmRB2W+/0ND3W6MfrgLyahubJC2gZXmc1tbZWb/nWbuKGq9JCOCB499iO/gDrcetwuV\n",
              "+0vzV61IZQ/+VkFJEyK0oE7iUJmGohJGDwWHcDbOdxKXSaA8lhWRhL2lldpoXjUAo423JKoE/hFy\n",
              "XNzCmBXF9VcUBjvqHvvFQULM5RVQBV5f9KZa2yK1Yj+wAQAAAYUBn85qQ78AEIj/+CZ/5Cp3oXKl\n",
              "z4dg0KvqTr7Y14sALc5CWNzaXDX+hw9FGj3N2c53YdJSezzQEOgP1a5fBCzlVJQLlLjryM9XWhxM\n",
              "EoXvYfRVDxwur3Fv6WdfULlikDQCPQvpmsm+FJeStic9TK4+YIITNejWFoHIn7qpKE23t1IvQpsc\n",
              "uZbMbnDlpGnxSh9tkkLvDDPfIZ9SLRDaauQ4ZrGnK+Ge/Lyav2hRxYe9fhaJuaNaaVs7QPjkv12e\n",
              "v8kOVRYIqxMcGi3u4BQMtEzDvuUulys699tIS0pGvrIS561Nq/nE7fX8e3AxafuO3LukWyjrF0gT\n",
              "i8DE4GskUoqUJOggMQwuqCtcnxKVXJ9XiePSRzemh3ys110Nw91Ob/ktYviMUfIuRcmijLWxC3Iw\n",
              "tTdAdWhmEuw7kGENXGC5j0SwGMdZjheke9Yt+1DnOtBGBeZkJoIY7xxTIyYukr6hzMSezSFHlo9N\n",
              "mQAS5jpEHxoe9rRtNn1PD3Z0havot3xOSUWCCQAAArdBm9NJqEFsmUwIJf/+tSqAAs30WACgeaxX\n",
              "aSS3KT/bnrSPA27H2kQjOVQ5A2Q7qgxFEiJa9BzjTNta/8waOD8oxPT4RfV6ElU5ARw8wv7IBqG+\n",
              "1vVPvoX8c2wMO4T+utUgLebCygpe0Tj8NIiQmswyJV5XQvuQ2+lL/ZWi/cjoOyevlgijCvW6PtDf\n",
              "Fa6w1aLo99qKhJS3WZz+5cVnGo8/ZINH/bp5qogWtztgg/yo2mc3/sol4zHkCh+ww4LQMRWo9RTI\n",
              "NfGstNXWyhgHLliwS7eZOsJPPJvYzmQA7OHVYKXUTAEYBYZs1VgwQY8buZooru7rrHAhMAHGPk9+\n",
              "HYCk3roFKusLdW3jbd5mQxmeOhDQle5iOPfWsTAA/2g8cxd/uaKMdMqvynfxe9J4c1SYR4RiUKFs\n",
              "asx0iADLR5h3dzFNNKhdPyFu09sdZCzQ5A73Z73lOO2AGcZKmwofJJP1OnZ103QCIglDRzzziVx0\n",
              "bdY/nmndPwHtS9/Q4reYx7cjps8ov+hIoXYpUu7o22bv4iO2OcZmarLMhMQ/1Ybe+rBkNbK52tKo\n",
              "qA5L2to2dxFxJfoCQGHe8vpevnW2L7XJ6Wwl5NJO+LCXzjY5NkumuQQNqWoBrCQBmu5ZCRDJbQBa\n",
              "olEYL0lKaJlUL4EJIHKohIMQAck1M7JKikz5NLQespotYYFBOXX6EonaXqYuhB87tJsWUpFpmrdC\n",
              "N+Eyico9PFijhJO+ycFORSWsJzgkLVFFswUVtnhhPfG0rrqvyHK4hSgxO7UEGpTusjFQEgT/DfqV\n",
              "doSAsHIkC381fQ4sZv1GrIkKPmLpkmQ9I5O2x4A88vq32py+E4mSgTLtySfZfI5FBVP0fGXqNVAH\n",
              "Nw9OwZyFJ2tl5Q86iBljh+PzHP+dDuqKjdusufNdwG2g2db4MwQJQEqKKAAAAnFBn/FFFSw//wAL\n",
              "8GVkGOMzyqY31fbmiUoILP7VvMgHlwXN7YVlByg9zjziQjfZUAG1XYBDuAwIa0AuSPvnQZOaus9y\n",
              "7qf6ral6XLMNzQqbpIP1p61gH7azoVuVJMRz8B2uu4q9wW4ARikXvYJ15URCXrkOlmi7W7HNtrAl\n",
              "5But26TDnCCK9G0nUu+mB897sqU/EnjRDDIkJE3uJG5chtRlifNS1ZF87UyWgRdCEp6d0k4QTIQ1\n",
              "NUjcSV5O7dlNADKe5dhgxJLal8P5Hw3uOaTPGqqkZGeuJplitwpCE57iNizvR5AMtg+5Lw0Escrf\n",
              "ZnEzf+VJT2UT1Giz+VnObzWbjz/pmrkV6VymtR32fFVW4ri+KPzOPHVfvBOCJkFTL6zHHo5V+8r9\n",
              "HicJbjvYpeFbL8NqjfRtJcXMNLuM1M5RxHE2cLP3bSiptldU4dzDuWJ52wogPHPtOvzmB+T0+PRS\n",
              "6Ih8bJV5YCqSBg3rvn+GswMdIshfSHJftOSZ+U+u+cyjMAB6/FBiTh7G7xgnTyU6Ro5CotMcfEki\n",
              "8t8wtjOKWCxXFSsG4kax8Zue6K1qr4kUhQ2FGvH5+rNrzPqfq4B1Rl9/X7/JAk4nO9Lk5LhuY5/P\n",
              "gLO4aWiMekfLE8Frf5gJZpvX0Tr/oNlkR6N+1GEWGTOd89bPHj+Pwt3ErZuGWTw48ct/E7869yaQ\n",
              "g9qrfoqVqQNtGJrUkmFXL6yIj4TtS3rgYM7FFGD4kbkDY5wYxdSr8lE6J6PgXzCSpVbCiefhOTCy\n",
              "2OwNzBUmrT6mWrwsAtsIAK6V7yS4Bdqtb/ScjwVE7AWqY8pkApuS47DhXI3AAAABngGeEHRDvwAQ\n",
              "hjGziQi+uEknRuMCYg8nChxvuUvxrHt2bA/78ryaquwfFBPPAIlFUWgJqS7tu182wBIH6g1QfSKo\n",
              "q1Q7kd/xipovA2llz5Qg0eRq9UjJ/PNFJOgRYnr9mYmE4YQCtSIaYGycEFX7FLC/7tmFAv+viOwo\n",
              "ciawpOPziN7xbwxP7/DsUbHFekljx2LyXztdtq60/2KlmSuX+kK7hDhGIRPUM7ZRLKvwaiKCj2yx\n",
              "kcEFDsBLN6pAtpZfwO/fl+q/ga6+bM7cXOzHtWMkcF77Jm22VimwIRwjEdsjqpUrCyoI69K1V+RM\n",
              "x9/oiwmxO37aC1QcI/axvobxoQli+k/kSzuCtuVr7UyFVnDRAhoY/UrTvDWpWnV6kmh558qCmUA7\n",
              "4RZAPlaHAszj9i30tI7BoJJfPXun71CRWQy/Og2qYA6ozsLgznNuaDZmTRAr7kqcNWHRmji4rJCc\n",
              "xjpvv/Cov6dtb4q0gTz9GAzSQsGuazj/XR9m0Diorz8U/7XpMVo8q0tSy8d5Pnl3aQPdvZpxHIeV\n",
              "qJgPnJHDzwAAAe4BnhJqQ78AEIj/9//kjYqnnfVdEE+G7Np7QAsr6h/BRF4PUl5WIPAZFh+tXwKy\n",
              "IE9wczKeJ+w1vPOw0zLCE6CktgfNO4UobUW5SRvRqT+P7pXlL5cr/VUidc2xZ7IiOdTSVfCGCy04\n",
              "TlCHz2Mfz8269BtLKZsmGAh4Q/6DeY0ANI+sfkQ9CVzAnRrLH05/ZuK2gwgW0qIZ428rsieCo4cI\n",
              "4JvLbwVlxl29pnluX2EJbEjd/bylhjWHasXV4KKIbilMtQrJdCkQtZmbuzyfhWu//Xm69T+Qd8gp\n",
              "BHENceYIU19pHpJM3Okte27kWi44v4ah1PIGom6oLEUpFsJD3nUIvr7RfWa9c2Flp3cJlZ15PuSc\n",
              "sCT0RFwVXx0qlPLevaj3GIyjfTEPWcTb0ltUx1rH3zqA/NzFhGer/+2AFit1AKXqPKdvX4WAu7aC\n",
              "5V/WFup8O6yiGtrI0/S2m8A7SJ8bfLPopzEZqhlWZn+lVeDlcwT47tsAwBx5yeDpTv51mNivgPIZ\n",
              "vPfkARNFp5eBFtHeYLOFGyvPY6h5zs0nWxrl3mFNf7c4RE7Zwv+fbM+JL5EoHIR/HDrGGMLq6dEp\n",
              "BPbUE0nTHVB0/R/OVqN7hh2j1Pwn/KyeqSun+Uxid3Tq0F5eKFHOi8+hFgOnS3gtoAAAAkZBmhVJ\n",
              "qEFsmUwUTBL//rUqgALN9Ehtv43ypv5VRmoMH+v+bF8AFpCUSXHw9aP2VWvyd4FDZIbUx5/Ft7fW\n",
              "Getfa/r0D4IiSU+WtdJTPM6YVU2h6Hv55lOBoHPL5558qlL/tTtwnEzY1HCfLaa+h+vm4z8oEh9A\n",
              "FQLjRrgKyewEzWwwpEq+1Lmyr9dlo/PokxkPLisSUq2G5yeJ03ljANHHSkvzHT01Ly4FwzEt/5Qk\n",
              "HW9fvcsWad4yvgErQNGT5+Gt+fVAc3bcMuYaNHqe3fQgi4JZI3yuNp8c4DVqfH4TjlyNEvHNnPQq\n",
              "ORdVNgrMijhH1GgCxDvjryZknJm4F2GvEo9J3NgJGO4Gzi2x5NgDOuo6JzUNZzDT8M5hNqiYjKOU\n",
              "bMP+M0OqEvP2ntOeYLLYa1MWI/PbzZp94bIqkV/4B0/5UkISDiFg47vUiY1QDGYGPxzSRy+7UTBG\n",
              "+wTidMU4CSeh+g65liAHg0akkG3DsZ+nrQLGfcQjCx8FHO/IzX71ni9P+ydLMtjEUk5pIeLkqAQG\n",
              "bBdn2IKjeEl8CZE37yC57Hs2QBsr8P4gMuTngqD7el+dVAe92pJENlC+cLBZ997hNTJUpjRfpX56\n",
              "CleRyEu0Iqk4yncdpKpky7bj15+7TJW/H4kwQWOTZ25kTY73otG3fcBt1XKFCAKtMpUtagorOhHF\n",
              "YYrDPf7hpnk4kLp9twOs3nCnL5V5DvP7lch/2zYLvN3le6XR5IpUwja9Wehc2vq0yCwrltWH12bm\n",
              "KmTdDUsYUk4AAAHcAZ40akO/ABCKU8GivcyO26/qSHw/OTh2Gwrlm9+sY7HzUF8Zr9s/ut7px0TL\n",
              "HFbZ2wJyCTa89HuZ3eW85LM9R6DPky2bLW97f2bTsxs+wG95MXFmkZfwZnXwM2mH2XUadpk3rCxU\n",
              "9ya8YLFJAB7X0tJx/BFcrLtg1m/o6d4OZRfavHJQymdoGPTQiDUm1f3oOHCcKg0Tks5V6LyJ3yL3\n",
              "2azZfzZbXKIOCdoY0QYc8JslBoFfmXGtZUwkvRxzgN1lIDN/O2hKDjnQ5zX7Pbj3w19LTVX1Y5ed\n",
              "+T1YDlEqFIvlRTFLRC8yDEbgwMa78c7SDz4/sRjMk/vnXSM97MvX7dWiN2iStQyJZfZyXOUTPhM4\n",
              "yFo6wRYU4F+5YruHlwdmUYd59yPzDfvOWe0EGo2wrvXFcpwczxTYxzrlGy8snaMrpmPmf36bMiP/\n",
              "Dlq19BJmjmSk1btjEXF0Cl9VZT/wArbgMn2Nvz0K+6QxkLBPJLlhZqrUPSzggb27l8j/0c5qOHgY\n",
              "SKHQDUEeKL24kCXeIlPCvIZlFWSX8dGHS23accqe+AiHwcgmVki1Y2Eojs3jfG2H+EBqK5Zl1X6p\n",
              "fnTS5wlNQA7+fCuKYkpminqQv/jtk26d3VLZ3UtCHOUAAAJDQZo2SeEKUmUwIJf//rUqgAD5wGDA\n",
              "hM2lOezTyW0pQ+JdYboS/n/iABuxOJ7n07nujO8vc6TiIQUxQzh2gSCWhOpwZbh06KGSleTvmIQS\n",
              "qrnXlgx2FZYpd1pT+8d4jAHlZFN/9OmpsTTyHQTXycP0f2srCOvORj1+50/HuurZNCwB7mLYxTb4\n",
              "2aPnSJJ7MWB7ynoLD3BNBBCCP4jCyf4MrXJuHs2XEPvg9vg+hPFcFRY6MmucCkj/RMcc7Yc/+yiM\n",
              "8Rz603AjaG5JudHg/sKgKJK9E7FTv2kHqTIjVZhuNS0cFZAW5yAPpxv6NJzOXbLGGG1Yq6I+nfO4\n",
              "n6p1iLX+dDhnBRTUFwHOpwe+ux4B3O1xv6arvqTY6li761kKQSITb7GObDv3mI/ThgdnWn1AQO+x\n",
              "zkm163xj2d3XGf4MJXalzD3d7IPzmsYrKWV6CXNbRuP40yC9X1kx5lF7gZdWj4+Gg+dA44K8khN2\n",
              "fyDPnUPLlCUtR9EzQEeju/tOslpY9afTj5MgGnZzLTdB6sveOYyQD8oBIkRBlNt3ueM51lMJ4VPE\n",
              "ay5bK4CfrdyoQAStp6U6SktUuAiJLWwSgyBzTn4N2xocMa3VDIsa6PtWLT6Lhb9+hSitEG/xk+iB\n",
              "/6nnNmETUbuvbk2vt6SqNsO2Zaidcguk3HT1n8lqIARFyAtDkVUgZx83K+3n+xwqSRe2hIxDNaX9\n",
              "C0w1uVnFJip2Ua53KsTI7uGQUp/rHgx+rpA70ZjYjrXCwRT/ibfEm6yXGql4AAACIUGaWknhDomU\n",
              "wIJf/rUqgAy3VBQ7yV16YBd3u6LcYIboqhs0NZj2Tin2lod5TqFSbPqTB+gxnj2c8nHEJKvDQV3b\n",
              "oyrMy+uA9r00GMuOF9uTJP7bmCIHWEND+j2pfIEuSI/HfBEJCSaz5JNoqdAG6KnuaRVDwRN3USu+\n",
              "CxT1gJ53Elo+H+dXHZvHvnqEz9IAyx85fdVXEu+u2iDUtv3wr3QRC80vWNHggZ9wnY1/y4WO6FGT\n",
              "MfIn7xcxA6H+aFl2fSqpemcBM0YM39k9KnD82Ez+OKbVtsKI18bZntjr/Mj0xNNSOTYimGvvj1Qc\n",
              "aCGPKiYHLetLdv7ekF0Z1XxE7LO7kYfrkDY92Im87+CWTcBQr+JG4WGAUOFfz6mrszLfhUDNAqEG\n",
              "aCUYzDptHosMw63TUAl45KfSP/zMnhMCXmxhY1yS7X5rjqIca4+gLyWbGCy5XoQKsqvHUfhQsRVe\n",
              "zZylOkG0mcC3BrCiMfgN5n7cNPlB5HOBOSztrxtXa+5wHBDDqJd7btL8tohO/gE7/CP74gqiSzuP\n",
              "mTASXdcXgaJvD3o2MBSrVBA4B/1dX4A+LrudQ/L9SRsKXNrmIxRRekhDwflqvfxYi8Nd1u/8gl6M\n",
              "543liI5O3g+0vAOERWfb5dsnA7XhkzqJEePG2KUZwcTYbNWFPC6RmYOjE668VtBOfZ1n7jmt/9Q+\n",
              "X33acfbbinEZkJtvBJinQ+z2Dzph0GBxAAABdUGeeEURPD//AAvv9l6LY2/nMkYALlFmD4FFW0M9\n",
              "LCjTi1DB6Us3zgpXhgIfttxu8AuCZ8B7QVSpwIin/x6J2/qBSR5pW5VgkX6LbP9LEi7Nyjm/oSPI\n",
              "kyzyRrpVRLBXrl6LgnB8HBYZJ1M/2m1LZ/gOoQ+4vswu2kGRMfp2gZ7uzCx0CtudI36+B7JSpjYc\n",
              "g01QWnalZaBQxQtWsLZbnTV9XlxWDKeWlgvoelM12YMCFZojTdYVDfhviVSXFtI9wlKyT/cW8Hg/\n",
              "KyC4ldw8nsFOs4YDoeMHvJ+g+NZQVyYu8+9WNr2qqT3Y5qWhVQww+Aef15FpG5kj/RhD5ElSeY5I\n",
              "QdwfDi2dgHYeh9WsGFREmp6Vd4ZL1Cco9Puqw/8nJ334YsPzkq8Mld+CqGXrv/R9VelUEiQYGVTt\n",
              "z7vA84hRGvqcjxogKLb/kSJw1mIZgufFkMHeHrGtxcsYKD9fUqzsRHyQ5AD+V5pEqYOAe/OJXKOn\n",
              "k4EAAAFzAZ6XdEO/ABCGMd6Nd//w3P7KYAHxV3YCfrC5XsYqAiOSaLuCT9zMscGfNx9kcp/NjmZT\n",
              "xPuEBvDziYDcSliKIQHgEzMENsSr9bCwIYq+eiPJgEuTDKTgRZD/2aul2sC4WHMZGhY2Pao1UZAl\n",
              "C+emzyisXXnjQrG9X5NQsaQuPkyD2WCpeBI87toGbw//VJJ398uYf9xl6z2XtpnNqFOjih7xCm2x\n",
              "J4RzVqqJtFnok06aTgA0dZwBqdeuomWDx+ROGn34Y9fiP+PFWSpuLerZmXbAbhRNgUh3MDExQav3\n",
              "QhMBwo3wd74B+st7SIQd3ISUwpIr+/l9aG6gPtHW+wrFi4IeMDCR+Nm2dIVlCtWopMLQLFFK+bGY\n",
              "h9Z02D4g2BfUJSBzsdApqG9zXs5e/duJOZbyKxxpNAwZx9yW8mmNlBPwwlCLnMNBiOPDgTwZqk7L\n",
              "/MlFSu84v+qvnh8VhXzFcZfhFseIfcHG0itsM1Kf2cStNpQAAADFAZ6ZakO/ABCI+kGtkTAAkRA6\n",
              "mBxIr3TBdJoWTmORkdvfYKpc08nO8pvdk2FZkIFrSuGM/fIO++tDhsQGLdgs5EU/qx7PFZnlzEeF\n",
              "4Qera1WJkvEO2LYL/mNsRR3YxlFeC1epDuEYKsKfgVFBRU/RO2Yed0JXIiFB1m9sX+jkCru613yb\n",
              "+whDEv2r9Mr0Z5rLHROxvJsdq20fWJoAVjzcw+/WiL4SKo4Yy5fCY0dnkLYk/v6Clw/5PDPw7CGr\n",
              "ZUhqMtevkYEAAAGQQZqdSahBaJlMCCX//rUqgA0GV1/rr+60oAL6NqUSCa2xtwbdRikdDfMXeq0z\n",
              "D6ZCU9EXx1Umm0vA6QIYWX1gjoi6g+lHvEJp1aXCPC0NM8TmZBMerJdPU3n8BDPzfquKbK/BV2Cz\n",
              "h/acVMVu0A0uiHLABHGrCTy5lgF3/2Sfz07UK7oQxgrtECJ2uZujYNd4rwz0x4whFcsHickCyDTD\n",
              "nPF1NXlaM5E8OpcTAch3Qb7t3Vd7AolH8YRBG/e2X8p+9ekcW32wSVl9PGpqDeelv+5WDD5HOuSt\n",
              "fiQ9rngD8HYDg8sMAflBaEWZ3q7IpKmqoVrV+1Dre6AqTQWtVbkK93dRwEMETJJx22vXlNSRRl60\n",
              "omKxx/I1FRau5bt+k8KLFayliDtDqj3Ftq9MhfzZRJYDtoBL1g+JDYTe9QsNZSQiK2NBzZAqBTdh\n",
              "M2hAIkmNlJ/b/vw1VBcWNKt69f7wWWdhONPU7Nw2pPOPrNjPdH7XZkp36olucsJG+XKtX8tARI0e\n",
              "MYQctxn8yCMdxPa5wAAAANFBnrtFESw//wAjsGbx//B/kgAh+1U5YmQfT/JtSyv+OweL5LIq4SJY\n",
              "KhMBFPFe0p4Qb5395nyBB9vIRPvhA8xtZhDj9s4H02+q7eCuFvfvE7r3SlPUrHIe16XCYSVViADX\n",
              "lQGdkFa70CNp6X3qjDH373HDtExYXbQ5r0JQtyE6g+toXgSpwBSvtIJkaRzAn79sz4LsOFKlnwBZ\n",
              "SyvrIupU7+z5CuKGY/OlJ6zislKOuzUNXU8PxBt8LVNwQ/Um2mNlHRcTnsJAWmc7eQdJy7PhbwAA\n",
              "AHIBntxqQ78AMqCPWawgA7owEUbEELqZ4R3wgPGq4ztOStszExMPg1vmCIOZYcxs7Vn73xL2I/Ye\n",
              "DdrCvIf/wqbZo62gcGuZkkTi2IinSS42oPMLideFCvGc92Bvh7A2+WIu0TVRjkiSTUV0ed/cSrgx\n",
              "S8EAAADAQZreSahBbJlMCCf//rUqgA0E9k1PC1p6ABoxuofy5brl+fmFR0Cm2YwpaiBIdsB38Vq4\n",
              "NCdYjPYx4uF3i/wpxNG8ZfJEJQfcMh61vjKEZmQ0yQvbUeIPuy4hX1u8JeMJDjKhPY9f/BfNSkZ9\n",
              "VHtpijQ/K6QLMaHhIq484+O/OJNsLDAjmOziSio/oBzck3gmZzf6xfN/XEysrwoL5Xh1eB5haVaY\n",
              "9WB90IDhuhhSMSYXQf+Ds8Lr//SylS3RmpBKAAABIEGa4knhClJlMCCX//61KoANRsqwAH9bnJBQ\n",
              "LR5Y8cPpXVmEmTdnlVJQTY9dEy6FScZ3b7oEITwg+e3al1gMGJEIn6quPbc6NWU6bhAU19i0xaqC\n",
              "eIPTjPh+lX5MKyDr4For1hQkh/qVoECau000rVZyDvGvWOZL7YjTvXKAWcAi1cw09qXCOLt09gWH\n",
              "JfrwohMbQLEJ6IKn7p8S5+ZpQHhih3Kvrbie/PcWT9Tf6GYUhKxfYHWZ2V2Sq+FcXjfhNLMq6vC5\n",
              "EG7qJIlyR61/R3mmTv8NZHuX/FWT2QaCcgR2w9OCQ3lOidKiYCvRi690nFYgy+YlefMe9fCPA1vQ\n",
              "DvIleLzTeMET4dK/c/4l6/M7f8St0HHeHBfqbJKfFApfgAAAAI9BnwBFNEw//wAksJQ4AB/UpgXP\n",
              "zlTedgtqpMFIIhEcy23+WL4wOcOKx1l+yNaL2g8E42Jvh2lvSwnElFvGi9qDTvU5pt/FVmAScObO\n",
              "xrEBAKDLSzT9tt5R45gfR+3dGa7XRcjaarO66J/5Uw4+a/O1g4GqPfDl4Z7pqBcLtafv7abMKEJH\n",
              "pCAY/FzWl6tnQQAAACQBnz90Q78AM9FGTfZlwJSRZfY3+WL1WqbT3SdlAxRrlMlQI4AAAAA3AZ8h\n",
              "akO/ADPCUccN34ABA8CASj/5wjBKIFHMxLmZfZ39a05y1qGxLQLjDaQMjZO7dPjtdD8NvQAAAQ1B\n",
              "myZJqEFomUwIJf/+tSqADUVKkAAE1QtHLmNSIg431u7mCUIG4/xXY4NjVe6rm6jF0dlVPYp6vU9p\n",
              "a8XgjimWnqEbHjGzdz/QfyvI6Iyh+2t5+esuWt6y5ZqxPCPwxGTE/3nhCSCqiu8QPAfbXhfA/aIJ\n",
              "VFcQydSaJVplPdMa6dxRQO2RchGDnITp5uXq720arD1RpNvAMqfZNoqjEkIY4dEeFNS6Dm40ItU+\n",
              "Lqimq8IgN0jEahFI0p7zKTBP9VEOdbpz5OPipyzghUSPmKmhTAxM4piJcC5BkFo1CkwRkepjqkIX\n",
              "DXZ4xObrHrRiCd12Mqo5o+lAKkaeujkgrKcKPKRgs16IFXApDiuBYAAAAHZBn0RFESw//wAkrR9X\n",
              "TgAA/qUwLn504rhcqzIdLSM90RzLbf5YvjA5w+gnVz7I1ovaDwTjYm+HaW+GCcSUW8aL2oNO9Tmm\n",
              "38ZrD80vnOrspOCTOwt/9k667gmjSHYRp7l+v6F/IwdxvC180qgJf9n5D4Mgur6ZAAAATQGfY3RD\n",
              "vwAz3ehT5YUfoHZD8ycAA+4JkTTNxf3l0vk8fSnpgDsh/CffYgRpS0XaNxnAlP2w9EIJ+26PIp7S\n",
              "CEp73Qsf4dUxPYUGfDrJAAAAMgGfZWpDvwARzgcEzEdxClPo7MocYeH4n2/oO/FQSoeqoJSnE2hj\n",
              "1IKo4TX5pe773BiBAAACNkGbakmoQWyZTAgl//61KoABlvjWWmG88aH+oEpolTanTfZ/yiXqRf/D\n",
              "a/DXO2gdPuvG+5sKSjGXdjZMhu43mbEOU6Yx843OhSuX6il04mwbq50BMmzRrMCWmNARon2QpeMg\n",
              "/kx8wtFu4E2ecOyFhBa+/fga+sRJfcXtb+wBoPXTZA79xbNIuKhBbsf0CPjT47VWZVWMIcPMp7L4\n",
              "6whjOME6cOiqcgtsXtia9uxN9mdqMR+v0Nv+gVpcW6TOOcHLLJl0yhaNq19tBITlznD+pTQU+hvJ\n",
              "wiTMc2UdyrvRDnMF5PjlQ8QZjatU4Lx5Mm9GWkMXYawNMkpECXxIOgx83fw7dZ4rFEfCTPV67+qV\n",
              "GbOVjSR8sseNo1v1Rh+tD5gLj5P/7D/ibB0R17EFH8PPwh8/mYpUWLmI6Vaui6jchvowakg0iGxz\n",
              "u12UadSjv7XNNn4HF9YmkJXCcmiUUFi8wR0lgzMu89cfKN4i3YwGW5Zb/deSh0Su5J7PJ0/EyQ1P\n",
              "0omLBM2bATLrIUECJ6DFvdcXyNAJswnn7DskRxYbRoKyyvDlaJxdW/eIXsE/5hR4PNKNzVwJIG/c\n",
              "DqBuL/5bjIF7B+v5w9qSL2IhS2UEwJYrP+7KA2Hu6IzkBzdwwa2YVn+kFtcJkuixV94p/MSd+CdJ\n",
              "aNRsfSLfyr8BfH8i0PNcW+Sx+JoL6ghk1u5DVj1BwUAfVYK6vo4Tw26irm42oEyxAVP1yzuVg3NB\n",
              "rA8U+ifeABzgWfN7AAAA2UGfiEUVLD//AAui6adPQtAAu80ZhZikAGbcLpqa0Pq7O0EWxOm/gy/D\n",
              "NI2KlAjJrTLd3ZNgsMWW89COYsjolHSHH6RYoR4fzQZLiyYtpXXXo3OarUmLwoGofbDtfuzefZhO\n",
              "5V1vifMY+17bpqbyaTv97DV1x3FIR6vkZBsmJ3/za5deNr2VzqMWG9Psrrkm4o1GwlnrpLI8UfRq\n",
              "Kft31cg1rVxxnX+y39KP1GP/pzwSVutdOTwV8fN+9fjX/MK3hHd+KtoBBCuz3Ut9Q4C7S88haruH\n",
              "N0YJyXgAAAB8AZ+ndEO/AAYcnnwXa+4ArVdI2RpzpLLif0oAaig90JvzMDJEekFDOUtMwBnz8DG/\n",
              "yB5NtTlsB60qkmnIbxiAG8FiZcUySTiHb873zxYrU80mQEDzqUndectg02lWF9H2SfXQTkLCw18+\n",
              "vtLAjRpFza8c+YP8q5MFUHUvgAAAAMIBn6lqQ78AAhDk7prhKauPSAFshSOhjRn23BMRS8oQybwF\n",
              "P/veCxa2wtw1le7ornVzf7quoMqdxr6/SXXkUbxoKO06DQqgZQousw3HgSUOHyiw8w2F0mQL8dEL\n",
              "vM9jAJ4URHzEgguMqu+OEh58rytJXg4GFiurv3kXZBZmVNRLuAN4yR8hxwTlPaMMamAdCevTlpg5\n",
              "UUwTjpfMpkyYCYglGUfGOwU8N+wrQlk9GtWgyX4c0LOMDuiSw/2bTQyohbonYQAAAqVBm6xJqEFs\n",
              "mUwUTBL//rUqgALNxP5LfJMoYAHNuKU2mOG/YThpKVCuOXG0ELmXkeFcFAiLrbhn7x0Cd2BiRi/z\n",
              "HK4NI1iAmRRXThHv0l0TPtEbb2qUucXqVzIiUTTb8WdbiA9Fo1xBFhjW+tsLc+kxyUn2Zg9Nlll4\n",
              "SsqenJJlXf4YnLLMG7+xFfnCChAv7kKCwlPfodm0GE9ekMUCyp9t9aMPMjWch6gk3+Q9Hf2IXe4o\n",
              "KMnQL/pNK38QkmLPDRb+YBBm5IRBj5QnaXvGJZsTQsshG3DfVhnRscioezJw/36dD2CqdZSjvgjF\n",
              "B0uKO6jAUFZLgr+rAxa+iNEJSUlWP+KSPXeGhVc1S9CIvwBXWGO8VlttjpwqOFCa1SgSOBJxevYG\n",
              "pVwSro+4QQd7pbhEySPk8Nm/tWid+gGFcR2J27mKhWgGlpe18331AZgZLX9yRgXy1Ya/8HHn3Sx3\n",
              "u5eMKJx9bSMA15MIAVitX36SEH17a0ZxvpMddGpm7Snep42XXm6TVGaIzR/lDqbHGiXjIFgqQtHC\n",
              "WEM37h001IhaQQS7C4a7nUa8B/ijnEILM9QW9ZsC+m9ABzwI7QpN0pfRXEZx28DYjsQm4hXIhix3\n",
              "gmrN/GUEW67jzc+z9xN5w5Aug7RwF/XbM+zaRFqlqh3aYjReTUW7wWHtmM7K1XVL4NoYMulK0DO7\n",
              "14o9dqB3jr/86Kv0D1CkR4xrUvzXUdMPzNBf+V09YUrDjsr7jA5gdN+cGjWYvg3tiCZKPGRsLQhb\n",
              "36Z0cO+K+A9mA1iQtS5vabz1kCyq1QBQ7IozZBvIy3OR71TeoDQrY2lvGI5gPUIYAIGO54RkKfMT\n",
              "s+f4rowAfTiC8Gjv/hKXpzLt6dxrYbMNfcydfPqJFFJ91TF0EiBH3GwLgAAAAYwBn8tqQ78AEApU\n",
              "dDX/bfiSeg6fOkiK6fHNF/c3gy3q6xK3xThRnnrr5rt67qx1LJtvLBQwSpYo2i4MvVFbGIANaEQO\n",
              "JFe6YAlBHc1myMzt56nFSgRk1plu7smwrXajmiPCxn741331om2yxwuiElNEuC1JhKFwwgQuJZcE\n",
              "b7/eUAaeyee1o232lhsPTnM/HLKGtHIm/CuJRnJ7glHubZwqdJugfKSfGH3JwnNODCS9W2Lod2GY\n",
              "5nkZ4fI1xnOYXWNnsc8aV5VfSayHqvv8OPqYKBIn3PHq87JTCDFq9cCAsMIXduYW5CPGBPGribmm\n",
              "KRUsB81qHe0Umss01pgtdRmpumKUfWsxKqnq//zhbjrcyBXbw2v5gsz/U7dp4gyM2kZ5BIOB3rS4\n",
              "5EZMkRRGvr1Q8tNhWc4j9kgC3q5obSn/so9srhns9JQiye55Z2JDRYM3p8CAGF2XrLAfuJlBNjzW\n",
              "7hNlqWUznzqUYt9RL64P+uv1tScsNyfHp+yx8iY1yFqhmoHybvCnHkp0/XAAAALSQZvOSeEKUmUw\n",
              "UsEv/rUqgALN9EhtvZuelp8EhCWPGoTUusFLDZ838DgJy8LT5mNiMqMC2X7fWrHdBDfPJ4LUbdaJ\n",
              "7S+Y7PlCiHFAUnuWdOdIfuG2uextkf1cGU9+HpDg+Q7Fed7j1T+iGkP3E7+PCzCUdyGCIVFqypJK\n",
              "L4KYAhxJTUB6VXRv3sw0xcuctmlkWjcLO0PkjVHZGJPzGLL9udtH7S4JCSXixnmXgcKJUBpYGkc8\n",
              "ES9e19vL/3p85sFyrtupZ0rocandDrO9cAhIrEWjtQe2nxusrPNXcFPmmuwPHC9uzt3D2QcBqKpR\n",
              "ngAOWpd3oUdAAbUwSpeYL2fR0moFjcrxUPK/Co7ShKik5PladfDsUCiJ9ocDSsrjIgQsCvxF3ysn\n",
              "ckLCI55AhNZXGvYgdEygc4I3q0a6BS+JFjjibjNkSMRbZqFdRA911tOnm/N6hHKLoMpnj5PVzyF2\n",
              "JOhZAWn+16YHfm5yLhVxDcmKaezmCA2RLAqnzQUEy+smJDXy/LHjhRq2DQR3Q8hCvd9ZBLaqJqne\n",
              "Nx2JwmBwt5yxPC/Zz3/9BG/gndyaDS+UWqvNR+AGYOM6gHGPjcmdGImKnnHSRcaJOlDqT1PiAykP\n",
              "tiiUbgLCHA86ZRQhpe6Iexlm87v1a4QBZ/CIfzewjUFK6IMEINIQ/vAn189urcrkLw0MjKGhhLCU\n",
              "61OAWHWWHghVqTu2okCUHvecifD/fgAdMGkmLh7jMFfhba2U8pCKWni4WhPrYnkDb7wAKn422G2f\n",
              "3g4X+GOo7HAel/KH9K6Rq1aWaH3z77smWm65JTGUB1yVsBnz1BvdHDjeO1JKA0DYYdJpSA47ZRSQ\n",
              "t++TRT162cJBtMr1kONY4ubATPjZx5Axhv/ZJ3Qpdbg5HosHx6OwhmoZryJfn4vfGEySixh6t7Va\n",
              "GaMYt1AAbhjYrXS83Z4AHmwICimIC7331KRIl4EAAAKnAZ/takO/AA/YANA+TolCx+ZSfwHgHe7K\n",
              "bjEtqYpbuIpZTFUKrk/ivov9smIYZkYCWr7dJF8KCwrGCt2/8vE0pzUMhWdXwpqI4xEXLUpDQSv3\n",
              "witPJYRhXVsTXJ4uf+Tebs55HVi3F71DCo/lR6kSVeVhD7zpGgsHEvwPuFxg4e2LCB1cDhKJ+u+U\n",
              "8XB0eM1M/k0ykIZ0U4JvylX4dUOh5lr7IG4wl+MkXqLPja7d8NnB1EGxWtGjeSmbjaUbrjY/1XVy\n",
              "ZmiSqPxSneMPW8WZX+dpRspiJK3QuLzOa7GqmANPSR8e1JGQn5FpOV14lC21frmtDX73KmSroU/h\n",
              "+h8stQBVwgTW8NbQgmh6Hp9T9pldUY66ppiOqRiUAJom1O1XE2fBnFZXMR2UlLJSSt6Pt77/Ap0r\n",
              "jOgban7+E4AGI+RRpLlWvH97zq60sij+rYaFxGAfPhIoy0GPRbG5CiHlX8gPfteY/zZ3Bzf6+sU+\n",
              "hITPMHuAAnOd7+QUupRxxJkROrz/pN6+HUMYZQtaIcm5kAXPDEjxFadieAE3cxBg4H3GyV959mSE\n",
              "xIaKIkmP7MC9LXvyl0okiIXWWqCQVlQauacHXxs3kdq5GWMmHEiePYaeMprnru/R40AHeQqdyxnj\n",
              "9X6VM+t+kokJ01egJWf3aWNsfRAhvPLSViTw8owif431tpf65kOd4hpjub8CC/ySG/Vz5ah6pEKi\n",
              "eenCOwRlGyq0Q0clu/k77hK2AUYzo9iBNPDvoRjnM2ByGIYqeLXBcIVSlNJM4eBHzemunCd0xfjc\n",
              "Pd40Mpn5TzhvTCfRWAX/Ho+YadGafXzlsXKoSkMF4kfftcDeqsOrpkqgGYcXZx08DIvcs11z6rrK\n",
              "kh/xLzYOeiwpDycjD9JDcR2bUg6FWnz7YIbXFQAAAfdBm/JJ4Q6JlMCCX/61KoACylcHwBMVd3id\n",
              "cL3EA1Zk4zdl6tO6GCMYhdN34pEBqUhNpEyYcWpxxqjnhkeFF1X0mbMYibD7WktmxA4yGqO9fhfm\n",
              "Qco3UqLB9mO7qZKape4zxyy9+OYWiOLhywfE/bFh8ek+MECI8LbwQv2OUT9mD+lsrifTo5V58PXh\n",
              "CgwIPDoQvdD150augaH+D0lgzTFx1x8W2pQN+PZInOxEHHLlXhEsxcbkBsJ/EzFp4d+JID87Efek\n",
              "C60PsQf6uozMBcMRVGrFu/Cmhi1akiFogtchdeZkZCCntqwDepG1Um1N57uVp6sSsMt1n9aKkl4k\n",
              "1aZrf//7DiELlM9RpL/h5NqyRmYs1W5Ya+Jfz6LmJzIqyK8B3CdG4RLkqOrhuhA7jZmtvx42dKDY\n",
              "xdXayhe136dGIoyePUO2CEBTdZ4vhRotZXz4PGzr4Ey8Wmbe9Qftgs7AoAlW829dQkq9ZuKNGtHI\n",
              "4ErppL9u7CX5wdgeomgow6jzm6EI/vpEiMRigYYSr1ZUruSv1tpoUIHgCm3IYek6h21SOVq1p1b4\n",
              "BS/33Eh29ltVDfhttQ/FCa4g+gfogjQ/pEy7FlzZAQbsz86wVgYKIkoJBUZAyf+GP6R4LFh3xMa5\n",
              "FIYCY9XRTrNAD3n7BGmRL4PYkaZMWQAAAmpBnhBFFTw//wALhYUS4a5qiBVyExS2MIieD5RUXX7Z\n",
              "g1B1yowCsNNVzqnQz6cIHc0W8ysv2CR6LdrFXnyACPGBv36txk6rKx/uCnnVG8AP8v9SUJgK5QRf\n",
              "QOyPk4W+bKTupK6Y5H8XW9CnpnfIf7UvH19rDUNrOnJEpji5XVnJ6G874pBQbXdvHJWDo3nRd7zB\n",
              "C1liviRZWGXP9PZe4KoIv/wOfzSFDt1585rqgxZhyobJVoWgelCi7mdnJ9KNXA4UErvrKLlHQrID\n",
              "Bq5qKh5BzvB+s8CVAPfvexYFdthLmD/U5fz41/pHQkwO7uwdQfB6Q6Mho1hF2Ny8cc9jklDSc/SG\n",
              "VqIvJhsWgccpV85RseuwQDzAbgqS/3bfTOv2NUv+GG4sIvNmH3kj0LAACIdt5Vdr0fY/OKGXlYc7\n",
              "SNFbPlmTFtxmrNuANtdU2h2IsVjB4BPygjacwPCCUbbFWAHj4yOesimoI+jFIj9QNy5SbxUz6KbH\n",
              "AJvsCZQIgc9t5gr3yQG3C6qO8m8VNle5+1HdcOOEoBtKh+Dm9F84oi9RCvsn+xCotsNM1NnXz12E\n",
              "HlUKNbxcva7PMZCttGhsf2R9hGTcpD7DzZLxnySe4NY1kIdTKt2EINRHibkWCQQYa0CYZU0nDkyC\n",
              "uJjeQ/yl9pKAb+Rvd1czD8GVRcg8M6MIKhdAcLvcDWSrgtNfJQkVyv9jIiiJc0VCHtKnmd0fyHra\n",
              "+7kRFjjk74TppLQjcGMNSXC/BCYuCpRgGcNf2WJs6TeGyWgrXFW/63m9NKSPKyJDbfKX79lA0xts\n",
              "d9TjKegGJEeaJw6l72AQuCAAAAJZAZ4vdEO/AAPR0dw5gdinvRf9zdn+LLRuYc+4C9bCBg66vvMX\n",
              "Za690keQNhYzUSzpNw3IU44DUZWDOoW8sAcwzJy2Pneb8HEWTouj/uyrUZ+etzFy0z2vpTZq+i73\n",
              "fdP32VdvpvBEBx4s6rki9hLxXgA17XHnavRt4XhOjSkkRnu/OXJQ2//a+uY/kyjygOuVKRXXmExp\n",
              "pTwjFBmag1vOndpM4F36Yall1oijjzpaZQYs5i4ECYeF/fVhHyA338mwSPG1ORExxzrU/kkZcsVs\n",
              "eCOQIag6Z00Y6bKpp9V8vLjVONHsCyyl9BGSNTgtyDOP5JWBuXbxEQDSpGFLO2eL/ls3eF//LVxU\n",
              "XXrrIXPU2VewyWvK61joaq9fRpFkpoPRR1c9HbzPTXFINn76pYX+Owjk28i8hxKsIvfJeY+6i3VC\n",
              "+RSVG/UgZH2SSrg4/k1DmBJ5dQtk+JDzbk/P0BCRyEr0/h/aDYNWKFjtowJEgb5Vn+hKTPuXhwdl\n",
              "hhNGWSNRMtSA2NnZd1fefkRFHBo+P3Y8Sm6ksgad0INyp5oisaLF7ycdo66nqJRZcUdZSwA8jYPw\n",
              "Omy590rvu3sZkIognH7FGq2375XtfjzqLL8TVSfQWbTA+cH1dnsRDj9fQ2D2hwbHNZIi/rIkn3dd\n",
              "nVmte5qQOIiaAK0KDaT258hsMlDoR0xkZa7FlSJOwN5Vj/TiB9HK5d48ihfXrCx7fIehfC2AIo4H\n",
              "OZexNRGpGRWcROMbxC8LyJQuJpMvP9UaWM8wkTOC4BPiLJIswBSUIj0MByoV7ayg61BYQAAAAUEB\n",
              "njFqQ78ACuKG9SmsH7cX0ptQAMbYhpnneG1ShcpUye3/MSqvxInBZeUWDECtSZDScHymtS5vxRFu\n",
              "IyfuBZLBX8p6pcThjkbbuH3Dg66z0NGSiVN8+N56UbHfhXM4V2l6GYuJC0cIWXY1fjLVFEwdo68l\n",
              "4EfckQifqoVDxTqabbno9/L5+9rTakYi2RzB9Wa5NjqG6HHGXrMUBHMRRoNIusoNVbtsy8W9OUDP\n",
              "5CKF/7PbGned2ZPqdNiwqAuXsT6MbdJFIdYNLo/7ibFgh6hHzKlEybX1sENbTiWn/Q5QYLR42xcP\n",
              "k5Z/S3dSm7SnnmK2AlvAkTO7PrzLzfQVp5v6nNWmIzzmy/H48l20XYKsOp1wT8yebBA5GqLJgeJe\n",
              "wSzZp3iMqw2uYWcTXy6UZNdktZGvUkGaT39TsjmD42TqIy8AAAF2QZo2SahBaJlMCCX//rUqgALN\n",
              "9Ehtv5NyazEgebXb60F7Ic0l/JG81zAR0G6lui3Ph2v+F/WVZJcvlregVcP6fAGZw+6QoG+dVn4z\n",
              "m5pgkQ8vdTWiejDtvkdnMj049YtBp9AROnE8KlLbs5aRDQR+BS3LJLQJTqCn0WNBv/wHcomSoQmP\n",
              "+Z/Fx0ZrGLfsGVg/djY/vXFV8V87VtJpoVutvzaJGAClfx+XpkooTz/GWrrzqAHH9VCYkwO1j6nk\n",
              "m6X8sww75vxq8QNUtX7RtrMHa1C3HR2FbPuuWdA3+y7C7ZX8Gaw1hA7AJak5bWKAJAkQJCatz63V\n",
              "Sf1G5vP5fljVkepPPMUuLvR1Zj8NTYkoxiDStojYwq+6QZImWho5VuYTw1cqzbGM+FYUHKpU+ulS\n",
              "0R31VU+Di6QvhU4UZx1QuzZWd9UsxrVEyqEsuHDvpQuoe88FQIAnPbzG4+RTEzqAOVTZ1yxwNMiH\n",
              "0ErIhTfLuPlwl5PsPbgAAAEDQZ5URREsP/8AC6LpnJoCgLJmN8AGujyTad35GRMAseh+jHSr5tdu\n",
              "y9l/p/m/pr2cNQn8MWstYbnxBefpsU0jpVQn+6/IeXGlgFfxUpF4oKf+NxpHR9vSfsR0ljUhdIV8\n",
              "SjLpjUuK4vDO+nO/OTt4gTF4p4mEmqLgwNGbX8/h81IAyhCHjXtM38lso1m36ViXl02ypvp5fEBT\n",
              "4uvMd2afARbcA5mvoZP7ZvOg2tRzKNLNIOk0WHEKB8RolETvIBJrVo3Oh8jZkAIBJFXEIKzPJMSv\n",
              "BrODxJSGvo1VYN2vrYVzluDJjTO44x0FCU2pzz7wa4h0PEBfrxf6o0Eylp9+YMDcwgAAAMwBnnN0\n",
              "Q78AA9F0ki3KEjh2j77j0xAItBHNerzuhZfyYeHRrWdCofRpPUTWRCboEqVM5VHacRD7SZkeBCMb\n",
              "Oyt+tIp8aVJ8lZxRTfyBlfIZYYil0gqiNsR7UArifBebT/sg6X5ENSOm1XjFdPSbjiAV6ltwCbWy\n",
              "qpRxWUD64oChL0KMJU0MPUaLMUDk3gUUOVMlhxtTn2YjJYzGOKs/MwLl3oONS36XCvZZiz1MHY6/\n",
              "6myGKioeUCWxhd3and/5v/7sbIfyqYkzmYviCMEAAAChAZ51akO/AAO6bSUqohoBZmNoOYvl18Ul\n",
              "PVBeTi//eoJYO1UR3I7D61g8EaDkMSuNPoxD7uBXziYddYGlO1lRpevkW7IrX78ha5/onU2XYYQT\n",
              "KPR1D0OjrTw6dUTD59Qg2n5DwwRe6Uf6zQaoPJ9wPhxR3d+D46ycAgnLOIZiS5tcY7XAluId651c\n",
              "YVg3GxFMkN5MR6EOgJh4d4lTRqABB3QAAAEzQZp5SahBbJlMCCP//rUqgAD1OZPydnxXoGjKPfpt\n",
              "cDgewFT5tlK10xfbvsIJRGjx+TV1ODis6R9k1djugb5wC0lgXxHyg03YSS3eg3dsPgGTmN8I+gPr\n",
              "UH2iiHti6N4nYC9YSmG+sN2h1CG9R9ZHksJk4x4m5HSWcXoASBScIBmN+MYVlCoCJwFW4UGyy3ie\n",
              "TwyNuXyptdPQKcGGJm1bm6D5dMTHWfn0hsHSNvJ8lYWeiukgi2yAnR63a+NsW4tIZO5sFm/OLSbP\n",
              "LBqzPHNk/PuIYdr2tMxeddFpQ8bhn2QOWYsXyJW7v03JFx06ETGEx4jAD8wVfjfb985V8uj3JouD\n",
              "BtcVN6CXTKrg+g5vP+nMKQIR0065ohf2qELyWcas2K+ZjxNhzNx23HAtA2wYEVc5gQAAAEBBnpdF\n",
              "FSw//wALoumcciQsogQ/P5xIZT5iqp3R3jYS0+fMdGp31t5ngRhLmHSkeXGj/yJAV+VPDJkXkO/Y\n",
              "lhBRAAAALwGeuGpDvwADpe7k/6aQkQHdOWRd2afnhomGfPQDn0tCsLzyC4jqGTHCDwg8odxAAAAA\n",
              "g0GaukmoQWyZTAgl//61KoAA9LkNoxqVPg5Ve51RGaubnnwAIyX6T9gRWiFHhs4MaLT/C6oWQYs7\n",
              "sFRZufGYWYRETPMKFv27vgqcGHypwhG9ad514MZk1TzvJifOvoQJ1VTVjQcN8IDgu8qT2eH39f3q\n",
              "d1adubpVDCYJ+BXVRYlAUUQTAAAATUGa3knhClJlMCCX//61KoAAVMyBvwBJB3YQdpWfaCRGumGR\n",
              "De7kW1TRvBS+Bg+pSdyg5vWNaBycN/4mdqWVJMS3FeO67/92HwHS2irAAAAATUGe/EU0TD//AAui\n",
              "mfyv+WLXn7w1kt3oN2Zylr06JAYFp5E+HErqQAWIPAWlj0cGK8W0sBNkNfmKgtJxp8D3FZezuX+d\n",
              "fs1Ju0KrAN6BAAAAOgGfG3RDvwAAso9LWkZU/Ut7rUfI3ATOQAJySXtAA08ZKngivQgdCtb7nq7K\n",
              "OJEFcSrFNQdpXyf4Y88AAAA2AZ8dakO/AACyqwIxYip+ropk7CeIJh8Gu39xwAlyxDEo7TfHDokp\n",
              "al2ro89XLD8/GSbT+yA/AAAAbUGbH0moQWiZTAgl//61KoAA7rtIA9vvFK0qBUoESpoeqjcyeQX7\n",
              "+VF2fsBCqdbZa7KwOXZuN31afqN2bUOEFkQNCbra4oCKWc8udThk1GtH/cPmgMaO4FM9FrMd1EEr\n",
              "ai9/xM+u/V93mJHJOuAAAAGgQZsjSeEKUmUwIJf//rUqgAD5wGDAQHHbKj/oO8WRW+bN4JYsF1Yl\n",
              "ysjI1jiFYVlWUOxpTmfNk3pkkZ0QVdefojIa3i+fAdp2Cip85aW9EAt3MQ0uz8mIg3SkUkZnIH5s\n",
              "dfpKIR6Ht1zjqPO5Q7sx884Cz3zf9UPbTinFRA6FA2uubzwGTCZ2EsbeREAMk6EaFRJzH9fagIKI\n",
              "Xd0Fz/idtSMf3J06n6rTZ1Ick8Q9p0QX9yQPTqCsJJehQvXgB4GHEPzvvgoTvGU/IJPflYZ6JH4Y\n",
              "FJVNDWmhDTsDgyk+agJf9r1KTSx403mHw+6lN4/cuFq0rw7Q7ddneCsYzR8nGX1XkmAclzhkpwhS\n",
              "BY1xYU4PprMNFfjJlaqxf/CRU5BQhPzHxR/11Cg1yG8+MeZtaRo92ZgtVlTHD64Kj9LbiD2lexA6\n",
              "wwjEoCVSCYCihgOoYWmVij4Bfuaens1xG7gTb4dGSrrHml+ET1Hrk7YY0YYEn3zQHi5Ty5QM9who\n",
              "q46RtbEmKS3YUFbVhoEyWjrXypunBFvQD2nWC58SFImcB6UAAADOQZ9BRTRMP/8AC6KZ/nmicGTY\n",
              "wanfEBi1VjAs1k7MeIAgmgUBvGvLymgcIlZ3C+KayOET8i8VpG/cY7wLWrNnoJsrahutQl+Of2FU\n",
              "WxlBu3T8O90IJoT96oNkHFMxqmF3pq0WEpjDC/3ExY98JJvWu65brNriJtsWmXhXMTnsSWdiuwW9\n",
              "3CQ7yKL3zYnznyKefvcw7YXKYTrmJSYA3sOBZH4j4htMr0KFQVJs8RLKgIBFKIaUMpQJtw5FyvlT\n",
              "27AhPuf7YFSZ3M4JuErifSAAAABIAZ9gdEO/AAO7dIybW8HZdWDqdn5Ogj0h+L3wxtcJv1YsOK8F\n",
              "xqnZZPZrb/0Okj7Ocn4Hm3i18ThGkKkn/YUHAetIRUF9xVDbAAAAmgGfYmpDvwAD0YUMsIUfYBT3\n",
              "hNRP/ytQDjaDziMBVbXx/B8Vv2DKaYPNyCL/u7U/qIoxe9zKqs5rd8CVrOSQ+r3L0WRVkvfthE/j\n",
              "gkoRK402pbs0OAhEieiV0p396QjKpSXGYPovrT1Zpi/IEl8WmH9czRNZUo1DSCE/wVY0OmbwX7aa\n",
              "uYiioYiGwfqKPOVcTyvt0e7khgnlYfwAAAMkQZtnSahBaJlMCCP//rUqgALx9iqB/mFYtR4PDbL+\n",
              "utFgetGmuTo2yaC2xan33wxUymVxmpxAxcsespo0n3THZ1Vl2BkfqPU1N+8OM2q6Zv4jHRDi8uSW\n",
              "fTcpN0c4ROcltJjMHG9aQj3bCe7aK/vMlJ1a7NH2rpOlguwaZ+u8ZNnIahXvaeAgH3zfpNdrYO2o\n",
              "1S1AutnO6/Z2v/uJCuPcaXimpM9uf+Ivxg0iwMJzi0Wl6suxe4IlssEThNvaC6iYuRXCm8qahkXb\n",
              "X/4A5KHn6SlJ1Rp121TRZrsakRnhOviDrHltAb5QYAN5vyOK8CblgSK/wrrthQ4Z9t0TkClxRv/O\n",
              "AzQSiiioW2ANTkU7tkh7Qz7m9SmfHyqCj+8XFvihlpZGRnAZ7OK6/yRZ8zlgSC+JEcWfr9XjM8m0\n",
              "oK0qEjslmYq3pz6ohiv72OK32/nB2Gu4folTsdhINkm3wInIfQsHXVMibhPyabkqsSx/wVklxT2X\n",
              "YTdAzIn/q+6ckO+3C84EzVL0QU3PtXGJegCeS0uqWbm8R3iXXep5YUTR/6E+Cy9guv0z7FPsSF52\n",
              "C/UM+ZYt6KhxOxjx3c8+YQG39iq2LMRlOnvYQwmTff7Kw2Mh3VH/IHj8sbdNmp+byLgJ/mG6WorY\n",
              "AFCaCAtXpkpJQgdTWg3u581/04xgxw2lmM1WRyTwpQPM9nFyZs9g0oX8CY+Vs51nfQgPOuxH6PmB\n",
              "mUtpn4mbhe1yVW760Mb2Sgr4SY8NIesw+qJFXx9gSLESJqetyyZCD7TXScOYREXpjYFYk7SEqZA9\n",
              "hokVHvnI+rZ4jR77pvf49CxbxnhroAhu+rFWXwAAS+hSniGyROlAvQc1tJxGXgwoEMmUlGr5pzV6\n",
              "23UgXC4GRYJxCfA9/6Unx1iCKlz+zBj0E6DBT+D+nmFyjVsh87TdAPVFtbc9+l5ATr95t4agnUTj\n",
              "RXlVCMP5PH0PrfPuc2yAnsTb87y14MGAAV+Fy5MJJut5Yl1TmW8kmgI30pmJdhdmowY9EfMzh88D\n",
              "iCRCd2/XFW7d0v0zznlM+EhgZuLrO8SeAq1H5gFhsFlBAAAB2kGfhUURLD//AAui6a7iuJN3pmDY\n",
              "0Ipwu/Ddqsuz51h7UfjjvYvRSFh91e31BxEFU+b620jZAjcLookDt067oF/J0sU5oxF0Zg1tr5//\n",
              "19RrP8CCrAAzYhcu6ZmnWlWC2rhjDKquvSlPL2jKX4lUUXcWAAyL9fHYj1vbTP4dSV70IGSMJCgl\n",
              "ku+C5a6DW29O7o2XbnvIayCKCxLojHXBx/y2DF1Kl99+CelfrjEsIueIoM9KEm5xd0nsD1GyfDeg\n",
              "em5mPO40A0Q2CfeI+BC2YwQzTwiWVZroASEM956OQy/GO8+DB6Xkg7AHbTxSqac74EZ6HXw16jwG\n",
              "K6v+mdxC8flPd3WLr1g3oSeLMD3DXE8B/EbP6pdi2obuCEM/dw5N0yD5TSGbWIaL8A2GIlvRHu3R\n",
              "H673sfqpls0A63Ub71UPpa/vNCyGlHrw3GmmPt1nzTz4lS3/wpJiW58YflpCS+O5+VTeBlkKRezM\n",
              "HKVmJ0iEwDUEZjSPYZbuEdqYADMoSzjIiOU+ZUUNqxR+i/5HEM5YelGgTAYqkIu+fIjBQXIjlqbJ\n",
              "ZaqjwAzZW0dw/B76GmmvU9fQdY/w8UicvsUOMx6vDuF7aOtJ0I3fyJZREbSRUPxn3htbCGqMMQAA\n",
              "ANoBn6R0Q78AA6YjvXb3KUACBbDMK6y/jBnk9iKy5cER/eR9Dxj7gwIOm4E5YN7HCxA1Ks0gZo91\n",
              "98AF46mcR7ii+33lUTDfSVF1+R4ZyB1u+xR9gjEqzYXVCvF//b7ZN8a9QKYyqvlhWu1yK4y6lJWx\n",
              "HdebXuwP8pYHlqRthbRHM4L1vZhjML/9FO6nXtBHeJosKvC6/TMW0kT32Qqi81hQwYhmgXRwuW87\n",
              "filvBLb5VD7pEAcvurgjhHVfsrKs9Z41QH7FBICCd9diX8hiNFFuLyzG9d/fgTEVMQAAAXkBn6Zq\n",
              "Q78ACuIhJMNvEIp3T6kPoNllsPsdGha2VevETp3pY4g4V2QTUVT7vnOeojqhLVBCBgPH8/Gh76uj\n",
              "OOZe7tZGaeD2WEGVauetXuHhKGjTkb/s+2dOGHRDBNqjXuWmJROmIl4K/5GXBFy3us+7SBJoKaMN\n",
              "3rt5Cu9uRRF+acTznOvT6CLxqA5T3HavVnuVe9gmjMvl88+3ZuwPFEoY1kpn7IBhc6lXiAR/VXJ6\n",
              "mh/fjdtYAoOJdG4YFG28/U1fTPvB+Rl+sAUqqO3MNQbdUIZmBAsSYA+XKSyec1b5IQLa9b4Bd9KX\n",
              "H1wrlnRw8CB8pzx+UMhYwaQam+G8aRgSXYbYyptR6/8Tg2zxvcBrMyZHXTRWblg3KU/BDiYrg69O\n",
              "WhhDL/PMzRKBoQSc/LeD7n/bMMSKH3fQEIgRjdmeM4tyVE21DITiTV4fJggaatZHxRRfxh5PytMy\n",
              "h+LSrwkBK11ZcH5B8Ilyb6+svM3fRfkB1mORUlU0rwAAAwVBm6hJqEFsmUwII//+tSqAAvH0GGXs\n",
              "2DqrNakRSFrXG8KFJ053LyYAAAMAb4k3WPohHMe+4SJq02gVq/AA9qbfdTmobrL0s0DqNfOuF1lC\n",
              "ya8XjwRJzMaTdZLdwVBJ714TFcJrUrw1l6wT3iKtebvm13mu6+jKC5EziiQYIyXIMQtUbIlgEXVH\n",
              "7tvTVCHLcjFAN9Zwl4sFxonXBXkLLd3DYTS2szBcfWorEoCnzXLWyNXK+2HHtw34PGOe8pqXoUNK\n",
              "DM7NmiJuxABf4y9v3EFXcRF5NcLQbpBqau8dckmizg5qauKSH/s5iPwsj7+9WbvMowSUO+kxYfqh\n",
              "CFNjAcd0Wn846uynS/wqwNP9zr4eZCoya2ZVScuVEMRrIJQO1xNp6sFV11V9tg0qwjaezRCxDc9R\n",
              "z5eBL7WOaSpHc/bxsOb5StpGP9dErhq7dfv1IiZfaoXAf/49K7V7HUZtccMVgum1vJVQvQPwa7MK\n",
              "222t0yrBmREvgeH0auzyJRVQBMITZHRsCW4vfx75NwW+SD4ihPIZUgjZX6xfayS/BYZs15gnn2fl\n",
              "NkJ66D03sRgkZnIts2/aHBQleB+8i8Ymz8BheHwqE6DwBY+hNIkxwfs0cPN9N+jGA4kq2vhbO/58\n",
              "+In+CuJgRlOwirrW7/Jlhi3JryqhP3Q5NHej+dp7RqwZ7tuBy7PDBrPjUH20N1CaJkULu7UqSqMO\n",
              "tlABMHzssrAfAcQNu7zIbj2Z+pqLLax/VMpTAsYmxDtPWRM4JLOViGDQpv0a9nw1L7j7+JgDNrH7\n",
              "noqrR1bPitGoP100YgkaXRe7NjXd8n7dYWxKe5UmuSmMRTWSl3zOOJnq/lvpQ4WLoej7DkWpl4u4\n",
              "/JIGb5fVnaL8QlN/OiCZdskJF+sIjQxu8y01Z+hqru4P1ZHV/6ZA3UsnUg3C2I1gyO1TzGOKVdDY\n",
              "Y+SwUXV8BCu8TktEz3qjQ0xtHVmCU+UUoBrghmsp6WJH+8zmHbx9TyocTgv+mNY6TJs6yUXxVGFv\n",
              "QmuANDlvBtlDZgAAAmVBm8lJ4QpSZTAgj//+tSqAArn+ljmuGHMVGQj4AAUB7nmRlD6akXiYMWd2\n",
              "M1oQzok3DgtS6DT42817zgldwl5BJ0wy472S5ZAKTeW62hQEBOl7P7k58BjpeIcJ4BRYEbhru7zn\n",
              "RBOY0y5m4Mrj4zm8HVszTgFQ27s7KdcuNEoj8EnvLaVUlMfldBtfFCt5cVBnJxcaLXq0RQedSgrP\n",
              "ea9sidMxvyfkhGDoTz9S11EyJqy/Zxz9BYi8x89OD5nmY7HU0FWmrrZlDvv1Co4HGlo3i6i6ROBt\n",
              "q3sCafA5PBBv34SKo/AcrWGQ2IuxK3aR31yJCqcyshqJN1x12ScOluB79Zgdjw0WILXegH5Dsn6A\n",
              "Q/hvTdw+GkJ8ditoce0a8w45Eo/aYLKgP6iWBBTj0OlWpIlKlr11mSRkfE1sfdKtHUZxZPd7P8QP\n",
              "1IgE9tFFjHXzPSAkLQbX9cYTO5s/3THcDlBCBbVlUpKN1ySELWlDMLQ/IBfIpe90Nk2n+FM2B0Il\n",
              "wtzbgvpvfpOQlfv7FhS61eG6/Uy1zWfqmq3oNA8e7ePjKJ7tkWHFKPY24aw9t4O3kFnQz8SCrG29\n",
              "7yuMAbj6ef4TZiLG4oQgEPyiU5EEamPGsU0IdqguF/Yl+h/z2Fr2dofk5H6eAO51rQ2tJbcBWRPG\n",
              "5Vhx7F7TyneNpFFBR+cyQDG/eT4sBJi2DO63p5dwEkHCzI8b4CzzTNI+9rMWhh6/C2bW2K10rniz\n",
              "6GH5mBBJMY087Bta8yYFYKnsUqAHqyuggjzHXQIH9V/UG30Yyda4dHwwi4GKXCTRih4+1fSSGEnA\n",
              "AAACuUGb6knhDomUwIJf/rUqgALNxP48/0oi4AAKmhE0Z5nMdRvuBiuViFbnSsfVA/8JczfONLmv\n",
              "vVaI6cYCjHAg9F8nDSBZmoZEjZVflNKvlRZvIMV5LJ3Zr4OA05SarRq0Vxf983mImPk+uWCm3eBg\n",
              "+Y7Pm/81ROWNAWT++99qn4eVSX2MobHVfZWDaV/lm1r0jc6LPsVipK1bRAy8rr6dZDnbfta92t7X\n",
              "owlJy3w3IAgZn+676JrAo5D0LF66EAcKB5eORRSuQTxC/OsahErHUYCm+obnAf0NdPxRbuGpFNwt\n",
              "il1uyGoDzl06ePMZ0hf3Gz6i4Zm44xuznr90Z2Pl0vpgL6SLKVw0BwlyTbBrHoeBhR7fB+yFa3A1\n",
              "tYW5wKxk+OBcNCx/7SwHJTXb04XS+f1dFWbzaJKzgxl6AyWsLU0xeYM8s8IjxibXh7hGAKicXM9V\n",
              "KCWTpT5LOBvY0M4CljfnhuJExpGSHdGysI6JIgKfK1KAO7dwAqu8yHNxgT/M4RTLjD8lH/uzJIBY\n",
              "mkx2NKIkiNVrkErACtjkz3GiwhjVCt7Aq1Fa47M38rfUcT2mFptQQIzC2oEQRJIJR5YK02K8uYJK\n",
              "B8V+3SV7PTKuNZvjN/UPVTeMVACZelMw50oVEVJ9LqkbsxpEstliIJ7oBOxOZ9G0AgDdzukrpLrQ\n",
              "lG2PGZ1F8WQsau3tKZBxDfAOwV47Kq+rX39dmTxFXa1DT5PnLflTne6t9o02q6/4sB6/6sOn3fmO\n",
              "BoYU2tdLVVJSpxD/ileVpY9nmTAB+ke4N7iQ0Va1pNJ03THY7EtuyAdrNWwAADSrMH0q/3Meec8D\n",
              "ow+OrrvgS1tckwIPP8Z5VSmsojlZuxz7S15q5LmBRaXihmwV/Ue72oAN+d8i8L3/PNZPmap61kFz\n",
              "LF91uyilBKbFhMJjV2JCPmEAAAJUQZoOSeEPJlMCCP/+tSqAAs30GGOFZs77ZZUQvSZS0fSTlx1M\n",
              "S5XrfX2cVsAA0W33bX8Bd06IFnfIRWcbSG39wTxYs2c/DMbzgb/YZt+828sKZOgeT2P0Ux9KoCUB\n",
              "YmBzSEf4TpI3qq3mGqMObAEzV2dDTVgMwBdVrD0LQFoSIFNjXuRi7LsDJAV4m5dGdfaN3ykLi8jE\n",
              "pDxlAppN9l6cDUHS6ut3be9EtB740ufpTfgIWFPRAO08bmN2uZ+1LuPpepUH7qfjaTD7fzEM3Ybj\n",
              "jILpuEk/v8Mm62FLC9r6vaDnmXb3VnvKFzelYiv5feH1oQhr+nAV/aE9Ex2KKMVWtumwuzC6ikY0\n",
              "G0snXsQqwNqNdNfjumDkXnkYWWD/FhRpDJRmfj+OuN3UDmImmWtQ/vrKqP51G0OFKSMQZzfSVf0K\n",
              "HF4OcBdeFv8A94RXjcbSBVJKjtK6+Xb14Aiss8SiuIWw4uqTB6kS05gDIPiq9fFqfb16X9teUZjr\n",
              "8C8RhFvZ+/eCl+p4yLK67tnGQ6RpwtCTB2SXqKGJ9EUEKcfd1Fc2yKp0F83IlbxBYGMpkIvKlqjz\n",
              "bO/kQXEPhHVFBLMArHFRcBCpStausgoBSOpM6NAddk0Cy610q4ZjZDNok8obp02RyjwSrqKZdvLY\n",
              "zfKyXMRggR9OqyxSNz0w+fksf5KL18/ir9CZnT/zguenjbv7H4pAdTy2CixKUKxxOCQB8Uyk2ing\n",
              "fYljdizxJ6M4i4F2Nn94YaDWspiITGT9JTug8LgbvdC/FyU7x63dQ4enjtCWR/gAAAIOQZ4sRRE8\n",
              "P/8AC4WFFHd8S8r8IWW/RnxTLbt1EtvW6mM50DuhKT+4gAuq7LMKbShR7leuE+SyRORHuSvwfNLJ\n",
              "idCdihzPLI8DccDab9oeYATVdLg+hihsB66S2pQftAisenTMqnwXiH7k+GqCF1KamX5aR8udNEks\n",
              "5ABrkuXUPzuK/txy5ojdlO0BPtuN7oZkupVDbzTOS7sE030JdFhX+3PE0//Qqtxb7l2d5SWW8KcS\n",
              "fqWKIjHBWYYHW/G8nKSfNfx4gDmBD8CH8riIfzNuXdnFLvGmpDQLGk0SJqiqoN77f08iy3YsG9iG\n",
              "UetT8IBqemlAqZ03aMHO18Lfbm3vTxSfM5XSavqltFOclqYs3SaPk1jlvzzNddzrYTmjhxH9DLhs\n",
              "Dj3m5zES/gaH3BanVj7SJi4CGR2vTt+xTbp93j6UeFuwxn3GoWxkesvrtnmja1G/lI5vsuWPg48x\n",
              "YZPOgRv+7Gp5iadHESOKTtN2R/3snc9cgegEeq9fvCWA8pv3ZTSYzBUw22NIouOZG6iUgMFB+qr3\n",
              "fj02ky9RdAx6ceDGlhZPARHgw/T/MtG26erMgE2o75Ra8AbXVkKmae1SuB07jElCQXQP7w+V4xHQ\n",
              "9/oF4Fr+CpC8HgDyQQUrzabmt8ZmqfvpGFtePORC60KYsj0Jk2b18Y+QHy9AyoocoW2O0WUfo5Y7\n",
              "wkQIpfERKAAAAgoBnkt0Q78ACsh/9L+JJ6DqHhz1rwQ4sXvjDKfrhu0r6FBvX0j578H94CplH5r3\n",
              "yO34lTOdWbmp/bcnDjXWTxOtGtzqFh3WKa/yz/wkusSaluMUKqOmGJfvtFmIOuheQwWMrffRcHi6\n",
              "epx0pn7lP5sczJvuBOlp0ohzUEMP6jlZwpQy3tX4yMVSJQNru3GDVqOXsoVXD3LD00dJIcU5iIFV\n",
              "MbzpMmO8ueqCFvTjJdjE1QZVxIIEpfRXWDIv+jDSBOBvtQzwclicyeuujZdYepv/E8LPaOrO5Sn0\n",
              "C7RShQC5Rsqz+1c9JPbCmb4d+zMqovcIgr268HDxcD+jT2/edcHbysK44cF+0+Oh7onw1kFNuHan\n",
              "kgPdwR9dUFrCwzdZE4h7FB4tJ4zpIoUPkKxZi0wWiZgRMrkNGpAI8GuwH+P67ofoUsj0NUfkUSrq\n",
              "EVG5bxJi90VDh0te2edYLyfpqLcOhUQWIG00tTxI0CZd+z8Y2FnriwcyvyowgxB88vCr5QbQrja6\n",
              "TcCgu9AzjL+zuPpUfJAx0uBg93JdJkLe8ES01oYmsxgh/Me4HCnKsuqHq+9Addddjd1T183k6hLk\n",
              "HFafdzs46p+JyjPXfsve6kPDdT4ILzeavOvZ89bgNeUg7/qCTy38F9MWLo1E8hfIm5NLGVFdH88y\n",
              "i/8WoGdSDYzUMJm0eeOSqRw8CpkAAACwAZ5NakO/AAIRH/zbyDDj1iABKCB1MDiRXumC6TQsnMcj\n",
              "I7e+wVS5p5Od5Te7JsKeKo5pk40vQeQlFE7oa33ZrDclA7AIWmmyjbIky6oLfOxn9ulJf4zwXD1L\n",
              "bMg75PMLmeDbnhngKFMx8JjaYymABHjKwnIWCsoE4Zn8syMVw7KA9wEKgbT12PvjlowuCP3BrlME\n",
              "kvEJNDW65f/4R8SA3xzie5hpyWadwNy2tT0iqDcAAAFJQZpQSahBaJlMFPBH//61KoABltwdkSoM\n",
              "3gABzl6ZM8P4gyAhyHyym0BjTR7txXsKuJccu2aDFBo1cs3ujeDOhXvU+3LR2OAXyNsD/n5kGL2N\n",
              "0ZrunQx2IYe9y0BLcjq8Xv5wJldckZdSinTCPMHP96LSInMS+bn8wHLXPEmDtX/8WgVZchXgg/Ga\n",
              "emKl/ZQ7dbJnpcsss0rWJExXrJqRg3PsS/ViwKGuDOnYnp4AWkfmcdXe3MwlyNIrEStP+FqNSJFN\n",
              "blqtLMtanWi1GUNwjP+2EklCT9DPTXtT+Q7A1rZrKe5+yYOmsUDWcIXJkvcv+RCJzazqsbc/Ktzl\n",
              "G/64Qa9nq7Qx/r6JFzbtyMzDVc/jksiVjGE8BezUdlIu79bSQLiLuvzk5YP3qT20mJmikFEoE/1o\n",
              "ooHgwgFl6Mdka8zn+m4ZTQv2OUEAAABCAZ5vakO/ABAKVHoqH9vj0ZIYHYD+pu9yW9M9b/Y6kDWa\n",
              "brSpIIIQ4II0Agw1EZjFpYT8p9zsKtB0BANcF6B4iMKYAAABJkGacknhClJlMFLBH/61KoAEocQE\n",
              "gAoBN9QJ2jczWHsxj+N/Lfb2SRRG229I61uVybdtXlZ6ccdURuZcoo5+0L8zNsnl7W1wH+ztZuVm\n",
              "S3z2tOIKoBmLBdC0B7DPgHDZ4OvjoevOZ3JFbP017YEBmc+DHE/8WUjZUeoZE22uIHV3e5Bpyij3\n",
              "7T1Pmca1S7LHWs7q6nbj4r068fr/SbDB3bp59gWmFZ74nAMmlp6zSCEyS2dSHXIeF/p+SPtzeb7I\n",
              "thBhC1WWxuQ2LYq7dRZ72VdHuV0V9EsQWSM9htRhVrL712kc55NTn8G1DIPaFEmg4iRENb8BsMg7\n",
              "8jcWAk7WQ/VqAE08sBcbsFDE/ACAdxXW6D4RaFSK3qqCBbzMichpB0nwU7WnwAAAAEsBnpFqQ78A\n",
              "EgkKVABdVzqH8E2Q3uK6nHvlwnMGEF0w59v5+0avc53Cb7vu+Ax++mk04qCinkyI0XrikX6+16QT\n",
              "6YeWXow7TF571tEAAACnQZqTSeEOiZTAgj/+tSqADQdKpIJYGLp3ndMrWpTpRRGMJ9AD0Q6/nbfZ\n",
              "vEJRBUtXy4OPxOS0XX7DlzdRUbdCmsk2nPGegiGsnkse7wLcsW96+489uvsLNss1bZhS5z6VQn2/\n",
              "aRKKUg0395V1cijGjobUSGF65SE/KYmajlp0UMKKLXXrpMe52gOKpLEMoY9xDhxyWLhhJRWGDsbQ\n",
              "Y5pSne0ozlTQTeAAAACZQZq0SeEPJlMCCX/+tSqADURyUoll5TAA0dRVYRh+CuK53qKb8g5YfNM0\n",
              "Wdx1YVQf5aHHH8DN1zaOinOO+h77RzeuCaxygDL4CxU/AkQRT0GEd2fIkoUFFSKBDLyoBlelN3hf\n",
              "gYV2nwr26IJCRPWpRTPPtVtO5N68SFwabjx5KU6qSJrXNZxm8O7hNk5nG9I1lcozv7mZ1XF8AAAA\n",
              "0kGa10nhDyZTAgl//rUqgA1FDZQAIUNiO7DsBOkotEKOw7m/4dO1UCo9tzwuZSbKwWmSRAGVI4A1\n",
              "9HcXckKc4OctpmO8HvEAlgNsd8+EszcNNRfZvjI1J2J2zf3kmVKZDSHHqH4EaBoC1XwrsQRnQdB+\n",
              "zPgOHKFmmIXfflWhJjvwS+C3bUHvho9XlvSRuxxhV6gNDUVYQwKWqQ+0C0xGM60lIhG5jp3f2Yw/\n",
              "dd31QFdwTg/1fSiLfVbyd15/SqTXy9OdeADuiG8h6lol+tJsKL3SYQAAAFBBnvVFETw//wAkOJJp\n",
              "1bWxgJQAhxOwerWdpHaOOiNw2eIl581PIvLCg97GW5JRELF/6PgFrzm8SB467c0gjrY2r0nGSmMn\n",
              "lXUyxNR/pQ8pyAAAAEUBnxZqQ78AMz2ToFGbBeUoREACIIRajQtvwy0GPWAxlXctKuUCq3p2Ho2M\n",
              "+/VaTNsujc6GV8i/1xCrwVcjEWJmaJmnbusAAAB3QZsYSahBaJlMCCX//rUqgA1NRe0MABV51Dk3\n",
              "bJcH0xwgNRMEmE/tXW21+FhgBBY6fxnnU4hOUFxvlXK/f+NoV3+4ocsTXQ5pfRufcyJ2zuc1jX9r\n",
              "H50q0qrVY4JDc76TvxeZmASfYz9XS3N5FKYizM5H/Md7NJ0AAAEJQZs8SeEKUmUwIJf//rUqgA1N\n",
              "RD+agBwTcw449t5p/j1CTdvC6LxVof1d6SU7CZ4LNB2+hDY8vyr42SOSx7IRHYVb5/2vB5y6nzFr\n",
              "e45+Zyluz0RVNt0IKnobJOweKjzud/0mgfXj2E0TqoGV2DPnwDvKpIu4GLzly24Mm1Hxp/ehuNAb\n",
              "lTREfNiXSq2JMxkdMwodQii6MQD4BvXNBAmE6+66zqBoYqmLOOlrTmOg6G2yJrjt96pgoKp5t4cq\n",
              "JzqfbazefL3g0eg4eI8y8jg0im4vMBgPRPMQHn5l/+pmk/5LUvu8tzacx0Dz9ctHCXtAkVGYl2k7\n",
              "GW/21k6ridHZWYSiNVLllvL/gAAAAMZBn1pFNEw//wAkrQvO/+GedAAEOJ8yA3fI0ciEdKTZ5Kq1\n",
              "Bt226psFx4IEIAOY1Q4FerIfPuClKbReq8ZcKQnRLJD5PHHz0wLDuWz7SB+gI4JaGlDMxT12mMKO\n",
              "2PmTU/iQLyjVD4cmHqsF0P51DAj7FfsbkM56eyEErLkIc5UPhNqdCdv3JPmgQnMSFC4ruzU8kMN0\n",
              "HbsaJgyacszWZhqIpGcIIUY+COSfAr3qHInWG8rMgbq3Pouzn22gert+6THtnbxGm7cAAAA4AZ95\n",
              "dEO/ADPY6UURDiJz4AP6CzqhL2Ghyh5VvQuXPEMV9N4srjNn4EHprYmPxyRBhM/bmCxo1aQAAAB8\n",
              "AZ97akO/ADKbK47/wpIWABO3uzTW/9fAZyYLvF5LJaj7X+escmOd6lnymWkhlvIhD74uGWtlvIY9\n",
              "75wd/izv2yGm2GkJeRD0OWciwqAA0qO/oajSWipYXVrCQoyPHLdVMP50L5ShUpkakkNX8sLwGpD0\n",
              "zV98Fn/EzX1aJwAAAj5Bm2BJqEFomUwII//+tSqABGfrva0eWF8/OZ0s2+AQ+hec1jG74ptAcDv4\n",
              "ivZKlrVlamIKcEqYERLjNiPLTNBlnjkDNe5uKE8xr9cjY5NEwHjj90vUyAvVO87KUMXJEvpt6Jxh\n",
              "M7x3AFSnyyfqReBriEMU4V/5icntprNh1YxxrszSTs8wE/wgIotodv57+yhKuLbVIbT5CrurYhFC\n",
              "tIVdOne3v0qJj9bDio9ePmx2xZlRF7JnFAs+KH6GqeN7YYpNYVBFG6Dvg0tPlEW0ijG7xJ4n11pM\n",
              "bwfubPLk2Z+aKr4Hl8g3vKf5uyf/8QWxsAJM8j8MGrEcv+1vTdhT6aPzfg6gl63Q+PTrIi7UVGZH\n",
              "PTW9uhY88PaHLyjrYsEfr3UKUa1Eb4huXHNBU+w4+lqKbENGd7Aw23SwpFkV/5UzmuIbTKZhlMi9\n",
              "Fb4xpeZvovvwLRetrF4EDhqVhiQrpQZ2f3U1Jr6VSfCM51FhvI43wzjm3KijgRaBrU4ZGKUDSJOe\n",
              "TSakAQRfrjBsauCFot9CB5tUjpF/gyBArsDmUyHTYahcS7/i6O0RiP6oac68WadYs9yxYnnc57u5\n",
              "UDaOy6H69CDP807ldNXKrAzi/hRGgIq5aTH51ALEk9ySISe9tEPsMY2z4RVLPfZpV1zCJU7eAp2l\n",
              "3FyJBXsfOtvCvKsFRuxOU9yfwKxo6+yRqpInG6sDt9wu4m0QnKh82A9CCN+x02wuiHs5oIbXaNpf\n",
              "8bAmtgCYuxpIWRshnXfWkGHzAAABU0GfnkURLD//AAxvJNSVbe2YbZ4qOKcn/w2QAhwu4J7qkffx\n",
              "X4Xcd4wBlAnharnaXk7zy5MCvTBNmIODOtt3iAUT8C4Veo8vH/0MsQhrHJOKcZWy25xDexOODYhf\n",
              "BUFev6YtpPi598U50u+KFOHngl09uvFKl6ZQC9IbaBIe62j1ehs+XQ/QGlFY4hZsK/n484lgS3bq\n",
              "4VRBzugCAtCGjQlAPT694fvnWZpy51WXSvSHkHrl8tsy8fuNBROzvpUPAzWq/H2VQRYVGwAVRDRU\n",
              "3ffDyMzIJcNmal5GFRqzOTpMwqW127cpRiMf7UznALthL1JXLyJSaCXw9yZOK8ZKBgtTbvrqc05x\n",
              "j2of7PLmAmX7u5nMgDdkgDyrOt29qwutV46VUpzSNHR2EoVEApX+NLdt59/se8h6c5oXiEZfiVa3\n",
              "sBmzC7Ue0XFSz0cCvvJFfGwOWAAAAN8Bn710Q78AEQYvc2EABWvvH2slViyvz3114ok+fsIovACb\n",
              "074zM7P4gT3BzMp4n+DNFHWYjpuhBeK31phWcuzZ5OvP3tTehcqbhuUTX1odcu45MSGC7JtXUwsF\n",
              "5815zP/DTFOXToYEDJ4FAh23S6ZBdQNQtzoASif+b2fuiChyqukNNheHKe2pAbjCqmpte8nJPeJQ\n",
              "RB0nupPTJ0H8IA9fOkclhMb4ycg5Jq1oBn1SbD4MqTVElJRaHc7Eohcd3u21XWKb1V8WmDam6W3k\n",
              "oJb8wB0nLNTNg/5vR4+1VMaAAAABKgGfv2pDvwAFuMIFP+FVdIDAAJoNjits7YE5BJteej3F3WU2\n",
              "XbBlgE2If6nGA67TUMQlyCH1totMhAtJ8mOXCA3wPY18Bv61J2jvI6/QFTLk0nS56zAivyzxDApe\n",
              "vB8Jz/PMfPXCQiaParMND8rZp6Du4KtuIIYQs+Nfu5iy3ZJv4NqTgV13RJnXT/8zWGm5jeoajNlo\n",
              "Tb3RIJFuukOT4wzhBKfEZmIG7V8MWPglzbTEItVYUnnwBKKEIWB6Wjjc4zDZSOsd/9PlGE/MKs9i\n",
              "9Ot16GGFpADXPnShOeUks8b5sgsktn00bdfUvoD98o1S4q0gTZ9ej7RJ75VBpXTAkUuSMaHEpD8R\n",
              "Fz3m4pOGTO9ovqx5XTvhvsPntGOoH7dLZ5ESY+bq4bL7he0AAAHpQZuhSahBbJlMCCP//rUqgAD5\n",
              "mZh5qy5wj5+Pjlv4KTYADar0yZ1omraF3NZjtLo+OAOnM5Rymz0jdqAMuda7IW7SzZjcz5/MP2Q4\n",
              "697iEllXoLFzgnvPtmjQ+IjlwfdmYm+bVnP+keWO/nYdO02BRIeoJkYeUSGOkh7ZABl/X3piqek1\n",
              "7XfOL/dQmu9oyBIvmC320EYiDKnjHErSf6v/5lga9zBtfdm6BLnsRVNMMr8BN+cx5SeTxcvlZLC/\n",
              "rstJBrYHDy6XK/RqgZ8ptOAUXLMOCrgAds2ykDk+9CgPjeA5aBgZR5j6DouMzHjZ2IBqKq2vldLu\n",
              "poSCnMg8YV12DIyEc4vc6ncwE6MSV+5rL84Kwl5rzIUdM8L9gUlECrHvFPnMXWRF3dXBKl5nX7Rx\n",
              "Ft+V4VDXJ6IpMhRRTDlxoZuivSYSzXJaHScn9RqHB2RBZYDjWibe4BeWlvWQD9geWp5CcI5V8AyV\n",
              "obxF9QzbdfhGgv/yc96nnlIv5whG9mp1sXuws03HCAYoR5OU8B1ywZFwes3HHHwRMFUSQwaGVbxs\n",
              "vxbPMzcRkM0bMIlQg3bWYHGF7xp/9Gx0+GDdGxQgUyYHyc51HTiHD+AV8Z6HVACkVKN3YBonmLbE\n",
              "RiUFfwBNM4JPx318jyDAAAADLEGbw0nhClJlMFFSwR/+tSqAAs30KoHydupcMcPJybetwkBYc4YA\n",
              "LK4hSGro/comCw6+gr91Tnlz66I3YH+Y2n63jWes47vFHb+uEEOZAh+7NQ4IIePxeBiKMM0jGla2\n",
              "Imw2M+HQCJ9NPZOM9LhnVp+kB39bYTYxpx7vEZYGHnnit5y62pDuYmBpnh2dgb79sQCEGkGOASvJ\n",
              "EKBccDKdHw8GrhOn/0SnL/j3OlqzXpUM7+yYbbYM1R0QZ3+Z+mL5vvc0GEuUGxvnmooSxxFQGL8C\n",
              "d8/uf8kB/ADIrm89wQGxmszMjvDemIWPAvRoM2WIQPQaZaowUBE4UsLvZBCNiCBXJF/7QT3kgPaR\n",
              "WQgnrczrUK6yM7Xy+DCc21x5DiWr2no5pEMz/G26Fw99LNugJHaJj2p6DDddH3AYZnpyHSJiVK0s\n",
              "91UuMvU+ssnUaK8oWXFz2UDBtCYKItQ1vIjcymLgEThWp6x7BbhuzhXs5AvnxsscrEswkZzSKUh9\n",
              "VuXmLsN+u43gNu2IFzFaiZKGsWqunbPaLCjb3DihUiceQUpr2bRTft9IRu1a4QQloAsv0Y9U6C98\n",
              "9myfi7jUrEGv5FP3/0wN0M69nCaI0EyYgl1MRpSX+UvOMTapHYCXLUcWEbMGlCbfElX7+hT1h5/O\n",
              "Ma2O5BcBWAEZ8n9Ux1tr9TjB+W6Y7OtgEfdeECyM2SEvM0i0iQU3cHimvhO9GE3CPT7B4rvXKiWH\n",
              "FKjnb1yjkZ6bwSJoyDJw+sH01tL9VQmal81+S7jpIWa2oY7pHTFca02RKCWx8iU9wPXk8URlzAzw\n",
              "PdQsN+lxvBup5wwtiB+47/a5uUKhwilYJkV+hkDw6KY6SMxQD2lX7oF40/C53o7dHB6R6lDNvCGL\n",
              "HnE87hgnKXY9lCBITJSXf7CsONoJjyANjD56obevWoTFcD1zXKK1TfGtLenpDaUznrFK13iF45Vm\n",
              "j/ZlfZgK8Hav9QeMbg4alLBpM7B8VtvU/9Uf6mRYSLFAC3SGGLC+eHVOKdm040y0XkCBOkV5sle7\n",
              "/B8xR3pK/rwMNuzC+0pGzYxMZI0oov/CA+lX6RiQbumBAAABoQGf4mpDvwARWACxGvUAv8927Kzn\n",
              "lii7M8yaje3RsP4IgAfwg0vfeIPp/kY685vSAOKrvfdbakV0WwpmS4NMAJCiVWgWd75CrvrroJ4p\n",
              "BcH4/jmj1/KTEjMNt1dn9fGWGmMOAdPn7SqizJQ9lJdrb1IRKnAus6kcEqmjcP97ixevvWyfPPrW\n",
              "EuwK89dyLC6yQkSk3NfDuvpYpwuiwR0zwYwhWicy6dUNuwxzILKJKJfg9ln6FHaaDRAo56GzrEhF\n",
              "o7gjp+DGd7m3MlH24KE205/cihAm4QOxfi2vrTQN162eud9EoIJ/DRsL7o5YgO0VVOc824d2G7Zi\n",
              "f75vlctm9yDWBNViRilmWoXx2n6nacMmyPNHtgrWIQioO/BAP1b//XRh8dGxCjohVfUBUIvJyrTt\n",
              "our6t4IggWfNNPBygUJPeObGz7vgT/qn3F+96gWsW1Zk6eeE7Axeai5N2cEdbiSIeklLLAQ/LO6Y\n",
              "v3f1/2Ca35yJHPyryzQx3UMl1RkhpwVfiJVNRkBTlA2RUnYiVVbcG8vfswHVJgUuC712zue9/QAA\n",
              "Am9Bm+dJ4Q6JlMCHf/6plgAV34AxnSKrvxjcjUaULfQ32JBnd2lTkbpH13glWi+pz6K/Bu9Yug8M\n",
              "A7TyJ5T2Aq2z+3WiRW7U0hjm+xMPQQZTF+D4hT8hbNefbwcnhMsWLuaawc0D2OaK3yVJ+eQVi8Mj\n",
              "qB7sq2azpds5TjDbjNYF2Dv9rDvVCYTxpBVY1ZPhCHgTXExtSUKnLmYw0mfqLT47/Xfv7oyYiJHK\n",
              "EsHTHp+B3qybS6mruSJfoTeoNKbrnRmQuZuyimwOuZdRTk+dI+fPfeWRthj8/08Lj8JifTn7N86L\n",
              "AKUgCb+vVULYeHOlllnHb/HNyt2aoMQbY7s6MxReDacHdBXXVfwisOsyLbyalxlRjQrYeQTUrEHC\n",
              "2lWIPSoTw22cEormSXCVXT4LjytY/V2/BHAvHcioRzacWnlMsp337J7+wYIOfyVghg3JlABjqQhW\n",
              "hZkKpzEWcr3sxCiDUYXYR1C4Gu6qD/U9z1QA7Z0KBgNzqSBWGkqXae/mT5G1qwSsszEj0dUY6DEO\n",
              "nsNrMhFXhpvIemh23l0ks7t+/AmtykiDdEPiISsW0pvafulY3CTKPJO0qMSmaLKoPcO2RGjIy1E3\n",
              "dGYG7oEA4RYLy0RghZ9VRPxLLvY3LjYKFT+JbWTuE912936yw6OvwP4UNbb0i46IeIIqycPNiVbJ\n",
              "KRcuUVHvIwEf4n6+OE1+TgAMeow+iIczMJC/8iIVpndFiMcz4nJorbxoge6pnh76HYKL+2cRZ9vq\n",
              "0crHFTqvAZAyR7DCv3Zav+YbquAa2/P8+7boAAJ1yPV290Lb8JDA4mc1wAEZfXHicc2JFEy7gQAA\n",
              "AkpBngVFFTw//wAMbyUAKHtO29Fmb0kWYF0UGA1qwBT9qTBpJRYRzVeP9sTeD/qdEioGDx9xkhVS\n",
              "RBjqdDN1uB10UGh1Qlb8JlgJh5LidNOtbMGLKYW7Amp7LWVk7DfDoDh3M07CIKauAKKBRKuTX3fu\n",
              "amNsxaDwY353F/30NPIeYUdyK4zcfXAFyrYp5dim+F6b8W/NPuWot67e3SZ9CvOVtWv0Eg50/Xj3\n",
              "QbysNrDWQDaE7EWLq19ZPOAUyN6CccwPYgLusg9v/ys5xb3oWiYMnqvl8ANDhdsfouitX/RzjH4W\n",
              "NEvIutkY6LIUBdWXbMV+lQ3ksoWu6cZw46uruGrjI7gYX3jxJHB563RtSOV0+0Yb1U2S+r70waV3\n",
              "xqZJ7Qd95ap7/JTe6KN8A/PyOg2uUqrSYPEJXzYPsg55Apdncc9Ej5Y0D0Ec46Ldu3eSPdwHltmi\n",
              "R15wU/3w3MWs9fDQY3KFcC3pXcDxRHmdJVatLgBjl3HTQJrXgZNw4tP2ZOe6zsvCXJnAKZqBV2OL\n",
              "RZuDm95XOcf7kZsU3yHVihlIk6WNGjVBHcmDUt71hWtLo0du7VA8ffl+FnNpnQnT5uVRmr7yP6tk\n",
              "bhKsh2ST9mt5GQQkYf3ufemt8eysr2H8hMXcvx3fS10T1xJahV61CgS3gMVjYILW5C4jSxGwB7Vy\n",
              "HJqBKUamIhblK5We1gmgEw1wvuaXHhUT3r0RTyfwa5BA1Ndha4nRUSmEoT53yh33vTQjEtgDEvPJ\n",
              "cJt5/4nvKDMWQivSZvGUTPaRAAACEQGeJHRDvwADj3VH+K4rnkM+1fRZQ3J/CTMLQAlq6AnuXNya\n",
              "Ei5BB4Dgfup+H7Rh889wig77kulrEhxh7op/swLXpnDmdyfz5zxw4WGg+RosQuH5kmMg/rqxcV5W\n",
              "VBT9BJm7fQ8mkCZOG1NBUmADRUh4RZVnaFVIg2CHozuupN53ERAWyzzYhar/BG7w04mvaOAO5lgZ\n",
              "2PwPcwt7MNImfejoulNGn57cuNuBdIwNcMWo98Egkpc+ADnFGO5INFiu+WTHyiyzjUj1t1QphjuC\n",
              "iq6xvTPFc6/HdvPbhDLQQo5ivOSRsGHw+tTRMsKgdau0mTd101K8wudMLpeueGa7VSAzIgrN4uRN\n",
              "yJS0ETIS+NVFgQfGie6a/y0Yyg9fVjEiww0oSMWHx5XBi9bfrfY1rD8qH8z2Q4/JBvXrM41NjNoh\n",
              "tKCdKOn9uqvxXCIb9a0ob0OMSkK60sYZnq2oGwIw8jJEz7zzfDEe7oE7soHPTP7TMPqeSotUKekJ\n",
              "wmWOhqMAXVngNz2JNRYHgW+Fy0xWbIAhgOo2SsNOT4/nuj5WGYor27t21EQm0flDQR115p7wBqyI\n",
              "CFt7Wb+kYmmqL7kvtbUYqT+Q0ojRLTJutradFAXA/G48u8Nqbc7zDsAjnPYyC0NdXOy0Ophvkjfd\n",
              "3VZwJBuQvhUonu4yYQbfL8ut4vSkgatDu0OYhcf3PlvW5wqgJOEAAAGvAZ4makO/AACyqwA2X+HC\n",
              "rpAQ03VpKpxFKWqLRqxsC64HZtOsKVIfSPhBN4cM3fSEaKAHVFWVgNu/yzSUiW2bJXEQNJHrGinq\n",
              "l4+u8NwXo0oxOMIXplR3b/Z/wFeaX/tJYcS2kriz7m1JrM7Vq0K0wMnmgiXwxp1MlFCnNEhrZK46\n",
              "5qT7j5sHXk2qQxPoshmJgsxyEn98irjwMMJbuMoNRPFOJz3liFjgFEkf1cfN2VVvgwYcTYRSZDA1\n",
              "fekVG0oULeO+CxOd0tx4De8ZlD/khVfoNLh1Ao+54XuKUIyJeBOkTPJNAgWP20SxEB7crfS6QkWZ\n",
              "tNMDrnQ9hD8Kj2v9I6v3sgwCYCdauHd1xEmZeCAI5lDjzp/8+OgGeZLr3694aAIIQt14j2zuMCOZ\n",
              "e1W0sWSnfm6I/2N3S6tD2gdxoPAGZAw2JfljUAWjBJqJZxDfzcCzzX/ZqlZyymHGf36BSa9vZ6nZ\n",
              "m6rZmHbMJIwHRM5eo5nqKqpr4FtgTwdZECaWNMf5DOFqLd4JtTYTvNs0gLkmAzEhsltqYl2+26ma\n",
              "RYjz/IF6ub146RkERzsG28EAAAwnbW9vdgAAAGxtdmhkAAAAAAAAAAAAAAAAAAAD6AAAdTAAAQAA\n",
              "AQAAAAAAAAAAAAAAAAEAAAAAAAAAAAAAAAAAAAABAAAAAAAAAAAAAAAAAABAAAAAAAAAAAAAAAAA\n",
              "AAAAAAAAAAAAAAAAAAAAAAAAAgAAC1F0cmFrAAAAXHRraGQAAAADAAAAAAAAAAAAAAABAAAAAAAA\n",
              "dTAAAAAAAAAAAAAAAAAAAAAAAAEAAAAAAAAAAAAAAAAAAAABAAAAAAAAAAAAAAAAAABAAAAAAogA\n",
              "AAEgAAAAAAAkZWR0cwAAABxlbHN0AAAAAAAAAAEAAHUwAAAMAAABAAAAAArJbWRpYQAAACBtZGhk\n",
              "AAAAAAAAAAAAAAAAAAAoAAAEsABVxAAAAAAALWhkbHIAAAAAAAAAAHZpZGUAAAAAAAAAAAAAAABW\n",
              "aWRlb0hhbmRsZXIAAAAKdG1pbmYAAAAUdm1oZAAAAAEAAAAAAAAAAAAAACRkaW5mAAAAHGRyZWYA\n",
              "AAAAAAAAAQAAAAx1cmwgAAAAAQAACjRzdGJsAAAAtHN0c2QAAAAAAAAAAQAAAKRhdmMxAAAAAAAA\n",
              "AAEAAAAAAAAAAAAAAAAAAAAAAogBIABIAAAASAAAAAAAAAABAAAAAAAAAAAAAAAAAAAAAAAAAAAA\n",
              "AAAAAAAAAAAAAAAAGP//AAAAMmF2Y0MBZAAV/+EAGWdkABWs2UCkJeXhAAADAAMAAAMAKA8WLZYB\n",
              "AAZo6+PLIsAAAAAcdXVpZGtoQPJfJE/FujmlG88DI/MAAAAAAAAAGHN0dHMAAAAAAAAAAQAAAMgA\n",
              "AAYAAAAAFHN0c3MAAAAAAAAAAQAAAAEAAAXoY3R0cwAAAAAAAAC7AAAAAQAADAAAAAABAAAeAAAA\n",
              "AAEAAAwAAAAAAQAAAAAAAAABAAAGAAAAAAEAAB4AAAAAAQAADAAAAAABAAAAAAAAAAEAAAYAAAAA\n",
              "AgAADAAAAAABAAAYAAAAAAIAAAYAAAAAAQAADAAAAAABAAASAAAAAAEAAAYAAAAAAQAAHgAAAAAB\n",
              "AAAMAAAAAAEAAAAAAAAAAQAABgAAAAABAAAeAAAAAAEAAAwAAAAAAQAAAAAAAAABAAAGAAAAAAEA\n",
              "AB4AAAAAAQAADAAAAAABAAAAAAAAAAEAAAYAAAAAAQAAEgAAAAABAAAGAAAAAAEAABIAAAAAAQAA\n",
              "BgAAAAABAAAYAAAAAAIAAAYAAAAAAQAAEgAAAAABAAAGAAAAAAEAAB4AAAAAAQAADAAAAAABAAAA\n",
              "AAAAAAEAAAYAAAAAAQAAHgAAAAABAAAMAAAAAAEAAAAAAAAAAQAABgAAAAABAAAYAAAAAAIAAAYA\n",
              "AAAAAQAAHgAAAAABAAAMAAAAAAEAAAAAAAAAAQAABgAAAAABAAAeAAAAAAEAAAwAAAAAAQAAAAAA\n",
              "AAABAAAGAAAAAAEAAB4AAAAAAQAADAAAAAABAAAAAAAAAAEAAAYAAAAAAQAAGAAAAAACAAAGAAAA\n",
              "AAEAABIAAAAAAQAABgAAAAABAAASAAAAAAEAAAYAAAAAAQAAEgAAAAABAAAGAAAAAAEAAB4AAAAA\n",
              "AQAADAAAAAABAAAAAAAAAAEAAAYAAAAAAQAAHgAAAAABAAAMAAAAAAEAAAAAAAAAAQAABgAAAAAB\n",
              "AAAeAAAAAAEAAAwAAAAAAQAAAAAAAAABAAAGAAAAAAEAAB4AAAAAAQAADAAAAAABAAAAAAAAAAEA\n",
              "AAYAAAAAAQAADAAAAAABAAASAAAAAAEAAAYAAAAAAQAAEgAAAAABAAAGAAAAAAEAAB4AAAAAAQAA\n",
              "DAAAAAABAAAAAAAAAAEAAAYAAAAAAQAAHgAAAAABAAAMAAAAAAEAAAAAAAAAAQAABgAAAAABAAAY\n",
              "AAAAAAIAAAYAAAAAAgAADAAAAAABAAAeAAAAAAEAAAwAAAAAAQAAAAAAAAABAAAGAAAAAAEAAB4A\n",
              "AAAAAQAADAAAAAABAAAAAAAAAAEAAAYAAAAAAQAAHgAAAAABAAAMAAAAAAEAAAAAAAAAAQAABgAA\n",
              "AAABAAASAAAAAAEAAAYAAAAAAQAADAAAAAABAAAeAAAAAAEAAAwAAAAAAQAAAAAAAAABAAAGAAAA\n",
              "AAEAABgAAAAAAgAABgAAAAABAAAMAAAAAAEAAB4AAAAAAQAADAAAAAABAAAAAAAAAAEAAAYAAAAA\n",
              "AQAAHgAAAAABAAAMAAAAAAEAAAAAAAAAAQAABgAAAAABAAAeAAAAAAEAAAwAAAAAAQAAAAAAAAAB\n",
              "AAAGAAAAAAEAABIAAAAAAQAABgAAAAABAAASAAAAAAEAAAYAAAAAAQAAHgAAAAABAAAMAAAAAAEA\n",
              "AAAAAAAAAQAABgAAAAABAAAeAAAAAAEAAAwAAAAAAQAAAAAAAAABAAAGAAAAAAEAABgAAAAAAgAA\n",
              "BgAAAAABAAAMAAAAAAEAAB4AAAAAAQAADAAAAAABAAAAAAAAAAEAAAYAAAAAAQAADAAAAAABAAAe\n",
              "AAAAAAEAAAwAAAAAAQAAAAAAAAABAAAGAAAAAAEAAB4AAAAAAQAADAAAAAABAAAAAAAAAAEAAAYA\n",
              "AAAAAwAADAAAAAABAAAeAAAAAAEAAAwAAAAAAQAAAAAAAAABAAAGAAAAAAEAABIAAAAAAQAABgAA\n",
              "AAABAAASAAAAAAEAAAYAAAAAAgAADAAAAAABAAAYAAAAAAIAAAYAAAAAAQAADAAAAAABAAAeAAAA\n",
              "AAEAAAwAAAAAAQAAAAAAAAABAAAGAAAAAAEAAB4AAAAAAQAADAAAAAABAAAAAAAAAAEAAAYAAAAA\n",
              "AQAADAAAAAABAAASAAAAAAEAAAYAAAAAAQAAHgAAAAABAAAMAAAAAAEAAAAAAAAAAQAABgAAAAAc\n",
              "c3RzYwAAAAAAAAABAAAAAQAAAMgAAAABAAADNHN0c3oAAAAAAAAAAAAAAMgAABDRAAAELgAAAicA\n",
              "AAGuAAABgwAAAwgAAAKZAAABhwAAAgEAAAI/AAACKQAAAhYAAAGaAAABhgAAAhYAAAIhAAABSgAA\n",
              "AfUAAAHPAAAB+QAAAU8AAAGTAAABWgAAAN4AAAEpAAAB5wAAAWUAAAEaAAABTAAAAZwAAAFRAAAB\n",
              "7AAAASMAAAIdAAABXwAAAYMAAAIcAAABIwAAATUAAAHAAAABVwAAAV4AAAFNAAAA3gAAAIQAAACZ\n",
              "AAABowAAAXAAAAEnAAACcwAAAXsAAADTAAABcQAAAqYAAAHpAAABsAAAAWYAAAKjAAACDwAAAWIA\n",
              "AAFkAAACRAAAAjUAAAGTAAACAAAAAZgAAAJbAAABTwAAAkwAAAFbAAABxwAAATUAAADKAAAAjgAA\n",
              "ARgAAAEFAAAATAAAAGYAAAEiAAABOAAAAGoAAADOAAABsAAAAUAAAAEZAAABTgAAAWgAAAIdAAAB\n",
              "hwAAAkMAAAIFAAAA/AAAATsAAAGgAAAAvAAAAgMAAADYAAAAugAAAOAAAAEvAAAAzAAAAHgAAAB5\n",
              "AAAAqAAAAdgAAAE/AAAAZQAAAJoAAAJoAAACDwAAAOkAAAGJAAACuwAAAnUAAAGiAAAB8gAAAkoA\n",
              "AAHgAAACRwAAAiUAAAF5AAABdwAAAMkAAAGUAAAA1QAAAHYAAADEAAABJAAAAJMAAAAoAAAAOwAA\n",
              "AREAAAB6AAAAUQAAADYAAAI6AAAA3QAAAIAAAADGAAACqQAAAZAAAALWAAACqwAAAfsAAAJuAAAC\n",
              "XQAAAUUAAAF6AAABBwAAANAAAAClAAABNwAAAEQAAAAzAAAAhwAAAFEAAABRAAAAPgAAADoAAABx\n",
              "AAABpAAAANIAAABMAAAAngAAAygAAAHeAAAA3gAAAX0AAAMJAAACaQAAAr0AAAJYAAACEgAAAg4A\n",
              "AAC0AAABTQAAAEYAAAEqAAAATwAAAKsAAACdAAAA1gAAAFQAAABJAAAAewAAAQ0AAADKAAAAPAAA\n",
              "AIAAAAJCAAABVwAAAOMAAAEuAAAB7QAAAzAAAAGlAAACcwAAAk4AAAIVAAABswAAABRzdGNvAAAA\n",
              "AAAAAAEAAAAsAAAAYnVkdGEAAABabWV0YQAAAAAAAAAhaGRscgAAAAAAAAAAbWRpcmFwcGwAAAAA\n",
              "AAAAAAAAAAAtaWxzdAAAACWpdG9vAAAAHWRhdGEAAAABAAAAAExhdmY1Ny44My4xMDA=\n",
              "\">\n",
              "  Your browser does not support the video tag.\n",
              "</video>"
            ]
          },
          "metadata": {},
          "execution_count": 86
        },
        {
          "output_type": "display_data",
          "data": {
            "text/plain": [
              "<Figure size 648x288 with 2 Axes>"
            ],
            "image/png": "[encoded data removed]"
          },
          "metadata": {
            "needs_background": "light"
          }
        }
      ]
    },
    {
      "cell_type": "code",
      "source": [],
      "metadata": {
        "id": "gqcBTSegu-kQ"
      },
      "execution_count": 69,
      "outputs": []
    }
  ]
}