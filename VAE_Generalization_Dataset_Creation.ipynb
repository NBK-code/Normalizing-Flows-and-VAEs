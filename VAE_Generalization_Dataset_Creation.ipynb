{
  "nbformat": 4,
  "nbformat_minor": 0,
  "metadata": {
    "colab": {
      "provenance": [],
      "authorship_tag": "ABX9TyPUQU18628dF+DY15q3JBpT",
      "include_colab_link": true
    },
    "kernelspec": {
      "name": "python3",
      "display_name": "Python 3"
    },
    "language_info": {
      "name": "python"
    },
    "gpuClass": "standard"
  },
  "cells": [
    {
      "cell_type": "markdown",
      "metadata": {
        "id": "view-in-github",
        "colab_type": "text"
      },
      "source": [
        "<a href=\"https://colab.research.google.com/github/NBK-code/Normalizing-Flows-and-VAEs/blob/main/VAE_Generalization_Dataset_Creation.ipynb\" target=\"_parent\"><img src=\"https://colab.research.google.com/assets/colab-badge.svg\" alt=\"Open In Colab\"/></a>"
      ]
    },
    {
      "cell_type": "markdown",
      "source": [
        "## Get Necessary Libraries"
      ],
      "metadata": {
        "id": "QL-PKjMrHPJ5"
      }
    },
    {
      "cell_type": "code",
      "source": [
        "import numpy as np\n",
        "import matplotlib\n",
        "import matplotlib.pyplot as plt"
      ],
      "metadata": {
        "id": "WrtEYQaoqvMc"
      },
      "execution_count": 1,
      "outputs": []
    },
    {
      "cell_type": "code",
      "source": [
        "from google.colab import drive\n",
        "drive.mount('/content/gdrive')"
      ],
      "metadata": {
        "colab": {
          "base_uri": "https://localhost:8080/"
        },
        "id": "XeMQOwQG_Yc3",
        "outputId": "7da6e4f7-f3f2-42e1-f7c4-d61370f1457d"
      },
      "execution_count": 2,
      "outputs": [
        {
          "output_type": "stream",
          "name": "stdout",
          "text": [
            "Mounted at /content/gdrive\n"
          ]
        }
      ]
    },
    {
      "cell_type": "markdown",
      "source": [
        "##Create Multiple Red Dots"
      ],
      "metadata": {
        "id": "DE7DyJwwCuoH"
      }
    },
    {
      "cell_type": "code",
      "source": [
        "x = np.random.randint(low = 5, high = 95, size=2)\n",
        "y = np.random.randint(low = 5, high = 95, size=2)\n",
        "fig = plt.figure(figsize=(1, 1))\n",
        "ax = plt.subplot(111)\n",
        "ax.scatter(x, y, s = 50, color = 'red')\n",
        "plt.xlim((0,100))\n",
        "plt.ylim((0,100))\n",
        "plt.axis('off')"
      ],
      "metadata": {
        "colab": {
          "base_uri": "https://localhost:8080/",
          "height": 102
        },
        "id": "EaxPhMzWCgSb",
        "outputId": "a5cbb21e-0888-46f9-f45a-dd1f9051df4a"
      },
      "execution_count": null,
      "outputs": [
        {
          "output_type": "execute_result",
          "data": {
            "text/plain": [
              "(0.0, 100.0, 0.0, 100.0)"
            ]
          },
          "metadata": {},
          "execution_count": 3
        },
        {
          "output_type": "display_data",
          "data": {
            "text/plain": [
              "<Figure size 72x72 with 1 Axes>"
            ],
            "image/png": "[encoded data removed]"
          },
          "metadata": {
            "needs_background": "light"
          }
        }
      ]
    },
    {
      "cell_type": "code",
      "execution_count": null,
      "metadata": {
        "id": "IncKhm1DqUWf"
      },
      "outputs": [],
      "source": [
        "def create_image_dataset(no_of_points, no_of_images, color):\n",
        "\n",
        "  for i in range(no_of_images):\n",
        "    x = np.random.randint(low = 5, high = 95, size=no_of_points)\n",
        "    y = np.random.randint(low = 5, high = 95, size=no_of_points)\n",
        "    fig = plt.figure(figsize=(1, 1))\n",
        "    ax = plt.subplot(111)\n",
        "    ax.scatter(x, y, s = 50, color = color)\n",
        "    plt.xlim((0,100))\n",
        "    plt.ylim((0,100))\n",
        "    plt.axis('off')\n",
        "    fig.savefig('gdrive/MyDrive/Colab_Notebooks/Projects/Inductive_Bias/Dataset/'+str(no_of_points)+'_images/plot'+str(i)+'.png', bbox_inches='tight')\n",
        "    plt.clf()"
      ]
    },
    {
      "cell_type": "markdown",
      "source": [
        "##Create Red Dots"
      ],
      "metadata": {
        "id": "nlV2oZPdCaOc"
      }
    },
    {
      "cell_type": "code",
      "source": [
        "x = np.random.randint(low = 5, high = 95, size=1)\n",
        "y = np.random.randint(low = 5, high = 95, size=1)\n",
        "fig = plt.figure(figsize=(1, 1))\n",
        "ax = plt.subplot(111)\n",
        "ax.scatter(x, y, s = 100, color = 'red')\n",
        "plt.xlim((0,100))\n",
        "plt.ylim((0,100))\n",
        "plt.axis('off')"
      ],
      "metadata": {
        "colab": {
          "base_uri": "https://localhost:8080/",
          "height": 102
        },
        "id": "fxjrvlbf6WKi",
        "outputId": "af4d21e4-6f9d-4411-ea3c-3cc6a4df79c5"
      },
      "execution_count": null,
      "outputs": [
        {
          "output_type": "execute_result",
          "data": {
            "text/plain": [
              "(0.0, 100.0, 0.0, 100.0)"
            ]
          },
          "metadata": {},
          "execution_count": 5
        },
        {
          "output_type": "display_data",
          "data": {
            "text/plain": [
              "<Figure size 72x72 with 1 Axes>"
            ],
            "image/png": "[encoded data removed]"
          },
          "metadata": {
            "needs_background": "light"
          }
        }
      ]
    },
    {
      "cell_type": "code",
      "source": [
        "def create_red_dots(no_of_points, no_of_images):\n",
        "\n",
        "  for i in range(no_of_images):\n",
        "    x = np.random.randint(low = 5, high = 95, size=no_of_points)\n",
        "    y = np.random.randint(low = 5, high = 95, size=no_of_points)\n",
        "    fig = plt.figure(figsize=(1, 1))\n",
        "    ax = plt.subplot(111)\n",
        "    ax.scatter(x, y, s = 100, color = 'red')\n",
        "    plt.xlim((0,100))\n",
        "    plt.ylim((0,100))\n",
        "    plt.axis('off')\n",
        "    fig.savefig('gdrive/MyDrive/Colab_Notebooks/Projects/Inductive_Bias/Dataset/red_dots/plot'+str(i)+'.png', bbox_inches='tight')\n",
        "    plt.clf()"
      ],
      "metadata": {
        "id": "sweMVsslBqd3"
      },
      "execution_count": null,
      "outputs": []
    },
    {
      "cell_type": "markdown",
      "source": [
        "##Create Blue Triangles"
      ],
      "metadata": {
        "id": "9Z0g2CuICxvF"
      }
    },
    {
      "cell_type": "code",
      "source": [
        "x = np.random.randint(low = 20, high = 80, size=1)\n",
        "y = np.random.randint(low = 20, high = 80, size=1)\n",
        "fig = plt.figure(figsize=(1, 1))\n",
        "ax = plt.subplot(111)\n",
        "ax.scatter(x, y, s = 150, color = 'blue', marker = 'v')\n",
        "plt.xlim((0,100))\n",
        "plt.ylim((0,100))\n",
        "plt.axis('off')"
      ],
      "metadata": {
        "colab": {
          "base_uri": "https://localhost:8080/",
          "height": 102
        },
        "id": "ULrXHXzI7JyR",
        "outputId": "803c04ca-3063-4f5e-8cce-10e22c181f46"
      },
      "execution_count": null,
      "outputs": [
        {
          "output_type": "execute_result",
          "data": {
            "text/plain": [
              "(0.0, 100.0, 0.0, 100.0)"
            ]
          },
          "metadata": {},
          "execution_count": 7
        },
        {
          "output_type": "display_data",
          "data": {
            "text/plain": [
              "<Figure size 72x72 with 1 Axes>"
            ],
            "image/png": "[encoded data removed]"
          },
          "metadata": {
            "needs_background": "light"
          }
        }
      ]
    },
    {
      "cell_type": "code",
      "source": [
        "def create_blue_triangles(no_of_points, no_of_images):\n",
        "\n",
        "  for i in range(no_of_images):\n",
        "    x = np.random.randint(low = 20, high = 80, size=no_of_points)\n",
        "    y = np.random.randint(low = 20, high = 80, size=no_of_points)\n",
        "    fig = plt.figure(figsize=(1, 1))\n",
        "    ax = plt.subplot(111)\n",
        "    ax.scatter(x, y, s = 150, color = 'blue', marker = 'v')\n",
        "    plt.xlim((0,100))\n",
        "    plt.ylim((0,100))\n",
        "    plt.axis('off')\n",
        "    fig.savefig('gdrive/MyDrive/Colab_Notebooks/Projects/Inductive_Bias/Dataset/blue_triangles/plot'+str(i)+'.png', bbox_inches='tight')\n",
        "    plt.clf()"
      ],
      "metadata": {
        "id": "vHEoDddSDbhq"
      },
      "execution_count": null,
      "outputs": []
    },
    {
      "cell_type": "markdown",
      "source": [
        "##Create Blue Dots"
      ],
      "metadata": {
        "id": "RGJf4l40C3Bc"
      }
    },
    {
      "cell_type": "code",
      "source": [
        "x = np.random.randint(low = 20, high = 80, size=1)\n",
        "y = np.random.randint(low = 20, high = 80, size=1)\n",
        "fig = plt.figure(figsize=(1, 1))\n",
        "ax = plt.subplot(111)\n",
        "ax.scatter(x, y, s = 100, color = 'blue')\n",
        "plt.xlim((0,100))\n",
        "plt.ylim((0,100))\n",
        "plt.axis('off')"
      ],
      "metadata": {
        "colab": {
          "base_uri": "https://localhost:8080/",
          "height": 102
        },
        "id": "vJAMECLB8to-",
        "outputId": "6e8850a4-7688-4446-8fe2-ba21dacb55be"
      },
      "execution_count": null,
      "outputs": [
        {
          "output_type": "execute_result",
          "data": {
            "text/plain": [
              "(0.0, 100.0, 0.0, 100.0)"
            ]
          },
          "metadata": {},
          "execution_count": 9
        },
        {
          "output_type": "display_data",
          "data": {
            "text/plain": [
              "<Figure size 72x72 with 1 Axes>"
            ],
            "image/png": "[encoded data removed]"
          },
          "metadata": {
            "needs_background": "light"
          }
        }
      ]
    },
    {
      "cell_type": "code",
      "source": [
        "def create_blue_dots(no_of_points, no_of_images):\n",
        "\n",
        "  for i in range(no_of_images):\n",
        "    x = np.random.randint(low = 20, high = 80, size=no_of_points)\n",
        "    y = np.random.randint(low = 20, high = 80, size=no_of_points)\n",
        "    fig = plt.figure(figsize=(1, 1))\n",
        "    ax = plt.subplot(111)\n",
        "    ax.scatter(x, y, s = 100, color = 'blue')\n",
        "    plt.xlim((0,100))\n",
        "    plt.ylim((0,100))\n",
        "    plt.axis('off')\n",
        "    fig.savefig('gdrive/MyDrive/Colab_Notebooks/Projects/Inductive_Bias/Dataset/blue_dots/plot'+str(i)+'.png', bbox_inches='tight')\n",
        "    plt.clf()"
      ],
      "metadata": {
        "id": "Uyuf2zlLDzBc"
      },
      "execution_count": null,
      "outputs": []
    },
    {
      "cell_type": "markdown",
      "source": [
        "##Create Blue Rectangles"
      ],
      "metadata": {
        "id": "qV-mWAsD2-IS"
      }
    },
    {
      "cell_type": "code",
      "source": [
        "x = np.random.randint(low = 10, high = 55, size=1)\n",
        "y = np.random.randint(low = 10, high = 85, size=1)\n",
        "fig = plt.figure(figsize=(1, 1))\n",
        "ax = plt.subplot(111)\n",
        "rect = matplotlib.patches.Rectangle((x, y), 40, 12, color ='blue')\n",
        "ax.add_patch(rect)\n",
        "plt.xlim((0,100))\n",
        "plt.ylim((0,100))\n",
        "plt.axis('off')"
      ],
      "metadata": {
        "colab": {
          "base_uri": "https://localhost:8080/",
          "height": 102
        },
        "id": "3SQ_cxY-zv8Y",
        "outputId": "7ebc53d7-5fb7-48fd-8c21-c4409e19f49b"
      },
      "execution_count": 15,
      "outputs": [
        {
          "output_type": "execute_result",
          "data": {
            "text/plain": [
              "(0.0, 100.0, 0.0, 100.0)"
            ]
          },
          "metadata": {},
          "execution_count": 15
        },
        {
          "output_type": "display_data",
          "data": {
            "text/plain": [
              "<Figure size 72x72 with 1 Axes>"
            ],
            "image/png": "[encoded data removed]"
          },
          "metadata": {
            "needs_background": "light"
          }
        }
      ]
    },
    {
      "cell_type": "code",
      "source": [
        "def create_blue_rectangles(no_of_points, no_of_images):\n",
        "\n",
        "  for i in range(no_of_images):\n",
        "    x = np.random.randint(low = 10, high = 55, size=no_of_points)\n",
        "    y = np.random.randint(low = 10, high = 85, size=no_of_points)\n",
        "    fig = plt.figure(figsize=(1, 1))\n",
        "    ax = plt.subplot(111)\n",
        "    rect = matplotlib.patches.Rectangle((x, y), 40, 12, color ='blue')\n",
        "    ax.add_patch(rect)\n",
        "    plt.xlim((0,100))\n",
        "    plt.ylim((0,100))\n",
        "    plt.axis('off')\n",
        "    fig.savefig('gdrive/MyDrive/Colab_Notebooks/Projects/Inductive_Bias/Dataset/blue_rectangles/plot'+str(i)+'.png', bbox_inches='tight')\n",
        "    plt.clf()"
      ],
      "metadata": {
        "id": "MI3Yc5hw35EC"
      },
      "execution_count": 16,
      "outputs": []
    },
    {
      "cell_type": "markdown",
      "source": [
        "##Create Dataset"
      ],
      "metadata": {
        "id": "IWvTadMRC7Vy"
      }
    },
    {
      "cell_type": "code",
      "source": [
        "create_image_dataset(2, 2000, 'blue')"
      ],
      "metadata": {
        "id": "YdYwAEfCyuLy"
      },
      "execution_count": null,
      "outputs": []
    },
    {
      "cell_type": "code",
      "source": [
        "print(\"Done!\")"
      ],
      "metadata": {
        "colab": {
          "base_uri": "https://localhost:8080/"
        },
        "id": "h4hFmbzM2EcS",
        "outputId": "7b4e6459-bc9d-48b7-95e2-d15248cb374d"
      },
      "execution_count": null,
      "outputs": [
        {
          "output_type": "stream",
          "name": "stdout",
          "text": [
            "Done!\n"
          ]
        }
      ]
    },
    {
      "cell_type": "code",
      "source": [
        "create_image_dataset(3, 2000, 'blue')"
      ],
      "metadata": {
        "id": "A_eSgyMGD2rr"
      },
      "execution_count": null,
      "outputs": []
    },
    {
      "cell_type": "code",
      "source": [
        "print(\"Done!\")"
      ],
      "metadata": {
        "colab": {
          "base_uri": "https://localhost:8080/"
        },
        "id": "uDdChv0b2WRZ",
        "outputId": "fb09bb71-cd58-4218-b0c6-dbd6024c94a3"
      },
      "execution_count": null,
      "outputs": [
        {
          "output_type": "stream",
          "name": "stdout",
          "text": [
            "Done!\n"
          ]
        }
      ]
    },
    {
      "cell_type": "code",
      "source": [
        "create_blue_dots(1, 2000)"
      ],
      "metadata": {
        "id": "Q0B2JtPiF7sU"
      },
      "execution_count": null,
      "outputs": []
    },
    {
      "cell_type": "code",
      "source": [
        "create_blue_rectangles(1, 2000)"
      ],
      "metadata": {
        "id": "HGNJ6RItGEZZ"
      },
      "execution_count": null,
      "outputs": []
    },
    {
      "cell_type": "code",
      "source": [
        "print('Done!')"
      ],
      "metadata": {
        "colab": {
          "base_uri": "https://localhost:8080/"
        },
        "id": "Z5joS_VBl5IS",
        "outputId": "f47ccfd4-41c4-4b7e-96d4-f750f67a8a01"
      },
      "execution_count": 18,
      "outputs": [
        {
          "output_type": "stream",
          "name": "stdout",
          "text": [
            "Done!\n"
          ]
        }
      ]
    },
    {
      "cell_type": "code",
      "source": [
        "create_red_dots(1, 2000)"
      ],
      "metadata": {
        "id": "-kmQmK20GKLH"
      },
      "execution_count": null,
      "outputs": []
    },
    {
      "cell_type": "code",
      "source": [
        "print('hello')"
      ],
      "metadata": {
        "colab": {
          "base_uri": "https://localhost:8080/"
        },
        "id": "M1QiMa5iZwmc",
        "outputId": "ecdd48af-3f6c-4487-adf2-59c8fcbd966e"
      },
      "execution_count": null,
      "outputs": [
        {
          "output_type": "stream",
          "name": "stdout",
          "text": [
            "hello\n"
          ]
        }
      ]
    }
  ]
}